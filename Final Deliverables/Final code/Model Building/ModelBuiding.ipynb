{
  "nbformat": 4,
  "nbformat_minor": 0,
  "metadata": {
    "colab": {
      "provenance": [],
      "collapsed_sections": []
    },
    "kernelspec": {
      "name": "python3",
      "display_name": "Python 3"
    },
    "language_info": {
      "name": "python"
    }
  },
  "cells": [
    {
      "cell_type": "markdown",
      "source": [
        "#**Data Collection**\n",
        "\n"
      ],
      "metadata": {
        "id": "kPX5aZ14YP9t"
      }
    },
    {
      "cell_type": "code",
      "source": [
        "from google.colab import drive\n",
        "drive.mount('/content/drive')"
      ],
      "metadata": {
        "colab": {
          "base_uri": "https://localhost:8080/"
        },
        "id": "vZ2Pxnv_w7IA",
        "outputId": "0ca89e16-aefc-44a0-dc4e-62058732fccc"
      },
      "execution_count": 3,
      "outputs": [
        {
          "output_type": "stream",
          "name": "stdout",
          "text": [
            "Mounted at /content/drive\n",
            "Drive already mounted at /content/drive; to attempt to forcibly remount, call drive.mount(\"/content/drive\", force_remount=True).\n",
            "Drive already mounted at /content/drive; to attempt to forcibly remount, call drive.mount(\"/content/drive\", force_remount=True).\n"
          ]
        }
      ]
    },
    {
      "cell_type": "code",
      "execution_count": 4,
      "metadata": {
        "id": "23gnmUDjPHcn"
      },
      "outputs": [],
      "source": [
        "from keras.preprocessing.image import ImageDataGenerator\n"
      ]
    },
    {
      "cell_type": "markdown",
      "source": [
        "#Define the parameters/arguments for ImageDataGenertor Class"
      ],
      "metadata": {
        "id": "9_wVJNqaTF6T"
      }
    },
    {
      "cell_type": "code",
      "source": [
        "train_datagen=ImageDataGenerator(rescale=1./255,shear_range=0.2,zoom_range=0.2,horizontal_flip=True)\n"
      ],
      "metadata": {
        "id": "y-Hwg0qdSrL1"
      },
      "execution_count": 5,
      "outputs": []
    },
    {
      "cell_type": "markdown",
      "source": [
        "#Applying ImageDataGenerator functionality to trainset and testset"
      ],
      "metadata": {
        "id": "j__3wTwNTWKu"
      }
    },
    {
      "cell_type": "code",
      "source": [
        "train_datagen=ImageDataGenerator(rescale=1./255,shear_range=0.2,zoom_range=0.2,horizontal_flip=True)\n",
        "test_datagen=ImageDataGenerator(rescale=1./255)"
      ],
      "metadata": {
        "id": "y1viqu5YTEej"
      },
      "execution_count": 6,
      "outputs": []
    },
    {
      "cell_type": "code",
      "source": [
        "x_train=train_datagen.flow_from_directory(r'/content/drive/MyDrive/Dataset/test',target_size=(64,64),batch_size=32,color_mode='grayscale',class_mode='categorical')\n",
        "x_test=train_datagen.flow_from_directory(r'/content/drive/MyDrive/Dataset/train',target_size=(64,64),batch_size=32,color_mode='grayscale',class_mode='categorical')\n"
      ],
      "metadata": {
        "colab": {
          "base_uri": "https://localhost:8080/"
        },
        "id": "Hla59CojT94s",
        "outputId": "d64c419c-df4a-41d2-bf9a-6f80e24e1755"
      },
      "execution_count": 7,
      "outputs": [
        {
          "output_type": "stream",
          "name": "stdout",
          "text": [
            "Found 30 images belonging to 6 classes.\n",
            "Found 594 images belonging to 6 classes.\n"
          ]
        }
      ]
    },
    {
      "cell_type": "markdown",
      "source": [
        "#**Model Building**"
      ],
      "metadata": {
        "id": "76dtTiGIZCKf"
      }
    },
    {
      "cell_type": "markdown",
      "source": [
        "\n",
        "#Importing necessary libraries\n",
        "\n",
        "\n",
        "\n",
        "\n"
      ],
      "metadata": {
        "id": "uxUR_1DSYxkR"
      }
    },
    {
      "cell_type": "code",
      "source": [
        "import numpy as np\n",
        "import tensorflow\n",
        "from tensorflow.keras.models import Sequential\n",
        "from keras.models import Model\n",
        "from tensorflow.keras import layers\n",
        "from tensorflow.keras.layers import Dense,Flatten\n",
        "from tensorflow.keras.layers import Conv2D,MaxPooling2D"
      ],
      "metadata": {
        "id": "9KXUu-J0ZHsj"
      },
      "execution_count": 8,
      "outputs": []
    },
    {
      "cell_type": "markdown",
      "source": [
        "#Initializing The Model"
      ],
      "metadata": {
        "id": "HEW-uxdYaBQt"
      }
    },
    {
      "cell_type": "code",
      "source": [
        "model=Sequential()"
      ],
      "metadata": {
        "id": "64EIru-_aF48"
      },
      "execution_count": 9,
      "outputs": []
    },
    {
      "cell_type": "markdown",
      "source": [
        "#Adding CNN Layers"
      ],
      "metadata": {
        "id": "Pb-TwLItaM4M"
      }
    },
    {
      "cell_type": "code",
      "source": [
        "model.add(Conv2D(32,(3,3),input_shape=(64,64,1),activation='relu'))\n",
        "model.add(MaxPooling2D(pool_size=(2,2)))\n",
        "model.add(Conv2D(32,(3,3),activation='relu'))\n",
        "model.add(MaxPooling2D(pool_size=(2,2)))\n",
        "model.add(Flatten())"
      ],
      "metadata": {
        "id": "j5yg0WTVaQtu"
      },
      "execution_count": 10,
      "outputs": []
    },
    {
      "cell_type": "markdown",
      "source": [
        "#Adding Dense Layer"
      ],
      "metadata": {
        "id": "JerNUaB71YCl"
      }
    },
    {
      "cell_type": "code",
      "source": [
        "model.add(Dense(units=128,activation='relu'))\n",
        "model.add(Dense(units=6,activation='softmax'))"
      ],
      "metadata": {
        "id": "oJNRaP421bD_"
      },
      "execution_count": 11,
      "outputs": []
    },
    {
      "cell_type": "code",
      "source": [
        "model.summary()"
      ],
      "metadata": {
        "colab": {
          "base_uri": "https://localhost:8080/"
        },
        "id": "uwiO4qwA1qBw",
        "outputId": "8d814740-c5f4-44a8-e523-9dc6b2cdd526"
      },
      "execution_count": 12,
      "outputs": [
        {
          "output_type": "stream",
          "name": "stdout",
          "text": [
            "Model: \"sequential\"\n",
            "_________________________________________________________________\n",
            " Layer (type)                Output Shape              Param #   \n",
            "=================================================================\n",
            " conv2d (Conv2D)             (None, 62, 62, 32)        320       \n",
            "                                                                 \n",
            " max_pooling2d (MaxPooling2D  (None, 31, 31, 32)       0         \n",
            " )                                                               \n",
            "                                                                 \n",
            " conv2d_1 (Conv2D)           (None, 29, 29, 32)        9248      \n",
            "                                                                 \n",
            " max_pooling2d_1 (MaxPooling  (None, 14, 14, 32)       0         \n",
            " 2D)                                                             \n",
            "                                                                 \n",
            " flatten (Flatten)           (None, 6272)              0         \n",
            "                                                                 \n",
            " dense (Dense)               (None, 128)               802944    \n",
            "                                                                 \n",
            " dense_1 (Dense)             (None, 6)                 774       \n",
            "                                                                 \n",
            "=================================================================\n",
            "Total params: 813,286\n",
            "Trainable params: 813,286\n",
            "Non-trainable params: 0\n",
            "_________________________________________________________________\n"
          ]
        }
      ]
    },
    {
      "cell_type": "markdown",
      "source": [
        "#Configure The Learning Process"
      ],
      "metadata": {
        "id": "fVPRdq-i16Nw"
      }
    },
    {
      "cell_type": "code",
      "source": [
        "#Compiling the model\n",
        "model.compile(optimizer='adam',loss='categorical_crossentropy',metrics=['accuracy'])"
      ],
      "metadata": {
        "id": "ek3mgv_Y15mO"
      },
      "execution_count": 13,
      "outputs": []
    },
    {
      "cell_type": "markdown",
      "source": [
        "#Train The Model"
      ],
      "metadata": {
        "id": "K4ps1zNd2YEi"
      }
    },
    {
      "cell_type": "code",
      "source": [
        "#Fitting the model\n",
        "model.fit_generator(\n",
        "    generator=x_train,steps_per_epoch=len(x_train),\n",
        "    epochs=20,validation_data=x_test,validation_steps=len(x_test))"
      ],
      "metadata": {
        "colab": {
          "base_uri": "https://localhost:8080/"
        },
        "id": "0H-314Un2aMi",
        "outputId": "65cde673-cc1e-4086-ec78-d4ff9ebf6277"
      },
      "execution_count": 14,
      "outputs": [
        {
          "output_type": "stream",
          "name": "stderr",
          "text": [
            "/usr/local/lib/python3.7/dist-packages/ipykernel_launcher.py:4: UserWarning: `Model.fit_generator` is deprecated and will be removed in a future version. Please use `Model.fit`, which supports generators.\n",
            "  after removing the cwd from sys.path.\n"
          ]
        },
        {
          "output_type": "stream",
          "name": "stdout",
          "text": [
            "Epoch 1/20\n",
            "1/1 [==============================] - 192s 192s/step - loss: 1.8132 - accuracy: 0.1000 - val_loss: 1.9468 - val_accuracy: 0.1667\n",
            "Epoch 2/20\n",
            "1/1 [==============================] - 3s 3s/step - loss: 1.9163 - accuracy: 0.1667 - val_loss: 1.7929 - val_accuracy: 0.1667\n",
            "Epoch 3/20\n",
            "1/1 [==============================] - 2s 2s/step - loss: 1.7248 - accuracy: 0.1667 - val_loss: 1.7608 - val_accuracy: 0.1970\n",
            "Epoch 4/20\n",
            "1/1 [==============================] - 2s 2s/step - loss: 1.7153 - accuracy: 0.3667 - val_loss: 1.7680 - val_accuracy: 0.2138\n",
            "Epoch 5/20\n",
            "1/1 [==============================] - 2s 2s/step - loss: 1.7019 - accuracy: 0.4000 - val_loss: 1.7479 - val_accuracy: 0.2609\n",
            "Epoch 6/20\n",
            "1/1 [==============================] - 3s 3s/step - loss: 1.6529 - accuracy: 0.4333 - val_loss: 1.7137 - val_accuracy: 0.3148\n",
            "Epoch 7/20\n",
            "1/1 [==============================] - 2s 2s/step - loss: 1.5702 - accuracy: 0.5333 - val_loss: 1.6873 - val_accuracy: 0.3552\n",
            "Epoch 8/20\n",
            "1/1 [==============================] - 2s 2s/step - loss: 1.5037 - accuracy: 0.8000 - val_loss: 1.6623 - val_accuracy: 0.3805\n",
            "Epoch 9/20\n",
            "1/1 [==============================] - 2s 2s/step - loss: 1.4323 - accuracy: 0.9000 - val_loss: 1.6369 - val_accuracy: 0.3956\n",
            "Epoch 10/20\n",
            "1/1 [==============================] - 3s 3s/step - loss: 1.3571 - accuracy: 0.8333 - val_loss: 1.6195 - val_accuracy: 0.4091\n",
            "Epoch 11/20\n",
            "1/1 [==============================] - 2s 2s/step - loss: 1.2504 - accuracy: 0.8667 - val_loss: 1.5786 - val_accuracy: 0.4343\n",
            "Epoch 12/20\n",
            "1/1 [==============================] - 2s 2s/step - loss: 1.1728 - accuracy: 0.9333 - val_loss: 1.5523 - val_accuracy: 0.4175\n",
            "Epoch 13/20\n",
            "1/1 [==============================] - 2s 2s/step - loss: 1.0105 - accuracy: 0.9000 - val_loss: 1.5366 - val_accuracy: 0.3956\n",
            "Epoch 14/20\n",
            "1/1 [==============================] - 3s 3s/step - loss: 0.9139 - accuracy: 0.8667 - val_loss: 1.5445 - val_accuracy: 0.4007\n",
            "Epoch 15/20\n",
            "1/1 [==============================] - 3s 3s/step - loss: 0.8497 - accuracy: 0.8000 - val_loss: 1.5404 - val_accuracy: 0.4091\n",
            "Epoch 16/20\n",
            "1/1 [==============================] - 3s 3s/step - loss: 0.7211 - accuracy: 0.9000 - val_loss: 1.5780 - val_accuracy: 0.4226\n",
            "Epoch 17/20\n",
            "1/1 [==============================] - 3s 3s/step - loss: 0.6687 - accuracy: 0.8667 - val_loss: 1.6104 - val_accuracy: 0.3771\n",
            "Epoch 18/20\n",
            "1/1 [==============================] - 3s 3s/step - loss: 0.5809 - accuracy: 0.9333 - val_loss: 1.7528 - val_accuracy: 0.4141\n",
            "Epoch 19/20\n",
            "1/1 [==============================] - 2s 2s/step - loss: 0.4449 - accuracy: 0.9000 - val_loss: 1.8912 - val_accuracy: 0.4327\n",
            "Epoch 20/20\n",
            "1/1 [==============================] - 2s 2s/step - loss: 0.5789 - accuracy: 0.9333 - val_loss: 1.8696 - val_accuracy: 0.4529\n"
          ]
        },
        {
          "output_type": "execute_result",
          "data": {
            "text/plain": [
              "<keras.callbacks.History at 0x7ff64a5db5d0>"
            ]
          },
          "metadata": {},
          "execution_count": 14
        }
      ]
    },
    {
      "cell_type": "markdown",
      "source": [
        "#Save The Model"
      ],
      "metadata": {
        "id": "8CphdsL93Xkn"
      }
    },
    {
      "cell_type": "code",
      "source": [
        "#Saving our model\n",
        "model.save('gesture.h5')\n",
        "model_json=model.to_json()\n",
        "with open(\"model-bw.json\",\"w\") as json_file:\n",
        "  json_file.write(model_json)"
      ],
      "metadata": {
        "id": "toBEihDo3ava"
      },
      "execution_count": 15,
      "outputs": []
    },
    {
      "cell_type": "markdown",
      "source": [
        "#Test The Model"
      ],
      "metadata": {
        "id": "ikPl7AAB3_7Q"
      }
    },
    {
      "cell_type": "code",
      "source": [
        "import numpy as np\n",
        "from tensorflow.keras.models import load_model\n",
        "from tensorflow.keras.preprocessing import image\n",
        "test_model=load_model('gesture.h5')"
      ],
      "metadata": {
        "id": "7reG-hSOKmCR"
      },
      "execution_count": 16,
      "outputs": []
    },
    {
      "cell_type": "code",
      "source": [
        "img=image.load_img('/content/drive/MyDrive/Dataset/test/1/1.jpg',target_size=(64,64))\n",
        "x=image.img_to_array(img)\n",
        "x=np.expand_dims(x,axis=0)\n",
        "predict_x=(model.predict(x_test)>0.5).astype(\"int64\")\n",
        "pred=np.argmax(predict_x,axis=-1)\n",
        "pred"
      ],
      "metadata": {
        "colab": {
          "base_uri": "https://localhost:8080/"
        },
        "id": "SJh4JoE8KwTe",
        "outputId": "b31d90c1-48bf-4d16-b393-c29eeb1aef42"
      },
      "execution_count": 17,
      "outputs": [
        {
          "output_type": "stream",
          "name": "stdout",
          "text": [
            "19/19 [==============================] - 3s 129ms/step\n"
          ]
        },
        {
          "output_type": "execute_result",
          "data": {
            "text/plain": [
              "array([0, 0, 2, 0, 0, 0, 0, 1, 2, 5, 5, 0, 0, 0, 4, 0, 0, 2, 0, 1, 2, 5,\n",
              "       2, 1, 4, 5, 5, 4, 0, 5, 1, 4, 4, 0, 4, 2, 5, 3, 0, 0, 0, 5, 0, 0,\n",
              "       2, 2, 5, 1, 5, 2, 2, 0, 2, 5, 0, 5, 5, 2, 0, 0, 0, 2, 3, 0, 5, 0,\n",
              "       5, 2, 0, 4, 2, 2, 1, 2, 0, 2, 4, 5, 5, 3, 2, 2, 2, 0, 5, 5, 5, 0,\n",
              "       0, 3, 5, 1, 0, 5, 0, 0, 5, 2, 5, 5, 0, 5, 5, 2, 5, 3, 2, 0, 1, 5,\n",
              "       0, 0, 2, 3, 0, 3, 0, 1, 5, 1, 2, 5, 2, 2, 0, 0, 0, 5, 5, 5, 0, 5,\n",
              "       2, 0, 0, 2, 2, 2, 3, 0, 0, 5, 2, 5, 5, 5, 0, 5, 5, 5, 0, 5, 2, 1,\n",
              "       0, 0, 2, 2, 0, 0, 2, 1, 2, 0, 0, 1, 0, 5, 0, 0, 5, 0, 0, 0, 2, 5,\n",
              "       0, 0, 0, 5, 5, 2, 0, 4, 2, 0, 0, 0, 3, 0, 2, 0, 0, 0, 0, 0, 1, 5,\n",
              "       2, 5, 0, 2, 2, 5, 0, 0, 0, 5, 5, 2, 5, 0, 1, 5, 0, 2, 0, 4, 5, 2,\n",
              "       0, 1, 5, 0, 5, 0, 2, 0, 5, 0, 0, 5, 5, 0, 1, 0, 5, 5, 5, 2, 0, 0,\n",
              "       2, 2, 2, 0, 0, 5, 0, 0, 5, 0, 0, 5, 2, 0, 5, 0, 0, 2, 0, 0, 2, 2,\n",
              "       5, 5, 0, 0, 2, 0, 5, 4, 0, 5, 0, 2, 2, 2, 3, 0, 5, 0, 3, 5, 5, 0,\n",
              "       5, 5, 5, 2, 0, 0, 4, 2, 5, 0, 0, 0, 3, 0, 2, 1, 0, 2, 5, 5, 5, 2,\n",
              "       2, 0, 0, 0, 2, 5, 4, 0, 0, 0, 5, 0, 2, 2, 0, 2, 2, 3, 0, 0, 0, 5,\n",
              "       4, 0, 0, 0, 0, 5, 1, 5, 5, 5, 0, 0, 3, 5, 0, 2, 0, 2, 1, 0, 2, 5,\n",
              "       5, 5, 5, 5, 0, 5, 0, 0, 0, 0, 5, 3, 0, 0, 2, 0, 0, 2, 2, 2, 0, 5,\n",
              "       0, 0, 2, 2, 5, 0, 5, 5, 5, 0, 3, 5, 5, 5, 0, 3, 0, 0, 0, 0, 2, 5,\n",
              "       0, 5, 4, 0, 2, 1, 5, 2, 2, 5, 0, 5, 1, 1, 0, 0, 4, 0, 0, 5, 0, 5,\n",
              "       0, 5, 2, 5, 1, 0, 0, 3, 1, 5, 2, 2, 0, 0, 5, 1, 2, 5, 3, 2, 1, 0,\n",
              "       0, 2, 2, 0, 2, 2, 2, 5, 5, 5, 0, 2, 0, 5, 4, 3, 2, 2, 2, 2, 4, 1,\n",
              "       0, 3, 5, 2, 1, 0, 2, 2, 0, 1, 0, 5, 0, 2, 2, 5, 0, 0, 2, 5, 5, 5,\n",
              "       2, 5, 2, 2, 2, 0, 2, 3, 2, 5, 5, 5, 0, 0, 2, 2, 2, 5, 5, 5, 1, 5,\n",
              "       2, 0, 1, 3, 2, 1, 2, 5, 0, 1, 2, 0, 1, 0, 4, 0, 2, 0, 5, 2, 2, 2,\n",
              "       2, 0, 2, 0, 3, 5, 0, 2, 2, 0, 3, 0, 0, 5, 2, 2, 0, 2, 3, 0, 1, 5,\n",
              "       0, 1, 5, 5, 2, 2, 5, 2, 2, 5, 3, 5, 1, 5, 5, 2, 2, 2, 5, 3, 5, 0,\n",
              "       5, 0, 5, 2, 0, 5, 0, 5, 0, 0, 5, 5, 2, 5, 5, 2, 5, 4, 2, 0, 5, 0])"
            ]
          },
          "metadata": {},
          "execution_count": 17
        }
      ]
    },
    {
      "cell_type": "code",
      "source": [
        "img=image.load_img('/content/drive/MyDrive/5.jpg',target_size=(64,64))\n",
        "x=image.img_to_array(img)\n",
        "x=np.expand_dims(x,axis=0)\n",
        "predict_x=model.predict(x_test)\n",
        "classes_x=np.argmax(predict_x,axis=1)\n",
        "classes_x\n",
        "predict_x"
      ],
      "metadata": {
        "id": "B64y9zlMLqbI",
        "colab": {
          "base_uri": "https://localhost:8080/"
        },
        "outputId": "469bf371-3cef-4252-9103-6c8ddbca283e"
      },
      "execution_count": 18,
      "outputs": [
        {
          "output_type": "stream",
          "name": "stdout",
          "text": [
            "19/19 [==============================] - 2s 128ms/step\n"
          ]
        },
        {
          "output_type": "execute_result",
          "data": {
            "text/plain": [
              "array([[1.32047059e-03, 7.90342223e-03, 3.12708884e-01, 8.78267363e-02,\n",
              "        2.02553108e-01, 3.87687325e-01],\n",
              "       [8.03391814e-01, 7.15327337e-02, 1.74951367e-02, 4.83347923e-02,\n",
              "        6.27010316e-03, 5.29755652e-02],\n",
              "       [8.34004313e-04, 1.16762757e-01, 4.53352332e-01, 8.19708481e-02,\n",
              "        8.51902291e-02, 2.61889786e-01],\n",
              "       ...,\n",
              "       [1.73872954e-03, 7.74009246e-03, 3.67969014e-02, 1.06071636e-01,\n",
              "        3.77678536e-02, 8.09884787e-01],\n",
              "       [2.32750128e-04, 5.45436935e-03, 1.57653734e-01, 1.16345333e-03,\n",
              "        4.43199929e-03, 8.31063688e-01],\n",
              "       [2.20647198e-03, 6.66014254e-02, 3.16099077e-01, 3.01311556e-02,\n",
              "        9.52333361e-02, 4.89728481e-01]], dtype=float32)"
            ]
          },
          "metadata": {},
          "execution_count": 18
        }
      ]
    },
    {
      "cell_type": "code",
      "source": [
        "import matplotlib.pyplot as plt\n",
        "import matplotlib.image as mpimg\n",
        "img=mpimg.imread('/content/drive/MyDrive/5.jpg')\n",
        "imgplot=plt.imshow(img)\n",
        "plt.show()"
      ],
      "metadata": {
        "colab": {
          "base_uri": "https://localhost:8080/",
          "height": 269
        },
        "id": "blMt4nu43uiN",
        "outputId": "4511d1b2-88f3-4b06-c388-8c094bbb8dd3"
      },
      "execution_count": 19,
      "outputs": [
        {
          "output_type": "display_data",
          "data": {
            "text/plain": [
              "<Figure size 432x288 with 1 Axes>"
            ],
            "image/png": "[encoded data removed]"
          },
          "metadata": {
            "needs_background": "light"
          }
        }
      ]
    },
    {
      "cell_type": "code",
      "source": [
        "imgload=image.load_img('/content/drive/MyDrive/5.jpg',color_mode='grayscale',target_size=(64,64))\n",
        "res=image.img_to_array(imgload)\n",
        "res.shape\n"
      ],
      "metadata": {
        "colab": {
          "base_uri": "https://localhost:8080/"
        },
        "id": "rW7teJku4J_z",
        "outputId": "01700b45-d98c-414f-8406-a2df9231ff82"
      },
      "execution_count": 20,
      "outputs": [
        {
          "output_type": "execute_result",
          "data": {
            "text/plain": [
              "(64, 64, 1)"
            ]
          },
          "metadata": {},
          "execution_count": 20
        }
      ]
    },
    {
      "cell_type": "code",
      "source": [
        "type(res)"
      ],
      "metadata": {
        "colab": {
          "base_uri": "https://localhost:8080/"
        },
        "id": "uFWju0VH46ik",
        "outputId": "dab42947-9e05-4edd-8239-cf3b80723345"
      },
      "execution_count": 21,
      "outputs": [
        {
          "output_type": "execute_result",
          "data": {
            "text/plain": [
              "numpy.ndarray"
            ]
          },
          "metadata": {},
          "execution_count": 21
        }
      ]
    },
    {
      "cell_type": "code",
      "source": [
        "res=np.expand_dims(res,axis=0)\n",
        "res.shape"
      ],
      "metadata": {
        "colab": {
          "base_uri": "https://localhost:8080/"
        },
        "id": "jo8JrHo64_dL",
        "outputId": "9f92f6cc-3ee1-4134-ef1f-8cbdc91f09a1"
      },
      "execution_count": 22,
      "outputs": [
        {
          "output_type": "execute_result",
          "data": {
            "text/plain": [
              "(1, 64, 64, 1)"
            ]
          },
          "metadata": {},
          "execution_count": 22
        }
      ]
    },
    {
      "cell_type": "markdown",
      "source": [
        "#Predict the result"
      ],
      "metadata": {
        "id": "f221slgW5N52"
      }
    },
    {
      "cell_type": "code",
      "source": [
        "pred_res=np.argmax(test_model.predict(res),axis=-1)\n",
        "pred_res"
      ],
      "metadata": {
        "id": "3_To6REQ5M5s",
        "colab": {
          "base_uri": "https://localhost:8080/"
        },
        "outputId": "44191b22-fc70-4937-fb3b-941dbb45d3af"
      },
      "execution_count": 23,
      "outputs": [
        {
          "output_type": "stream",
          "name": "stdout",
          "text": [
            "1/1 [==============================] - 0s 117ms/step\n"
          ]
        },
        {
          "output_type": "execute_result",
          "data": {
            "text/plain": [
              "array([5])"
            ]
          },
          "metadata": {},
          "execution_count": 23
        }
      ]
    },
    {
      "cell_type": "code",
      "source": [
        "index=['0','1','2','3','4','5']\n",
        "result=str(index[pred_res[0]])\n",
        "result"
      ],
      "metadata": {
        "id": "xI45qOZtdZ0Q",
        "colab": {
          "base_uri": "https://localhost:8080/",
          "height": 35
        },
        "outputId": "951db696-3321-427b-a2d4-ce84ca5429da"
      },
      "execution_count": 25,
      "outputs": [
        {
          "output_type": "execute_result",
          "data": {
            "text/plain": [
              "'5'"
            ],
            "application/vnd.google.colaboratory.intrinsic+json": {
              "type": "string"
            }
          },
          "metadata": {},
          "execution_count": 25
        }
      ]
    },
    {
      "cell_type": "code",
      "source": [],
      "metadata": {
        "id": "VK2ido6-RLbH"
      },
      "execution_count": null,
      "outputs": []
    }
  ]
}