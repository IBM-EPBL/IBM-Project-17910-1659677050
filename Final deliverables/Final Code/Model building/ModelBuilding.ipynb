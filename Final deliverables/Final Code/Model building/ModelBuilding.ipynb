{
  "nbformat": 4,
  "nbformat_minor": 0,
  "metadata": {
    "colab": {
      "provenance": []
    },
    "kernelspec": {
      "name": "python3",
      "display_name": "Python 3"
    },
    "language_info": {
      "name": "python"
    }
  },
  "cells": [
    {
      "cell_type": "markdown",
      "source": [
        "#**Model Building**"
      ],
      "metadata": {
        "id": "PReuVnraMKru"
      }
    },
    {
      "cell_type": "markdown",
      "source": [
        "#Importing libraries"
      ],
      "metadata": {
        "id": "_e7TOK_sMaXC"
      }
    },
    {
      "cell_type": "code",
      "source": [
        "# This library helps add support for large, multi-dimensional arrays and matrices\n",
        "import numpy as np\n",
        "#open source used for both ML and DL for computation\n",
        "import tensorflow as tf\n",
        "#it is a plain stack of layers\n",
        "from tensorflow.keras.models import Sequential \n",
        "#Dense layer is the regular deeply connected neural network layer\n",
        "from tensorflow.keras.layers import Dense,Flatten, Dropout\n",
        "#Faltten-used fot flattening the input or change the dimension, MaxPooling2D-for downsampling the image for Convolutional layer\n",
        "from tensorflow.keras.layers import Convolution2D,MaxPooling2D \n",
        "#Its used for different augmentation of the image \n",
        "from tensorflow.keras.preprocessing.image import ImageDataGenerator"
      ],
      "metadata": {
        "id": "BUsPMiSQMZmh"
      },
      "execution_count": 1,
      "outputs": []
    },
    {
      "cell_type": "markdown",
      "source": [
        "#Augmenting the data"
      ],
      "metadata": {
        "id": "I_PotDIoMoad"
      }
    },
    {
      "cell_type": "code",
      "source": [
        "#setting parameter for Image Data agumentation to the traing data\n",
        "train_datagen = ImageDataGenerator(rescale=1./255,\n",
        "                                   shear_range=0.2,\n",
        "                                   zoom_range=0.2,\n",
        "                                   horizontal_flip=True)\n",
        "#Image Data agumentation to the testing data\n",
        "test_datagen=ImageDataGenerator(rescale=1./255)"
      ],
      "metadata": {
        "id": "TNs_ZW6VMqce"
      },
      "execution_count": 2,
      "outputs": []
    },
    {
      "cell_type": "markdown",
      "source": [
        "#Loading our data and performing data agumentation"
      ],
      "metadata": {
        "id": "QR5RX5DYMx3j"
      }
    },
    {
      "cell_type": "code",
      "source": [
        "#performing data agumentation to train data\n",
        "x_train = train_datagen.flow_from_directory(r'/content/drive/MyDrive/Dataset/train',\n",
        "                                            target_size=(64, 64),\n",
        "                                            batch_size=3,\n",
        "                                            color_mode='grayscale',\n",
        "                                            class_mode='categorical')\n",
        "#performing data agumentation to test data\n",
        "x_test = test_datagen.flow_from_directory(r'/content/drive/MyDrive/Dataset/test',\n",
        "                                          target_size=(64, 64),\n",
        "                                          batch_size=3,\n",
        "                                          color_mode='grayscale',\n",
        "                                          class_mode='categorical') "
      ],
      "metadata": {
        "colab": {
          "base_uri": "https://localhost:8080/"
        },
        "id": "1TWbkVFvM0uN",
        "outputId": "273d8a1c-50e7-4bbd-a3f2-fde06dc2593a"
      },
      "execution_count": 4,
      "outputs": [
        {
          "output_type": "stream",
          "name": "stdout",
          "text": [
            "Found 594 images belonging to 6 classes.\n",
            "Found 30 images belonging to 6 classes.\n"
          ]
        }
      ]
    },
    {
      "cell_type": "code",
      "source": [
        "print(x_train.class_indices)#checking the number of classes"
      ],
      "metadata": {
        "colab": {
          "base_uri": "https://localhost:8080/"
        },
        "id": "-bmvTg5mN7nu",
        "outputId": "ff0e8e53-0947-4b7e-e04f-5eec4d2cd1c1"
      },
      "execution_count": 5,
      "outputs": [
        {
          "output_type": "stream",
          "name": "stdout",
          "text": [
            "{'0': 0, '1': 1, '2': 2, '3': 3, '4': 4, '5': 5}\n"
          ]
        }
      ]
    },
    {
      "cell_type": "markdown",
      "source": [
        "#Model Creation"
      ],
      "metadata": {
        "id": "euF4PhRMN_um"
      }
    },
    {
      "cell_type": "code",
      "source": [
        "# Initializing the CNN\n",
        "model = Sequential()"
      ],
      "metadata": {
        "id": "_9CVZ66hN-pj"
      },
      "execution_count": 6,
      "outputs": []
    },
    {
      "cell_type": "code",
      "source": [
        "# First convolution layer and pooling\n",
        "model.add(Convolution2D(32, (3, 3), input_shape=(64, 64, 1), activation='relu'))\n",
        "model.add(MaxPooling2D(pool_size=(2, 2)))"
      ],
      "metadata": {
        "id": "nLALwktqOGma"
      },
      "execution_count": 7,
      "outputs": []
    },
    {
      "cell_type": "code",
      "source": [
        "# Second convolution layer and pooling\n",
        "model.add(Convolution2D(32, (3, 3), activation='relu'))\n",
        "# input_shape is going to be the pooled feature maps from the previous convolution layer\n",
        "model.add(MaxPooling2D(pool_size=(2,2)))"
      ],
      "metadata": {
        "id": "GDwq2Y4tOKMv"
      },
      "execution_count": 8,
      "outputs": []
    },
    {
      "cell_type": "code",
      "source": [
        "# Flattening the layers i.e. input layer\n",
        "model.add(Flatten())"
      ],
      "metadata": {
        "id": "6DfbUBoSOOLo"
      },
      "execution_count": 9,
      "outputs": []
    },
    {
      "cell_type": "code",
      "source": [
        "# Adding a fully connected layer, i.e. Hidden Layer\n",
        "model.add(Dense(units=512 , activation='relu'))"
      ],
      "metadata": {
        "id": "kyUBp_ULORm0"
      },
      "execution_count": 10,
      "outputs": []
    },
    {
      "cell_type": "code",
      "source": [
        "# softmax for categorical analysis, Output Layer\n",
        "model.add(Dense(units=6, activation='softmax')) "
      ],
      "metadata": {
        "id": "kCD6amVXOX5L"
      },
      "execution_count": 11,
      "outputs": []
    },
    {
      "cell_type": "code",
      "source": [
        "model.summary()#summary of our model"
      ],
      "metadata": {
        "colab": {
          "base_uri": "https://localhost:8080/"
        },
        "id": "LGhCQBACObEk",
        "outputId": "62bc0e41-d55e-40eb-dd83-89ebb8de1bc9"
      },
      "execution_count": 12,
      "outputs": [
        {
          "output_type": "stream",
          "name": "stdout",
          "text": [
            "Model: \"sequential\"\n",
            "_________________________________________________________________\n",
            " Layer (type)                Output Shape              Param #   \n",
            "=================================================================\n",
            " conv2d (Conv2D)             (None, 62, 62, 32)        320       \n",
            "                                                                 \n",
            " max_pooling2d (MaxPooling2D  (None, 31, 31, 32)       0         \n",
            " )                                                               \n",
            "                                                                 \n",
            " conv2d_1 (Conv2D)           (None, 29, 29, 32)        9248      \n",
            "                                                                 \n",
            " max_pooling2d_1 (MaxPooling  (None, 14, 14, 32)       0         \n",
            " 2D)                                                             \n",
            "                                                                 \n",
            " flatten (Flatten)           (None, 6272)              0         \n",
            "                                                                 \n",
            " dense (Dense)               (None, 512)               3211776   \n",
            "                                                                 \n",
            " dense_1 (Dense)             (None, 6)                 3078      \n",
            "                                                                 \n",
            "=================================================================\n",
            "Total params: 3,224,422\n",
            "Trainable params: 3,224,422\n",
            "Non-trainable params: 0\n",
            "_________________________________________________________________\n"
          ]
        }
      ]
    },
    {
      "cell_type": "markdown",
      "source": [
        "#Model Compilation"
      ],
      "metadata": {
        "id": "6wzkV6d5Ofqu"
      }
    },
    {
      "cell_type": "code",
      "source": [
        "# Compiling the CNN\n",
        "# categorical_crossentropy for more than 2\n",
        "model.compile(optimizer='adam', loss='categorical_crossentropy', metrics=['accuracy']) "
      ],
      "metadata": {
        "id": "536-w3nUOgxG"
      },
      "execution_count": 13,
      "outputs": []
    },
    {
      "cell_type": "markdown",
      "source": [
        "#Model fitting"
      ],
      "metadata": {
        "id": "zeW_EzplOpYy"
      }
    },
    {
      "cell_type": "code",
      "source": [
        "# It will generate packets of train and test data for training\n",
        "model.fit_generator(x_train,\n",
        "                    steps_per_epoch = 594/3 , \n",
        "                    epochs = 25, \n",
        "                    validation_data = x_test,\n",
        "                    validation_steps = 30/3 )"
      ],
      "metadata": {
        "colab": {
          "base_uri": "https://localhost:8080/"
        },
        "id": "n03ilthxOqWL",
        "outputId": "e13a4441-dcca-4b7b-d883-5f90b3df64b5"
      },
      "execution_count": 14,
      "outputs": [
        {
          "output_type": "stream",
          "name": "stderr",
          "text": [
            "/usr/local/lib/python3.7/dist-packages/ipykernel_launcher.py:6: UserWarning: `Model.fit_generator` is deprecated and will be removed in a future version. Please use `Model.fit`, which supports generators.\n",
            "  \n"
          ]
        },
        {
          "output_type": "stream",
          "name": "stdout",
          "text": [
            "Epoch 1/25\n",
            "198/198 [==============================] - 188s 947ms/step - loss: 1.3411 - accuracy: 0.4529 - val_loss: 0.9945 - val_accuracy: 0.6333\n",
            "Epoch 2/25\n",
            "198/198 [==============================] - 13s 63ms/step - loss: 0.6598 - accuracy: 0.7458 - val_loss: 0.4804 - val_accuracy: 0.8000\n",
            "Epoch 3/25\n",
            "198/198 [==============================] - 13s 65ms/step - loss: 0.4191 - accuracy: 0.8350 - val_loss: 0.4774 - val_accuracy: 0.8000\n",
            "Epoch 4/25\n",
            "198/198 [==============================] - 13s 63ms/step - loss: 0.3507 - accuracy: 0.8519 - val_loss: 0.2917 - val_accuracy: 0.9333\n",
            "Epoch 5/25\n",
            "198/198 [==============================] - 13s 65ms/step - loss: 0.2435 - accuracy: 0.8973 - val_loss: 0.4860 - val_accuracy: 0.9000\n",
            "Epoch 6/25\n",
            "198/198 [==============================] - 13s 64ms/step - loss: 0.1931 - accuracy: 0.9377 - val_loss: 0.3763 - val_accuracy: 0.8667\n",
            "Epoch 7/25\n",
            "198/198 [==============================] - 14s 69ms/step - loss: 0.1574 - accuracy: 0.9411 - val_loss: 0.2478 - val_accuracy: 0.9333\n",
            "Epoch 8/25\n",
            "198/198 [==============================] - 13s 65ms/step - loss: 0.0977 - accuracy: 0.9731 - val_loss: 0.2410 - val_accuracy: 0.9333\n",
            "Epoch 9/25\n",
            "198/198 [==============================] - 13s 64ms/step - loss: 0.1225 - accuracy: 0.9596 - val_loss: 0.1948 - val_accuracy: 0.9667\n",
            "Epoch 10/25\n",
            "198/198 [==============================] - 13s 66ms/step - loss: 0.0811 - accuracy: 0.9781 - val_loss: 0.3823 - val_accuracy: 0.8667\n",
            "Epoch 11/25\n",
            "198/198 [==============================] - 13s 64ms/step - loss: 0.0587 - accuracy: 0.9815 - val_loss: 0.1342 - val_accuracy: 0.9667\n",
            "Epoch 12/25\n",
            "198/198 [==============================] - 13s 64ms/step - loss: 0.1070 - accuracy: 0.9646 - val_loss: 0.2761 - val_accuracy: 0.8667\n",
            "Epoch 13/25\n",
            "198/198 [==============================] - 13s 64ms/step - loss: 0.0622 - accuracy: 0.9848 - val_loss: 0.2387 - val_accuracy: 0.9667\n",
            "Epoch 14/25\n",
            "198/198 [==============================] - 13s 64ms/step - loss: 0.0374 - accuracy: 0.9865 - val_loss: 0.2658 - val_accuracy: 0.9333\n",
            "Epoch 15/25\n",
            "198/198 [==============================] - 13s 65ms/step - loss: 0.0593 - accuracy: 0.9798 - val_loss: 0.2050 - val_accuracy: 0.9000\n",
            "Epoch 16/25\n",
            "198/198 [==============================] - 13s 66ms/step - loss: 0.0621 - accuracy: 0.9798 - val_loss: 0.2802 - val_accuracy: 0.9000\n",
            "Epoch 17/25\n",
            "198/198 [==============================] - 13s 66ms/step - loss: 0.0476 - accuracy: 0.9815 - val_loss: 0.1751 - val_accuracy: 0.9667\n",
            "Epoch 18/25\n",
            "198/198 [==============================] - 14s 69ms/step - loss: 0.1175 - accuracy: 0.9630 - val_loss: 0.6010 - val_accuracy: 0.8667\n",
            "Epoch 19/25\n",
            "198/198 [==============================] - 16s 82ms/step - loss: 0.0414 - accuracy: 0.9882 - val_loss: 0.2007 - val_accuracy: 0.9667\n",
            "Epoch 20/25\n",
            "198/198 [==============================] - 13s 64ms/step - loss: 0.0647 - accuracy: 0.9731 - val_loss: 0.0685 - val_accuracy: 0.9667\n",
            "Epoch 21/25\n",
            "198/198 [==============================] - 13s 66ms/step - loss: 0.0222 - accuracy: 0.9899 - val_loss: 0.1873 - val_accuracy: 0.9667\n",
            "Epoch 22/25\n",
            "198/198 [==============================] - 13s 65ms/step - loss: 0.0488 - accuracy: 0.9832 - val_loss: 0.2340 - val_accuracy: 0.8333\n",
            "Epoch 23/25\n",
            "198/198 [==============================] - 13s 64ms/step - loss: 0.0099 - accuracy: 0.9983 - val_loss: 0.4758 - val_accuracy: 0.8667\n",
            "Epoch 24/25\n",
            "198/198 [==============================] - 14s 71ms/step - loss: 0.0481 - accuracy: 0.9815 - val_loss: 0.4642 - val_accuracy: 0.9667\n",
            "Epoch 25/25\n",
            "198/198 [==============================] - 13s 66ms/step - loss: 0.0369 - accuracy: 0.9933 - val_loss: 0.3330 - val_accuracy: 0.9333\n"
          ]
        },
        {
          "output_type": "execute_result",
          "data": {
            "text/plain": [
              "<keras.callbacks.History at 0x7fd2a2de8910>"
            ]
          },
          "metadata": {},
          "execution_count": 14
        }
      ]
    },
    {
      "cell_type": "markdown",
      "source": [
        "#Saving model"
      ],
      "metadata": {
        "id": "o9Cane96SCUE"
      }
    },
    {
      "cell_type": "code",
      "source": [
        "# Save the model\n",
        "model.save('gesture.h5')"
      ],
      "metadata": {
        "id": "pXYPU4e_Rlzz"
      },
      "execution_count": 15,
      "outputs": []
    },
    {
      "cell_type": "code",
      "source": [
        "model_json = model.to_json()\n",
        "with open(\"model-bw.json\", \"w\") as json_file:\n",
        "    json_file.write(model_json)"
      ],
      "metadata": {
        "id": "TyAkluN3UqU0"
      },
      "execution_count": 16,
      "outputs": []
    }
  ]
}