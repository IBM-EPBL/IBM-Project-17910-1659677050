{
  "nbformat": 4,
  "nbformat_minor": 0,
  "metadata": {
    "colab": {
      "provenance": []
    },
    "kernelspec": {
      "name": "python3",
      "display_name": "Python 3"
    },
    "language_info": {
      "name": "python"
    }
  },
  "cells": [
    {
      "cell_type": "markdown",
      "source": [
        "#**Data Collection**\n",
        "\n"
      ],
      "metadata": {
        "id": "kPX5aZ14YP9t"
      }
    },
    {
      "cell_type": "code",
      "source": [
        "# Extract zip Folder\n",
        "\n",
        "!unzip '/content/Dataset.zip'"
      ],
      "metadata": {
        "colab": {
          "base_uri": "https://localhost:8080/"
        },
        "id": "vZ2Pxnv_w7IA",
        "outputId": "1d890ca4-d80f-44d4-a6fe-a3fadcf22da3"
      },
      "execution_count": null,
      "outputs": [
        {
          "metadata": {
            "tags": null
          },
          "name": "stdout",
          "output_type": "stream",
          "text": [
            "Archive:  /content/Dataset.zip\n",
            "replace Dataset/test/1/3.jpg? [y]es, [n]o, [A]ll, [N]one, [r]ename: "
          ]
        }
      ]
    },
    {
      "cell_type": "code",
      "execution_count": null,
      "metadata": {
        "id": "23gnmUDjPHcn"
      },
      "outputs": [],
      "source": [
        "from keras.preprocessing.image import ImageDataGenerator\n"
      ]
    },
    {
      "cell_type": "markdown",
      "source": [
        "#Define the parameters/arguments for ImageDataGenertor Class"
      ],
      "metadata": {
        "id": "9_wVJNqaTF6T"
      }
    },
    {
      "cell_type": "code",
      "source": [
        "train_datagen=ImageDataGenerator(rescale=1./255,shear_range=0.2,zoom_range=0.2,horizontal_flip=True)\n"
      ],
      "metadata": {
        "id": "y-Hwg0qdSrL1"
      },
      "execution_count": null,
      "outputs": []
    },
    {
      "cell_type": "markdown",
      "source": [
        "#Applying ImageDataGenerator functionality to trainset and testset"
      ],
      "metadata": {
        "id": "j__3wTwNTWKu"
      }
    },
    {
      "cell_type": "code",
      "source": [
        "train_datagen=ImageDataGenerator(rescale=1./255,shear_range=0.2,zoom_range=0.2,horizontal_flip=True)\n",
        "test_datagen=ImageDataGenerator(rescale=1./255)"
      ],
      "metadata": {
        "id": "y1viqu5YTEej"
      },
      "execution_count": null,
      "outputs": []
    },
    {
      "cell_type": "code",
      "source": [
        "x_train=train_datagen.flow_from_directory(r'/content/Dataset/test',target_size=(64,64),batch_size=32,color_mode='grayscale',class_mode='categorical')\n",
        "x_test=train_datagen.flow_from_directory(r'/content/Dataset/train',target_size=(64,64),batch_size=32,color_mode='grayscale',class_mode='categorical')\n"
      ],
      "metadata": {
        "colab": {
          "base_uri": "https://localhost:8080/"
        },
        "id": "Hla59CojT94s",
        "outputId": "2a2397f5-30b8-4950-f5c9-8dcee3f4dc3b"
      },
      "execution_count": null,
      "outputs": [
        {
          "output_type": "stream",
          "name": "stdout",
          "text": [
            "Found 30 images belonging to 6 classes.\n",
            "Found 594 images belonging to 6 classes.\n"
          ]
        }
      ]
    },
    {
      "cell_type": "markdown",
      "source": [
        "#**Model Building**"
      ],
      "metadata": {
        "id": "76dtTiGIZCKf"
      }
    },
    {
      "cell_type": "markdown",
      "source": [
        "\n",
        "#Importing necessary libraries\n",
        "\n",
        "\n",
        "\n",
        "\n"
      ],
      "metadata": {
        "id": "uxUR_1DSYxkR"
      }
    },
    {
      "cell_type": "code",
      "source": [
        "import numpy as np\n",
        "import tensorflow\n",
        "from tensorflow.keras.models import Sequential\n",
        "from keras.models import Model\n",
        "from tensorflow.keras import layers\n",
        "from tensorflow.keras.layers import Dense,Flatten\n",
        "from tensorflow.keras.layers import Conv2D,MaxPooling2D"
      ],
      "metadata": {
        "id": "9KXUu-J0ZHsj"
      },
      "execution_count": null,
      "outputs": []
    },
    {
      "cell_type": "markdown",
      "source": [
        "#Initializing The Model"
      ],
      "metadata": {
        "id": "HEW-uxdYaBQt"
      }
    },
    {
      "cell_type": "code",
      "source": [
        "model=Sequential()"
      ],
      "metadata": {
        "id": "64EIru-_aF48"
      },
      "execution_count": null,
      "outputs": []
    },
    {
      "cell_type": "markdown",
      "source": [
        "#Adding CNN Layers"
      ],
      "metadata": {
        "id": "Pb-TwLItaM4M"
      }
    },
    {
      "cell_type": "code",
      "source": [
        "model.add(Conv2D(32,(3,3),input_shape=(64,64,1),activation='relu'))\n",
        "model.add(MaxPooling2D(pool_size=(2,2)))\n",
        "model.add(Conv2D(32,(3,3),activation='relu'))\n",
        "model.add(MaxPooling2D(pool_size=(2,2)))\n",
        "model.add(Flatten())"
      ],
      "metadata": {
        "id": "j5yg0WTVaQtu"
      },
      "execution_count": null,
      "outputs": []
    },
    {
      "cell_type": "markdown",
      "source": [
        "#Adding Dense Layer"
      ],
      "metadata": {
        "id": "JerNUaB71YCl"
      }
    },
    {
      "cell_type": "code",
      "source": [
        "model.add(Dense(units=128,activation='relu'))\n",
        "model.add(Dense(units=6,activation='softmax'))"
      ],
      "metadata": {
        "id": "oJNRaP421bD_"
      },
      "execution_count": null,
      "outputs": []
    },
    {
      "cell_type": "code",
      "source": [
        "model.summary()"
      ],
      "metadata": {
        "colab": {
          "base_uri": "https://localhost:8080/"
        },
        "id": "uwiO4qwA1qBw",
        "outputId": "7181755f-c692-4af4-aa4d-bd245a9ec66a"
      },
      "execution_count": null,
      "outputs": [
        {
          "output_type": "stream",
          "name": "stdout",
          "text": [
            "Model: \"sequential\"\n",
            "_________________________________________________________________\n",
            " Layer (type)                Output Shape              Param #   \n",
            "=================================================================\n",
            " conv2d (Conv2D)             (None, 62, 62, 32)        320       \n",
            "                                                                 \n",
            " max_pooling2d (MaxPooling2D  (None, 31, 31, 32)       0         \n",
            " )                                                               \n",
            "                                                                 \n",
            " conv2d_1 (Conv2D)           (None, 29, 29, 32)        9248      \n",
            "                                                                 \n",
            " max_pooling2d_1 (MaxPooling  (None, 14, 14, 32)       0         \n",
            " 2D)                                                             \n",
            "                                                                 \n",
            " flatten (Flatten)           (None, 6272)              0         \n",
            "                                                                 \n",
            " dense (Dense)               (None, 128)               802944    \n",
            "                                                                 \n",
            " dense_1 (Dense)             (None, 6)                 774       \n",
            "                                                                 \n",
            "=================================================================\n",
            "Total params: 813,286\n",
            "Trainable params: 813,286\n",
            "Non-trainable params: 0\n",
            "_________________________________________________________________\n"
          ]
        }
      ]
    },
    {
      "cell_type": "markdown",
      "source": [
        "#Configure The Learning Process"
      ],
      "metadata": {
        "id": "fVPRdq-i16Nw"
      }
    },
    {
      "cell_type": "code",
      "source": [
        "#Compiling the model\n",
        "model.compile(optimizer='adam',loss='categorical_crossentropy',metrics=['accuracy'])"
      ],
      "metadata": {
        "id": "ek3mgv_Y15mO"
      },
      "execution_count": null,
      "outputs": []
    },
    {
      "cell_type": "markdown",
      "source": [
        "#Train The Model"
      ],
      "metadata": {
        "id": "K4ps1zNd2YEi"
      }
    },
    {
      "cell_type": "code",
      "source": [
        "#Fitting the model\n",
        "model.fit_generator(\n",
        "    generator=x_train,steps_per_epoch=len(x_train),\n",
        "    epochs=20,validation_data=x_test,validation_steps=len(x_test))"
      ],
      "metadata": {
        "colab": {
          "base_uri": "https://localhost:8080/"
        },
        "id": "0H-314Un2aMi",
        "outputId": "4ae8fd86-d503-4319-b61c-0dfc0aa94aef"
      },
      "execution_count": null,
      "outputs": [
        {
          "output_type": "stream",
          "name": "stdout",
          "text": [
            "Epoch 1/20\n"
          ]
        },
        {
          "output_type": "stream",
          "name": "stderr",
          "text": [
            "/usr/local/lib/python3.7/dist-packages/ipykernel_launcher.py:4: UserWarning: `Model.fit_generator` is deprecated and will be removed in a future version. Please use `Model.fit`, which supports generators.\n",
            "  after removing the cwd from sys.path.\n"
          ]
        },
        {
          "output_type": "stream",
          "name": "stdout",
          "text": [
            "1/1 [==============================] - 1s 1s/step - loss: 1.7939 - accuracy: 0.1667 - val_loss: 1.8107 - val_accuracy: 0.1717\n",
            "Epoch 2/20\n",
            "1/1 [==============================] - 1s 736ms/step - loss: 1.7729 - accuracy: 0.1667 - val_loss: 1.7598 - val_accuracy: 0.2626\n",
            "Epoch 3/20\n",
            "1/1 [==============================] - 1s 747ms/step - loss: 1.6879 - accuracy: 0.5667 - val_loss: 1.7478 - val_accuracy: 0.3215\n",
            "Epoch 4/20\n",
            "1/1 [==============================] - 1s 737ms/step - loss: 1.6566 - accuracy: 0.5667 - val_loss: 1.7260 - val_accuracy: 0.2643\n",
            "Epoch 5/20\n",
            "1/1 [==============================] - 1s 727ms/step - loss: 1.5842 - accuracy: 0.5333 - val_loss: 1.6988 - val_accuracy: 0.3569\n",
            "Epoch 6/20\n",
            "1/1 [==============================] - 1s 745ms/step - loss: 1.4705 - accuracy: 0.8667 - val_loss: 1.6758 - val_accuracy: 0.3333\n",
            "Epoch 7/20\n",
            "1/1 [==============================] - 1s 718ms/step - loss: 1.4599 - accuracy: 0.7000 - val_loss: 1.6658 - val_accuracy: 0.3215\n",
            "Epoch 8/20\n",
            "1/1 [==============================] - 1s 730ms/step - loss: 1.3265 - accuracy: 0.6667 - val_loss: 1.6400 - val_accuracy: 0.3182\n",
            "Epoch 9/20\n",
            "1/1 [==============================] - 1s 759ms/step - loss: 1.2304 - accuracy: 0.7000 - val_loss: 1.6196 - val_accuracy: 0.3434\n",
            "Epoch 10/20\n",
            "1/1 [==============================] - 1s 774ms/step - loss: 1.1180 - accuracy: 0.9333 - val_loss: 1.6486 - val_accuracy: 0.3653\n",
            "Epoch 11/20\n",
            "1/1 [==============================] - 1s 756ms/step - loss: 1.1082 - accuracy: 0.7667 - val_loss: 1.6135 - val_accuracy: 0.4310\n",
            "Epoch 12/20\n",
            "1/1 [==============================] - 1s 716ms/step - loss: 0.9577 - accuracy: 0.7667 - val_loss: 1.6070 - val_accuracy: 0.3805\n",
            "Epoch 13/20\n",
            "1/1 [==============================] - 1s 712ms/step - loss: 0.8605 - accuracy: 0.9000 - val_loss: 1.6188 - val_accuracy: 0.3687\n",
            "Epoch 14/20\n",
            "1/1 [==============================] - 1s 707ms/step - loss: 0.7289 - accuracy: 0.8333 - val_loss: 1.7742 - val_accuracy: 0.3687\n",
            "Epoch 15/20\n",
            "1/1 [==============================] - 1s 715ms/step - loss: 0.6296 - accuracy: 0.9333 - val_loss: 1.7810 - val_accuracy: 0.4074\n",
            "Epoch 16/20\n",
            "1/1 [==============================] - 1s 738ms/step - loss: 0.5869 - accuracy: 0.9333 - val_loss: 1.7202 - val_accuracy: 0.4024\n",
            "Epoch 17/20\n",
            "1/1 [==============================] - 1s 723ms/step - loss: 0.5880 - accuracy: 0.8333 - val_loss: 1.8484 - val_accuracy: 0.4040\n",
            "Epoch 18/20\n",
            "1/1 [==============================] - 1s 718ms/step - loss: 0.5345 - accuracy: 0.8333 - val_loss: 2.1306 - val_accuracy: 0.3855\n",
            "Epoch 19/20\n",
            "1/1 [==============================] - 1s 755ms/step - loss: 0.4719 - accuracy: 0.9000 - val_loss: 2.0150 - val_accuracy: 0.3906\n",
            "Epoch 20/20\n",
            "1/1 [==============================] - 1s 766ms/step - loss: 0.4253 - accuracy: 0.9000 - val_loss: 1.9894 - val_accuracy: 0.4057\n"
          ]
        },
        {
          "output_type": "execute_result",
          "data": {
            "text/plain": [
              "<keras.callbacks.History at 0x7f9952046650>"
            ]
          },
          "metadata": {},
          "execution_count": 20
        }
      ]
    },
    {
      "cell_type": "markdown",
      "source": [
        "#Save The Model"
      ],
      "metadata": {
        "id": "8CphdsL93Xkn"
      }
    },
    {
      "cell_type": "code",
      "source": [
        "# #Saving our model\n",
        "# model.save('gesture.h5')\n",
        "# model_json=model.to_json()\n",
        "# with open(\"model-bw.json\",\"w\") as json_file:\n",
        "#   json_file.write(model_json)"
      ],
      "metadata": {
        "id": "toBEihDo3ava"
      },
      "execution_count": 60,
      "outputs": []
    },
    {
      "cell_type": "code",
      "source": [
        "model.save('gesture.h5')"
      ],
      "metadata": {
        "id": "iNsi08GdYhjo"
      },
      "execution_count": 63,
      "outputs": []
    },
    {
      "cell_type": "code",
      "source": [
        " !tar -zcvf gesture-classification.tgz animal.h5"
      ],
      "metadata": {
        "colab": {
          "base_uri": "https://localhost:8080/"
        },
        "id": "5ITDfuGTYYpP",
        "outputId": "84d4dee9-fc4d-4df5-b37b-7adf4502e44d"
      },
      "execution_count": 64,
      "outputs": [
        {
          "output_type": "stream",
          "name": "stdout",
          "text": [
            "tar: animal.h5: Cannot stat: No such file or directory\n",
            "tar: Exiting with failure status due to previous errors\n"
          ]
        }
      ]
    },
    {
      "cell_type": "markdown",
      "source": [
        "#Test The Model"
      ],
      "metadata": {
        "id": "ikPl7AAB3_7Q"
      }
    },
    {
      "cell_type": "code",
      "source": [
        "import numpy as np\n",
        "from tensorflow.keras.models import load_model\n",
        "from tensorflow.keras.preprocessing import image\n",
        "test_model=load_model('gesture.h5')"
      ],
      "metadata": {
        "id": "7reG-hSOKmCR"
      },
      "execution_count": null,
      "outputs": []
    },
    {
      "cell_type": "code",
      "source": [
        "img=image.load_img('/content/Dataset/test/0/0.jpg',target_size=(64,64))\n",
        "x=image.img_to_array(img)\n",
        "x=np.expand_dims(x,axis=0)\n",
        "predict_x=(model.predict(x_test)>0.5).astype(\"int64\")\n",
        "pred=np.argmax(predict_x,axis=-1)\n",
        "pred"
      ],
      "metadata": {
        "colab": {
          "base_uri": "https://localhost:8080/"
        },
        "id": "SJh4JoE8KwTe",
        "outputId": "82bcb229-413e-48eb-cc05-5ec7974b6686"
      },
      "execution_count": null,
      "outputs": [
        {
          "output_type": "stream",
          "name": "stdout",
          "text": [
            "19/19 [==============================] - 1s 33ms/step\n"
          ]
        },
        {
          "output_type": "execute_result",
          "data": {
            "text/plain": [
              "array([0, 2, 5, 2, 2, 5, 5, 0, 5, 2, 3, 2, 0, 0, 5, 5, 1, 0, 5, 5, 0, 2,\n",
              "       2, 0, 0, 0, 0, 5, 1, 5, 2, 2, 5, 0, 0, 1, 0, 3, 2, 5, 5, 4, 2, 2,\n",
              "       0, 2, 1, 5, 0, 0, 2, 5, 5, 0, 0, 0, 0, 2, 5, 5, 3, 2, 5, 2, 0, 2,\n",
              "       0, 1, 0, 2, 0, 5, 5, 0, 3, 5, 0, 1, 0, 4, 5, 5, 0, 5, 2, 3, 0, 1,\n",
              "       5, 5, 1, 0, 4, 5, 5, 0, 0, 2, 1, 5, 2, 2, 2, 5, 0, 5, 5, 3, 5, 5,\n",
              "       0, 2, 2, 0, 3, 0, 2, 0, 0, 2, 0, 1, 5, 3, 0, 0, 2, 3, 0, 0, 0, 5,\n",
              "       5, 0, 0, 2, 5, 2, 2, 0, 5, 0, 2, 5, 0, 5, 0, 2, 3, 0, 5, 0, 5, 2,\n",
              "       0, 2, 3, 5, 2, 0, 2, 2, 3, 2, 0, 1, 4, 5, 0, 1, 5, 3, 0, 0, 5, 2,\n",
              "       5, 1, 4, 0, 2, 0, 5, 2, 5, 4, 5, 0, 1, 2, 0, 5, 3, 0, 3, 0, 0, 5,\n",
              "       5, 0, 2, 5, 0, 0, 3, 0, 0, 0, 3, 1, 2, 3, 0, 2, 0, 0, 0, 2, 0, 0,\n",
              "       0, 0, 0, 3, 5, 0, 5, 2, 5, 2, 5, 5, 5, 4, 0, 2, 5, 1, 0, 2, 3, 3,\n",
              "       5, 3, 2, 2, 5, 3, 2, 0, 0, 0, 2, 3, 1, 2, 4, 0, 5, 1, 5, 0, 5, 5,\n",
              "       5, 5, 2, 5, 5, 2, 2, 0, 1, 0, 2, 0, 0, 2, 3, 5, 0, 2, 5, 2, 0, 2,\n",
              "       2, 3, 3, 5, 2, 5, 2, 5, 0, 3, 5, 0, 4, 4, 2, 2, 2, 0, 0, 2, 0, 5,\n",
              "       0, 5, 2, 4, 5, 0, 2, 2, 5, 3, 0, 0, 4, 3, 3, 0, 5, 4, 5, 2, 2, 0,\n",
              "       1, 0, 3, 0, 3, 5, 3, 1, 0, 2, 5, 2, 0, 3, 5, 0, 2, 5, 3, 1, 0, 5,\n",
              "       2, 5, 1, 1, 2, 0, 5, 5, 5, 2, 5, 0, 0, 0, 0, 0, 2, 2, 2, 4, 0, 2,\n",
              "       0, 1, 2, 0, 0, 5, 0, 2, 5, 3, 5, 2, 3, 2, 0, 2, 3, 0, 5, 2, 1, 0,\n",
              "       5, 5, 5, 0, 0, 3, 0, 2, 2, 0, 0, 2, 2, 1, 0, 5, 0, 1, 0, 5, 2, 5,\n",
              "       4, 0, 5, 2, 0, 2, 0, 0, 1, 5, 5, 3, 5, 2, 2, 5, 3, 0, 5, 0, 3, 0,\n",
              "       0, 5, 2, 5, 5, 2, 0, 2, 3, 0, 0, 5, 2, 3, 3, 0, 0, 5, 2, 5, 0, 0,\n",
              "       2, 2, 3, 3, 0, 0, 1, 5, 0, 5, 3, 0, 0, 3, 5, 3, 0, 0, 0, 5, 2, 2,\n",
              "       5, 2, 3, 0, 2, 0, 2, 2, 0, 2, 4, 0, 5, 5, 2, 2, 4, 2, 0, 0, 3, 0,\n",
              "       3, 5, 2, 4, 5, 0, 0, 5, 2, 2, 2, 3, 2, 5, 2, 0, 0, 5, 4, 0, 0, 2,\n",
              "       2, 0, 0, 5, 0, 0, 0, 5, 2, 5, 2, 0, 5, 5, 0, 0, 0, 1, 5, 5, 3, 0,\n",
              "       1, 0, 2, 1, 5, 2, 1, 0, 5, 2, 0, 5, 1, 4, 0, 2, 0, 3, 5, 5, 5, 0,\n",
              "       5, 5, 0, 1, 2, 5, 2, 5, 5, 0, 0, 3, 5, 0, 5, 0, 0, 0, 0, 2, 5, 5])"
            ]
          },
          "metadata": {},
          "execution_count": 27
        }
      ]
    },
    {
      "cell_type": "code",
      "source": [
        "img=image.load_img('/content/Dataset/test/5/1.jpg',target_size=(64,64))\n",
        "x=image.img_to_array(img)\n",
        "x=np.expand_dims(x,axis=0)\n",
        "predict_x=model.predict(x_test)\n",
        "classes_x=np.argmax(predict_x,axis=1)\n",
        "classes_x\n",
        "predict_x"
      ],
      "metadata": {
        "id": "B64y9zlMLqbI",
        "colab": {
          "base_uri": "https://localhost:8080/"
        },
        "outputId": "514601b2-1f22-4bf0-e107-2d1d210e6bee"
      },
      "execution_count": null,
      "outputs": [
        {
          "output_type": "stream",
          "name": "stdout",
          "text": [
            "19/19 [==============================] - 1s 34ms/step\n"
          ]
        },
        {
          "output_type": "execute_result",
          "data": {
            "text/plain": [
              "array([[3.6524369e-03, 4.2319804e-01, 4.5390812e-01, 4.8373215e-02,\n",
              "        3.4192592e-02, 3.6675576e-02],\n",
              "       [6.4010128e-02, 5.7390839e-02, 3.3966906e-02, 9.3971319e-02,\n",
              "        5.2400164e-02, 6.9826066e-01],\n",
              "       [4.5935176e-02, 5.0505006e-01, 8.7041117e-02, 1.6980931e-01,\n",
              "        9.2256822e-02, 9.9907547e-02],\n",
              "       ...,\n",
              "       [4.6387613e-05, 1.1100887e-03, 5.1768150e-02, 8.3847735e-03,\n",
              "        2.5469770e-03, 9.3614364e-01],\n",
              "       [1.4835999e-05, 8.4422482e-04, 9.1392659e-02, 6.5196463e-04,\n",
              "        1.2197401e-03, 9.0587658e-01],\n",
              "       [2.4236015e-03, 5.4614148e-03, 1.1738428e-02, 2.8204513e-01,\n",
              "        9.9712908e-02, 5.9861845e-01]], dtype=float32)"
            ]
          },
          "metadata": {},
          "execution_count": 30
        }
      ]
    },
    {
      "cell_type": "code",
      "source": [
        "import matplotlib.pyplot as plt\n",
        "import matplotlib.image as mpimg\n",
        "img=mpimg.imread('/content/Dataset/test/5/2.jpg')\n",
        "imgplot=plt.imshow(img)\n",
        "plt.show()"
      ],
      "metadata": {
        "colab": {
          "base_uri": "https://localhost:8080/",
          "height": 269
        },
        "id": "blMt4nu43uiN",
        "outputId": "0ad9cd40-786c-4334-c3d2-d72ea46b6f7c"
      },
      "execution_count": null,
      "outputs": [
        {
          "output_type": "display_data",
          "data": {
            "text/plain": [
              "<Figure size 432x288 with 1 Axes>"
            ],
            "image/png": "[encoded data removed]"
          },
          "metadata": {
            "needs_background": "light"
          }
        }
      ]
    },
    {
      "cell_type": "code",
      "source": [
        "imgload=image.load_img('/content/Dataset/test/5/4.jpg',color_mode='grayscale',target_size=(64,64))\n",
        "res=image.img_to_array(imgload)\n",
        "res.shape\n"
      ],
      "metadata": {
        "colab": {
          "base_uri": "https://localhost:8080/"
        },
        "id": "rW7teJku4J_z",
        "outputId": "6c9a43dc-cbaf-4c5e-a7a4-2b32b631e797"
      },
      "execution_count": null,
      "outputs": [
        {
          "output_type": "execute_result",
          "data": {
            "text/plain": [
              "(64, 64, 1)"
            ]
          },
          "metadata": {},
          "execution_count": 32
        }
      ]
    },
    {
      "cell_type": "code",
      "source": [
        "type(res)"
      ],
      "metadata": {
        "colab": {
          "base_uri": "https://localhost:8080/"
        },
        "id": "uFWju0VH46ik",
        "outputId": "3eb36717-4a8b-4c70-a365-beb49d70c957"
      },
      "execution_count": null,
      "outputs": [
        {
          "output_type": "execute_result",
          "data": {
            "text/plain": [
              "numpy.ndarray"
            ]
          },
          "metadata": {},
          "execution_count": 33
        }
      ]
    },
    {
      "cell_type": "code",
      "source": [
        "res=np.expand_dims(res,axis=0)\n",
        "res.shape"
      ],
      "metadata": {
        "colab": {
          "base_uri": "https://localhost:8080/"
        },
        "id": "jo8JrHo64_dL",
        "outputId": "3bbd398b-e4d2-46ac-bb91-be5913f45a8d"
      },
      "execution_count": null,
      "outputs": [
        {
          "output_type": "execute_result",
          "data": {
            "text/plain": [
              "(1, 64, 64, 1)"
            ]
          },
          "metadata": {},
          "execution_count": 34
        }
      ]
    },
    {
      "cell_type": "markdown",
      "source": [
        "#Predict the result"
      ],
      "metadata": {
        "id": "f221slgW5N52"
      }
    },
    {
      "cell_type": "code",
      "source": [
        "pred_res=np.argmax(test_model.predict(res),axis=-1)\n",
        "pred_res"
      ],
      "metadata": {
        "id": "3_To6REQ5M5s",
        "colab": {
          "base_uri": "https://localhost:8080/"
        },
        "outputId": "59ff9445-ec95-4781-8307-802b3dac1335"
      },
      "execution_count": null,
      "outputs": [
        {
          "output_type": "stream",
          "name": "stdout",
          "text": [
            "1/1 [==============================] - 0s 49ms/step\n"
          ]
        },
        {
          "output_type": "execute_result",
          "data": {
            "text/plain": [
              "array([4])"
            ]
          },
          "metadata": {},
          "execution_count": 35
        }
      ]
    },
    {
      "cell_type": "code",
      "source": [
        "index=['0','1','2','3','4','5']\n",
        "result=str(index[pred_res[0]])\n",
        "result"
      ],
      "metadata": {
        "id": "xI45qOZtdZ0Q",
        "colab": {
          "base_uri": "https://localhost:8080/",
          "height": 35
        },
        "outputId": "954b00ae-0ebc-41cf-a0c8-d24f5cb15366"
      },
      "execution_count": null,
      "outputs": [
        {
          "output_type": "execute_result",
          "data": {
            "text/plain": [
              "'4'"
            ],
            "application/vnd.google.colaboratory.intrinsic+json": {
              "type": "string"
            }
          },
          "metadata": {},
          "execution_count": 36
        }
      ]
    },
    {
      "cell_type": "markdown",
      "source": [
        "#IBM Deployment\n",
        "\n",
        "\n"
      ],
      "metadata": {
        "id": "vqXBTj0QWxne"
      }
    },
    {
      "cell_type": "code",
      "source": [
        "!pip install watson-machine-learning-client"
      ],
      "metadata": {
        "id": "VK2ido6-RLbH",
        "colab": {
          "base_uri": "https://localhost:8080/",
          "height": 1000
        },
        "outputId": "86420420-091f-41a0-e780-2740e75782b1"
      },
      "execution_count": null,
      "outputs": [
        {
          "output_type": "stream",
          "name": "stdout",
          "text": [
            "Looking in indexes: https://pypi.org/simple, https://us-python.pkg.dev/colab-wheels/public/simple/\n",
            "Collecting watson-machine-learning-client\n",
            "  Downloading watson_machine_learning_client-1.0.391-py3-none-any.whl (538 kB)\n",
            "\u001b[K     |████████████████████████████████| 538 kB 32.6 MB/s \n",
            "\u001b[?25hRequirement already satisfied: tqdm in /usr/local/lib/python3.7/dist-packages (from watson-machine-learning-client) (4.64.1)\n",
            "Requirement already satisfied: certifi in /usr/local/lib/python3.7/dist-packages (from watson-machine-learning-client) (2022.9.24)\n",
            "Requirement already satisfied: urllib3 in /usr/local/lib/python3.7/dist-packages (from watson-machine-learning-client) (1.24.3)\n",
            "Collecting ibm-cos-sdk\n",
            "  Downloading ibm-cos-sdk-2.12.0.tar.gz (55 kB)\n",
            "\u001b[K     |████████████████████████████████| 55 kB 5.1 MB/s \n",
            "\u001b[?25hRequirement already satisfied: tabulate in /usr/local/lib/python3.7/dist-packages (from watson-machine-learning-client) (0.8.10)\n",
            "Collecting lomond\n",
            "  Downloading lomond-0.3.3-py2.py3-none-any.whl (35 kB)\n",
            "Collecting boto3\n",
            "  Downloading boto3-1.26.13-py3-none-any.whl (132 kB)\n",
            "\u001b[K     |████████████████████████████████| 132 kB 92.8 MB/s \n",
            "\u001b[?25hRequirement already satisfied: requests in /usr/local/lib/python3.7/dist-packages (from watson-machine-learning-client) (2.23.0)\n",
            "Requirement already satisfied: pandas in /usr/local/lib/python3.7/dist-packages (from watson-machine-learning-client) (1.3.5)\n",
            "Collecting jmespath<2.0.0,>=0.7.1\n",
            "  Downloading jmespath-1.0.1-py3-none-any.whl (20 kB)\n",
            "Collecting s3transfer<0.7.0,>=0.6.0\n",
            "  Downloading s3transfer-0.6.0-py3-none-any.whl (79 kB)\n",
            "\u001b[K     |████████████████████████████████| 79 kB 10.3 MB/s \n",
            "\u001b[?25hCollecting botocore<1.30.0,>=1.29.13\n",
            "  Downloading botocore-1.29.13-py3-none-any.whl (9.9 MB)\n",
            "\u001b[K     |████████████████████████████████| 9.9 MB 58.6 MB/s \n",
            "\u001b[?25hCollecting urllib3\n",
            "  Downloading urllib3-1.26.12-py2.py3-none-any.whl (140 kB)\n",
            "\u001b[K     |████████████████████████████████| 140 kB 75.3 MB/s \n",
            "\u001b[?25hRequirement already satisfied: python-dateutil<3.0.0,>=2.1 in /usr/local/lib/python3.7/dist-packages (from botocore<1.30.0,>=1.29.13->boto3->watson-machine-learning-client) (2.8.2)\n",
            "Requirement already satisfied: six>=1.5 in /usr/local/lib/python3.7/dist-packages (from python-dateutil<3.0.0,>=2.1->botocore<1.30.0,>=1.29.13->boto3->watson-machine-learning-client) (1.15.0)\n",
            "Collecting ibm-cos-sdk-core==2.12.0\n",
            "  Downloading ibm-cos-sdk-core-2.12.0.tar.gz (956 kB)\n",
            "\u001b[K     |████████████████████████████████| 956 kB 98.3 MB/s \n",
            "\u001b[?25hCollecting ibm-cos-sdk-s3transfer==2.12.0\n",
            "  Downloading ibm-cos-sdk-s3transfer-2.12.0.tar.gz (135 kB)\n",
            "\u001b[K     |████████████████████████████████| 135 kB 90.9 MB/s \n",
            "\u001b[?25hCollecting jmespath<2.0.0,>=0.7.1\n",
            "  Downloading jmespath-0.10.0-py2.py3-none-any.whl (24 kB)\n",
            "Collecting requests\n",
            "  Downloading requests-2.28.1-py3-none-any.whl (62 kB)\n",
            "\u001b[K     |████████████████████████████████| 62 kB 1.8 MB/s \n",
            "\u001b[?25hRequirement already satisfied: idna<4,>=2.5 in /usr/local/lib/python3.7/dist-packages (from requests->watson-machine-learning-client) (2.10)\n",
            "Requirement already satisfied: charset-normalizer<3,>=2 in /usr/local/lib/python3.7/dist-packages (from requests->watson-machine-learning-client) (2.1.1)\n",
            "Requirement already satisfied: numpy>=1.17.3 in /usr/local/lib/python3.7/dist-packages (from pandas->watson-machine-learning-client) (1.21.6)\n",
            "Requirement already satisfied: pytz>=2017.3 in /usr/local/lib/python3.7/dist-packages (from pandas->watson-machine-learning-client) (2022.6)\n",
            "Building wheels for collected packages: ibm-cos-sdk, ibm-cos-sdk-core, ibm-cos-sdk-s3transfer\n",
            "  Building wheel for ibm-cos-sdk (setup.py) ... \u001b[?25l\u001b[?25hdone\n",
            "  Created wheel for ibm-cos-sdk: filename=ibm_cos_sdk-2.12.0-py3-none-any.whl size=73931 sha256=021a72d72819423250509f7f1b552db060dba428c9a2650bdeb60d15b0cf04ba\n",
            "  Stored in directory: /root/.cache/pip/wheels/ec/94/29/2b57327cf00664b6614304f7958abd29d77ea0e5bbece2ea57\n",
            "  Building wheel for ibm-cos-sdk-core (setup.py) ... \u001b[?25l\u001b[?25hdone\n",
            "  Created wheel for ibm-cos-sdk-core: filename=ibm_cos_sdk_core-2.12.0-py3-none-any.whl size=562962 sha256=ed06f1ce54a5274578a0e554bea1e5e1e2f1386d38782c6dfb7181c6fc603f94\n",
            "  Stored in directory: /root/.cache/pip/wheels/64/56/fb/5cd6f4f40406c828a5289b95b2752a4d142a9afb359244ed8d\n",
            "  Building wheel for ibm-cos-sdk-s3transfer (setup.py) ... \u001b[?25l\u001b[?25hdone\n",
            "  Created wheel for ibm-cos-sdk-s3transfer: filename=ibm_cos_sdk_s3transfer-2.12.0-py3-none-any.whl size=89778 sha256=572e8480488cfc3ccfaa83780dad3f076e19f53e2689942c013e7c1a241a322c\n",
            "  Stored in directory: /root/.cache/pip/wheels/57/79/6a/ffe3370ed7ebc00604f9f76766e1e0348dcdcad2b2e32df9e1\n",
            "Successfully built ibm-cos-sdk ibm-cos-sdk-core ibm-cos-sdk-s3transfer\n",
            "Installing collected packages: urllib3, requests, jmespath, ibm-cos-sdk-core, botocore, s3transfer, ibm-cos-sdk-s3transfer, lomond, ibm-cos-sdk, boto3, watson-machine-learning-client\n",
            "  Attempting uninstall: urllib3\n",
            "    Found existing installation: urllib3 1.24.3\n",
            "    Uninstalling urllib3-1.24.3:\n",
            "      Successfully uninstalled urllib3-1.24.3\n",
            "  Attempting uninstall: requests\n",
            "    Found existing installation: requests 2.23.0\n",
            "    Uninstalling requests-2.23.0:\n",
            "      Successfully uninstalled requests-2.23.0\n",
            "Successfully installed boto3-1.26.13 botocore-1.29.13 ibm-cos-sdk-2.12.0 ibm-cos-sdk-core-2.12.0 ibm-cos-sdk-s3transfer-2.12.0 jmespath-0.10.0 lomond-0.3.3 requests-2.28.1 s3transfer-0.6.0 urllib3-1.26.12 watson-machine-learning-client-1.0.391\n"
          ]
        },
        {
          "output_type": "display_data",
          "data": {
            "application/vnd.colab-display-data+json": {
              "pip_warning": {
                "packages": [
                  "requests",
                  "urllib3"
                ]
              }
            }
          },
          "metadata": {}
        }
      ]
    },
    {
      "cell_type": "code",
      "source": [
        "!pip install ibm_watson_machine_learning"
      ],
      "metadata": {
        "colab": {
          "base_uri": "https://localhost:8080/"
        },
        "id": "tMPSgMntXZkB",
        "outputId": "f13999bb-5840-4e07-8a59-6844c5fd80f4"
      },
      "execution_count": null,
      "outputs": [
        {
          "output_type": "stream",
          "name": "stdout",
          "text": [
            "Looking in indexes: https://pypi.org/simple, https://us-python.pkg.dev/colab-wheels/public/simple/\n",
            "Collecting ibm_watson_machine_learning\n",
            "  Downloading ibm_watson_machine_learning-1.0.257-py3-none-any.whl (1.8 MB)\n",
            "\u001b[K     |████████████████████████████████| 1.8 MB 28.0 MB/s \n",
            "\u001b[?25hRequirement already satisfied: requests in /usr/local/lib/python3.7/dist-packages (from ibm_watson_machine_learning) (2.28.1)\n",
            "Collecting ibm-cos-sdk==2.7.*\n",
            "  Downloading ibm-cos-sdk-2.7.0.tar.gz (51 kB)\n",
            "\u001b[K     |████████████████████████████████| 51 kB 730 kB/s \n",
            "\u001b[?25hRequirement already satisfied: tabulate in /usr/local/lib/python3.7/dist-packages (from ibm_watson_machine_learning) (0.8.10)\n",
            "Requirement already satisfied: packaging in /usr/local/lib/python3.7/dist-packages (from ibm_watson_machine_learning) (21.3)\n",
            "Requirement already satisfied: certifi in /usr/local/lib/python3.7/dist-packages (from ibm_watson_machine_learning) (2022.9.24)\n",
            "Requirement already satisfied: lomond in /usr/local/lib/python3.7/dist-packages (from ibm_watson_machine_learning) (0.3.3)\n",
            "Requirement already satisfied: urllib3 in /usr/local/lib/python3.7/dist-packages (from ibm_watson_machine_learning) (1.26.12)\n",
            "Requirement already satisfied: pandas<1.5.0,>=0.24.2 in /usr/local/lib/python3.7/dist-packages (from ibm_watson_machine_learning) (1.3.5)\n",
            "Requirement already satisfied: importlib-metadata in /usr/local/lib/python3.7/dist-packages (from ibm_watson_machine_learning) (4.13.0)\n",
            "Collecting ibm-cos-sdk-core==2.7.0\n",
            "  Downloading ibm-cos-sdk-core-2.7.0.tar.gz (824 kB)\n",
            "\u001b[K     |████████████████████████████████| 824 kB 58.1 MB/s \n",
            "\u001b[?25hCollecting ibm-cos-sdk-s3transfer==2.7.0\n",
            "  Downloading ibm-cos-sdk-s3transfer-2.7.0.tar.gz (133 kB)\n",
            "\u001b[K     |████████████████████████████████| 133 kB 87.5 MB/s \n",
            "\u001b[?25hRequirement already satisfied: jmespath<1.0.0,>=0.7.1 in /usr/local/lib/python3.7/dist-packages (from ibm-cos-sdk==2.7.*->ibm_watson_machine_learning) (0.10.0)\n",
            "Collecting docutils<0.16,>=0.10\n",
            "  Downloading docutils-0.15.2-py3-none-any.whl (547 kB)\n",
            "\u001b[K     |████████████████████████████████| 547 kB 90.9 MB/s \n",
            "\u001b[?25hRequirement already satisfied: python-dateutil<3.0.0,>=2.1 in /usr/local/lib/python3.7/dist-packages (from ibm-cos-sdk-core==2.7.0->ibm-cos-sdk==2.7.*->ibm_watson_machine_learning) (2.8.2)\n",
            "Requirement already satisfied: pytz>=2017.3 in /usr/local/lib/python3.7/dist-packages (from pandas<1.5.0,>=0.24.2->ibm_watson_machine_learning) (2022.6)\n",
            "Requirement already satisfied: numpy>=1.17.3 in /usr/local/lib/python3.7/dist-packages (from pandas<1.5.0,>=0.24.2->ibm_watson_machine_learning) (1.21.6)\n",
            "Requirement already satisfied: six>=1.5 in /usr/local/lib/python3.7/dist-packages (from python-dateutil<3.0.0,>=2.1->ibm-cos-sdk-core==2.7.0->ibm-cos-sdk==2.7.*->ibm_watson_machine_learning) (1.15.0)\n",
            "Requirement already satisfied: idna<4,>=2.5 in /usr/local/lib/python3.7/dist-packages (from requests->ibm_watson_machine_learning) (2.10)\n",
            "Requirement already satisfied: charset-normalizer<3,>=2 in /usr/local/lib/python3.7/dist-packages (from requests->ibm_watson_machine_learning) (2.1.1)\n",
            "Requirement already satisfied: typing-extensions>=3.6.4 in /usr/local/lib/python3.7/dist-packages (from importlib-metadata->ibm_watson_machine_learning) (4.1.1)\n",
            "Requirement already satisfied: zipp>=0.5 in /usr/local/lib/python3.7/dist-packages (from importlib-metadata->ibm_watson_machine_learning) (3.10.0)\n",
            "Requirement already satisfied: pyparsing!=3.0.5,>=2.0.2 in /usr/local/lib/python3.7/dist-packages (from packaging->ibm_watson_machine_learning) (3.0.9)\n",
            "Building wheels for collected packages: ibm-cos-sdk, ibm-cos-sdk-core, ibm-cos-sdk-s3transfer\n",
            "  Building wheel for ibm-cos-sdk (setup.py) ... \u001b[?25l\u001b[?25hdone\n",
            "  Created wheel for ibm-cos-sdk: filename=ibm_cos_sdk-2.7.0-py2.py3-none-any.whl size=72563 sha256=cd2d8a22b4f28d9efcc44473251afa8d1ee1700b6d5fb723a00a9346c30c4709\n",
            "  Stored in directory: /root/.cache/pip/wheels/47/22/bf/e1154ff0f5de93cc477acd0ca69abfbb8b799c5b28a66b44c2\n",
            "  Building wheel for ibm-cos-sdk-core (setup.py) ... \u001b[?25l\u001b[?25hdone\n",
            "  Created wheel for ibm-cos-sdk-core: filename=ibm_cos_sdk_core-2.7.0-py2.py3-none-any.whl size=501013 sha256=0a3368f332e9e39decd67c595a1e0fb468e64f239762af10a7966455c8e87201\n",
            "  Stored in directory: /root/.cache/pip/wheels/6c/a2/e4/c16d02f809a3ea998e17cfd02c13369281f3d232aaf5902c19\n",
            "  Building wheel for ibm-cos-sdk-s3transfer (setup.py) ... \u001b[?25l\u001b[?25hdone\n",
            "  Created wheel for ibm-cos-sdk-s3transfer: filename=ibm_cos_sdk_s3transfer-2.7.0-py2.py3-none-any.whl size=88622 sha256=07b1f1fced7c59f3c5a2ab21cf527e8734bdb9e007da5f8f7c603991cb9c0dd8\n",
            "  Stored in directory: /root/.cache/pip/wheels/5f/b7/14/fbe02bc1ef1af890650c7e51743d1c83890852e598d164b9da\n",
            "Successfully built ibm-cos-sdk ibm-cos-sdk-core ibm-cos-sdk-s3transfer\n",
            "Installing collected packages: docutils, ibm-cos-sdk-core, ibm-cos-sdk-s3transfer, ibm-cos-sdk, ibm-watson-machine-learning\n",
            "  Attempting uninstall: docutils\n",
            "    Found existing installation: docutils 0.17.1\n",
            "    Uninstalling docutils-0.17.1:\n",
            "      Successfully uninstalled docutils-0.17.1\n",
            "  Attempting uninstall: ibm-cos-sdk-core\n",
            "    Found existing installation: ibm-cos-sdk-core 2.12.0\n",
            "    Uninstalling ibm-cos-sdk-core-2.12.0:\n",
            "      Successfully uninstalled ibm-cos-sdk-core-2.12.0\n",
            "  Attempting uninstall: ibm-cos-sdk-s3transfer\n",
            "    Found existing installation: ibm-cos-sdk-s3transfer 2.12.0\n",
            "    Uninstalling ibm-cos-sdk-s3transfer-2.12.0:\n",
            "      Successfully uninstalled ibm-cos-sdk-s3transfer-2.12.0\n",
            "  Attempting uninstall: ibm-cos-sdk\n",
            "    Found existing installation: ibm-cos-sdk 2.12.0\n",
            "    Uninstalling ibm-cos-sdk-2.12.0:\n",
            "      Successfully uninstalled ibm-cos-sdk-2.12.0\n",
            "Successfully installed docutils-0.15.2 ibm-cos-sdk-2.7.0 ibm-cos-sdk-core-2.7.0 ibm-cos-sdk-s3transfer-2.7.0 ibm-watson-machine-learning-1.0.257\n"
          ]
        }
      ]
    },
    {
      "cell_type": "code",
      "source": [
        "from ibm_watson_machine_learning import APIClient\n",
        "\n",
        "wml_credentials = {\n",
        "    \"url\":\"https://us-south.ml.cloud.ibm.com\",\n",
        "    \"apikey\":\"Imd4e1sYw2yEUKL52MZ2ZZlJO9ca9QyOSSVqdB48LbvP\"\n",
        "}\n",
        "\n",
        "client = APIClient(wml_credentials)\n",
        "client"
      ],
      "metadata": {
        "colab": {
          "base_uri": "https://localhost:8080/"
        },
        "id": "p02JPWuwXi5T",
        "outputId": "4142b7be-c938-4fb3-ebab-8d6d4f469539"
      },
      "execution_count": null,
      "outputs": [
        {
          "output_type": "stream",
          "name": "stdout",
          "text": [
            "Python 3.7 and 3.8 frameworks are deprecated and will be removed in a future release. Use Python 3.9 framework instead.\n"
          ]
        },
        {
          "output_type": "execute_result",
          "data": {
            "text/plain": [
              "<ibm_watson_machine_learning.client.APIClient at 0x7f994c2793d0>"
            ]
          },
          "metadata": {},
          "execution_count": 51
        }
      ]
    },
    {
      "cell_type": "code",
      "source": [
        "client.spaces.get_details()"
      ],
      "metadata": {
        "colab": {
          "base_uri": "https://localhost:8080/"
        },
        "id": "izxYCL7ud4T6",
        "outputId": "0e841216-85a0-47ad-84c4-183c37a500ba"
      },
      "execution_count": 54,
      "outputs": [
        {
          "output_type": "execute_result",
          "data": {
            "text/plain": [
              "{'resources': [{'entity': {'compute': [{'crn': 'crn:v1:bluemix:public:pm-20:us-south:a/dbd044d5bbd44268a2c19623088d57aa:ec9c8fb0-6f50-4a60-b93b-2bfd33e48044::',\n",
              "      'guid': 'ec9c8fb0-6f50-4a60-b93b-2bfd33e48044',\n",
              "      'name': 'Watson Machine Learning-na',\n",
              "      'type': 'machine_learning'}],\n",
              "    'description': '',\n",
              "    'name': 'Gesture',\n",
              "    'scope': {'bss_account_id': 'dbd044d5bbd44268a2c19623088d57aa'},\n",
              "    'stage': {'production': False},\n",
              "    'status': {'state': 'active'},\n",
              "    'storage': {'properties': {'bucket_name': 'fec19a0b-7fc8-4435-8c72-cf59572a450c',\n",
              "      'bucket_region': 'us-south',\n",
              "      'credentials': {'admin': {'access_key_id': '44a5c5e3b7784c529a9a42569f92064e',\n",
              "        'api_key': 'L9_gVjjYjcDhKcjCUD0NuytTiP_k3hJtGqYCEbNSSeeA',\n",
              "        'secret_access_key': '5b5827305d1857efbfdfc825965298afe7e50a7c23fa6d46',\n",
              "        'service_id': 'ServiceId-338dc439-80ae-47c3-ae97-593db314fa23'},\n",
              "       'editor': {'access_key_id': '5f35ef82653e4ff088a7d739c325863a',\n",
              "        'api_key': 'cyZ3Ki3OFgSj0N28OhNqJu7cTMF-D4I8EpdyAslsK5zc',\n",
              "        'resource_key_crn': 'crn:v1:bluemix:public:cloud-object-storage:global:a/dbd044d5bbd44268a2c19623088d57aa:62c2af1c-731f-43fe-b102-6381631e3b58::',\n",
              "        'secret_access_key': 'f53e411f68e956dfffce8267f8bab3b02266212f6587cb81',\n",
              "        'service_id': 'ServiceId-2da7b713-07f1-454a-a836-04b2cbaff48e'},\n",
              "       'viewer': {'access_key_id': 'da0acd58d5064449b259ddd83d9e42eb',\n",
              "        'api_key': 'wPu4ExRwt3jyMIILzN3gSkZ2CWk13xs3JWQrfWT_Ad8a',\n",
              "        'resource_key_crn': 'crn:v1:bluemix:public:cloud-object-storage:global:a/dbd044d5bbd44268a2c19623088d57aa:62c2af1c-731f-43fe-b102-6381631e3b58::',\n",
              "        'secret_access_key': '81abbc33aa1ecd15249bad17b24da520083dedb961fb4ca2',\n",
              "        'service_id': 'ServiceId-bcdb5d03-a5af-4dde-ae00-d4ef6d79f3c8'}},\n",
              "      'endpoint_url': 'https://s3.us-south.cloud-object-storage.appdomain.cloud',\n",
              "      'guid': '62c2af1c-731f-43fe-b102-6381631e3b58',\n",
              "      'resource_crn': 'crn:v1:bluemix:public:cloud-object-storage:global:a/dbd044d5bbd44268a2c19623088d57aa:62c2af1c-731f-43fe-b102-6381631e3b58::'},\n",
              "     'type': 'bmcos_object_storage'}},\n",
              "   'metadata': {'created_at': '2022-11-20T07:59:59.804Z',\n",
              "    'creator_id': 'IBMid-66300455BA',\n",
              "    'id': '65b9f0bd-7d8b-417a-9775-e7e50a025383',\n",
              "    'updated_at': '2022-11-20T08:00:19.138Z',\n",
              "    'url': '/v2/spaces/65b9f0bd-7d8b-417a-9775-e7e50a025383'}}]}"
            ]
          },
          "metadata": {},
          "execution_count": 54
        }
      ]
    },
    {
      "cell_type": "code",
      "source": [
        "client.spaces.list()"
      ],
      "metadata": {
        "colab": {
          "base_uri": "https://localhost:8080/"
        },
        "id": "gYpAyiaXe3N9",
        "outputId": "c1abcca7-afaf-48ce-e3a7-727679be8c6a"
      },
      "execution_count": 55,
      "outputs": [
        {
          "output_type": "stream",
          "name": "stdout",
          "text": [
            "Note: 'limit' is not provided. Only first 50 records will be displayed if the number of records exceed 50\n",
            "------------------------------------  -------  ------------------------\n",
            "ID                                    NAME     CREATED\n",
            "65b9f0bd-7d8b-417a-9775-e7e50a025383  Gesture  2022-11-20T07:59:59.804Z\n",
            "------------------------------------  -------  ------------------------\n"
          ]
        }
      ]
    },
    {
      "cell_type": "code",
      "source": [
        "space_uid = \"65b9f0bd-7d8b-417a-9775-e7e50a025383\"\n",
        "space_uid"
      ],
      "metadata": {
        "id": "ido9OE2hhWLM",
        "colab": {
          "base_uri": "https://localhost:8080/",
          "height": 35
        },
        "outputId": "20e1655d-5d07-46d2-f64d-799f82c479d4"
      },
      "execution_count": 56,
      "outputs": [
        {
          "output_type": "execute_result",
          "data": {
            "text/plain": [
              "'65b9f0bd-7d8b-417a-9775-e7e50a025383'"
            ],
            "application/vnd.google.colaboratory.intrinsic+json": {
              "type": "string"
            }
          },
          "metadata": {},
          "execution_count": 56
        }
      ]
    },
    {
      "cell_type": "code",
      "source": [
        "client.set.default_space(space_uid)"
      ],
      "metadata": {
        "colab": {
          "base_uri": "https://localhost:8080/",
          "height": 35
        },
        "id": "loQD3PElEeKQ",
        "outputId": "1d3b3017-523a-4ee6-cd25-efcbcbb95363"
      },
      "execution_count": 57,
      "outputs": [
        {
          "output_type": "execute_result",
          "data": {
            "text/plain": [
              "'SUCCESS'"
            ],
            "application/vnd.google.colaboratory.intrinsic+json": {
              "type": "string"
            }
          },
          "metadata": {},
          "execution_count": 57
        }
      ]
    },
    {
      "cell_type": "code",
      "source": [
        "client.software_specifications.list()"
      ],
      "metadata": {
        "colab": {
          "base_uri": "https://localhost:8080/"
        },
        "id": "EJxc5IG9EvFm",
        "outputId": "13033da0-453c-4003-83c5-d040d66ece54"
      },
      "execution_count": 58,
      "outputs": [
        {
          "output_type": "stream",
          "name": "stdout",
          "text": [
            "-----------------------------  ------------------------------------  ----\n",
            "NAME                           ASSET_ID                              TYPE\n",
            "default_py3.6                  0062b8c9-8b7d-44a0-a9b9-46c416adcbd9  base\n",
            "kernel-spark3.2-scala2.12      020d69ce-7ac1-5e68-ac1a-31189867356a  base\n",
            "pytorch-onnx_1.3-py3.7-edt     069ea134-3346-5748-b513-49120e15d288  base\n",
            "scikit-learn_0.20-py3.6        09c5a1d0-9c1e-4473-a344-eb7b665ff687  base\n",
            "spark-mllib_3.0-scala_2.12     09f4cff0-90a7-5899-b9ed-1ef348aebdee  base\n",
            "pytorch-onnx_rt22.1-py3.9      0b848dd4-e681-5599-be41-b5f6fccc6471  base\n",
            "ai-function_0.1-py3.6          0cdb0f1e-5376-4f4d-92dd-da3b69aa9bda  base\n",
            "shiny-r3.6                     0e6e79df-875e-4f24-8ae9-62dcc2148306  base\n",
            "tensorflow_2.4-py3.7-horovod   1092590a-307d-563d-9b62-4eb7d64b3f22  base\n",
            "pytorch_1.1-py3.6              10ac12d6-6b30-4ccd-8392-3e922c096a92  base\n",
            "tensorflow_1.15-py3.6-ddl      111e41b3-de2d-5422-a4d6-bf776828c4b7  base\n",
            "autoai-kb_rt22.2-py3.10        125b6d9a-5b1f-5e8d-972a-b251688ccf40  base\n",
            "runtime-22.1-py3.9             12b83a17-24d8-5082-900f-0ab31fbfd3cb  base\n",
            "scikit-learn_0.22-py3.6        154010fa-5b3b-4ac1-82af-4d5ee5abbc85  base\n",
            "default_r3.6                   1b70aec3-ab34-4b87-8aa0-a4a3c8296a36  base\n",
            "pytorch-onnx_1.3-py3.6         1bc6029a-cc97-56da-b8e0-39c3880dbbe7  base\n",
            "kernel-spark3.3-r3.6           1c9e5454-f216-59dd-a20e-474a5cdf5988  base\n",
            "pytorch-onnx_rt22.1-py3.9-edt  1d362186-7ad5-5b59-8b6c-9d0880bde37f  base\n",
            "tensorflow_2.1-py3.6           1eb25b84-d6ed-5dde-b6a5-3fbdf1665666  base\n",
            "spark-mllib_3.2                20047f72-0a98-58c7-9ff5-a77b012eb8f5  base\n",
            "tensorflow_2.4-py3.8-horovod   217c16f6-178f-56bf-824a-b19f20564c49  base\n",
            "runtime-22.1-py3.9-cuda        26215f05-08c3-5a41-a1b0-da66306ce658  base\n",
            "do_py3.8                       295addb5-9ef9-547e-9bf4-92ae3563e720  base\n",
            "autoai-ts_3.8-py3.8            2aa0c932-798f-5ae9-abd6-15e0c2402fb5  base\n",
            "tensorflow_1.15-py3.6          2b73a275-7cbf-420b-a912-eae7f436e0bc  base\n",
            "kernel-spark3.3-py3.9          2b7961e2-e3b1-5a8c-a491-482c8368839a  base\n",
            "pytorch_1.2-py3.6              2c8ef57d-2687-4b7d-acce-01f94976dac1  base\n",
            "spark-mllib_2.3                2e51f700-bca0-4b0d-88dc-5c6791338875  base\n",
            "pytorch-onnx_1.1-py3.6-edt     32983cea-3f32-4400-8965-dde874a8d67e  base\n",
            "spark-mllib_3.0-py37           36507ebe-8770-55ba-ab2a-eafe787600e9  base\n",
            "spark-mllib_2.4                390d21f8-e58b-4fac-9c55-d7ceda621326  base\n",
            "autoai-ts_rt22.2-py3.10        396b2e83-0953-5b86-9a55-7ce1628a406f  base\n",
            "xgboost_0.82-py3.6             39e31acd-5f30-41dc-ae44-60233c80306e  base\n",
            "pytorch-onnx_1.2-py3.6-edt     40589d0e-7019-4e28-8daa-fb03b6f4fe12  base\n",
            "pytorch-onnx_rt22.2-py3.10     40e73f55-783a-5535-b3fa-0c8b94291431  base\n",
            "default_r36py38                41c247d3-45f8-5a71-b065-8580229facf0  base\n",
            "autoai-ts_rt22.1-py3.9         4269d26e-07ba-5d40-8f66-2d495b0c71f7  base\n",
            "autoai-obm_3.0                 42b92e18-d9ab-567f-988a-4240ba1ed5f7  base\n",
            "pmml-3.0_4.3                   493bcb95-16f1-5bc5-bee8-81b8af80e9c7  base\n",
            "spark-mllib_2.4-r_3.6          49403dff-92e9-4c87-a3d7-a42d0021c095  base\n",
            "xgboost_0.90-py3.6             4ff8d6c2-1343-4c18-85e1-689c965304d3  base\n",
            "pytorch-onnx_1.1-py3.6         50f95b2a-bc16-43bb-bc94-b0bed208c60b  base\n",
            "autoai-ts_3.9-py3.8            52c57136-80fa-572e-8728-a5e7cbb42cde  base\n",
            "spark-mllib_2.4-scala_2.11     55a70f99-7320-4be5-9fb9-9edb5a443af5  base\n",
            "spark-mllib_3.0                5c1b0ca2-4977-5c2e-9439-ffd44ea8ffe9  base\n",
            "autoai-obm_2.0                 5c2e37fa-80b8-5e77-840f-d912469614ee  base\n",
            "spss-modeler_18.1              5c3cad7e-507f-4b2a-a9a3-ab53a21dee8b  base\n",
            "cuda-py3.8                     5d3232bf-c86b-5df4-a2cd-7bb870a1cd4e  base\n",
            "runtime-22.2-py3.10-xc         5e8cddff-db4a-5a6a-b8aa-2d4af9864dab  base\n",
            "autoai-kb_3.1-py3.7            632d4b22-10aa-5180-88f0-f52dfb6444d7  base\n",
            "-----------------------------  ------------------------------------  ----\n",
            "Note: Only first 50 records were displayed. To display more use 'limit' parameter.\n"
          ]
        }
      ]
    },
    {
      "cell_type": "code",
      "source": [
        "software_space_uid = client.software_specifications.get_uid_by_name('tensorflow_rt22.1-py3.9')\n",
        "software_space_uid"
      ],
      "metadata": {
        "colab": {
          "base_uri": "https://localhost:8080/",
          "height": 35
        },
        "id": "ioiaHyzxEwqF",
        "outputId": "2011de89-e55b-4193-9932-0b3a14404ae5"
      },
      "execution_count": 59,
      "outputs": [
        {
          "output_type": "execute_result",
          "data": {
            "text/plain": [
              "'acd9c798-6974-5d2f-a657-ce06e986df4d'"
            ],
            "application/vnd.google.colaboratory.intrinsic+json": {
              "type": "string"
            }
          },
          "metadata": {},
          "execution_count": 59
        }
      ]
    },
    {
      "cell_type": "code",
      "source": [
        "model_details = client.repository.store_model(model = 'gesture-classification.tgz', meta_props={\n",
        "    client.repository.ModelMetaNames.NAME:\"Gesture\",\n",
        "    client.repository.ModelMetaNames.TYPE:'tensorflow_2.7',\n",
        "    client.repository.ModelMetaNames.SOFTWARE_SPEC_UID:software_space_uid\n",
        "})"
      ],
      "metadata": {
        "id": "devwLcQGGWVB"
      },
      "execution_count": 65,
      "outputs": []
    },
    {
      "cell_type": "code",
      "source": [
        "model_details"
      ],
      "metadata": {
        "colab": {
          "base_uri": "https://localhost:8080/"
        },
        "id": "X7kKrZjFIKht",
        "outputId": "93e93137-f925-4cd5-f55a-3235b30e6456"
      },
      "execution_count": 66,
      "outputs": [
        {
          "output_type": "execute_result",
          "data": {
            "text/plain": [
              "{'entity': {'hybrid_pipeline_software_specs': [],\n",
              "  'software_spec': {'id': 'acd9c798-6974-5d2f-a657-ce06e986df4d',\n",
              "   'name': 'tensorflow_rt22.1-py3.9'},\n",
              "  'type': 'tensorflow_2.7'},\n",
              " 'metadata': {'created_at': '2022-11-20T08:21:19.931Z',\n",
              "  'id': '85d6a971-3ed5-4817-8e5f-6bdd8a2c8e13',\n",
              "  'modified_at': '2022-11-20T08:21:22.705Z',\n",
              "  'name': 'Gesture',\n",
              "  'owner': 'IBMid-66300455BA',\n",
              "  'resource_key': 'b7b7b757-a55b-4ec2-88b3-18ee0f6987ab',\n",
              "  'space_id': '65b9f0bd-7d8b-417a-9775-e7e50a025383'},\n",
              " 'system': {'warnings': []}}"
            ]
          },
          "metadata": {},
          "execution_count": 66
        }
      ]
    },
    {
      "cell_type": "code",
      "source": [
        "model_id = client.repository.get_model_id(model_details)\n",
        "model_id"
      ],
      "metadata": {
        "colab": {
          "base_uri": "https://localhost:8080/",
          "height": 35
        },
        "id": "cHSjGKEOIT3w",
        "outputId": "6fa661fd-4e72-4794-bb7b-80eb6aa91acf"
      },
      "execution_count": 67,
      "outputs": [
        {
          "output_type": "execute_result",
          "data": {
            "text/plain": [
              "'85d6a971-3ed5-4817-8e5f-6bdd8a2c8e13'"
            ],
            "application/vnd.google.colaboratory.intrinsic+json": {
              "type": "string"
            }
          },
          "metadata": {},
          "execution_count": 67
        }
      ]
    },
    {
      "cell_type": "code",
      "source": [
        "client.repository.download(model_id, 'Gesture.tar.gb')"
      ],
      "metadata": {
        "colab": {
          "base_uri": "https://localhost:8080/",
          "height": 53
        },
        "id": "MnYunGBtIhLj",
        "outputId": "f0eedf82-7f8e-4de5-faa1-b645b672a0e0"
      },
      "execution_count": 68,
      "outputs": [
        {
          "output_type": "stream",
          "name": "stdout",
          "text": [
            "Successfully saved model content to file: 'Gesture.tar.gb'\n"
          ]
        },
        {
          "output_type": "execute_result",
          "data": {
            "text/plain": [
              "'/content/Gesture.tar.gb'"
            ],
            "application/vnd.google.colaboratory.intrinsic+json": {
              "type": "string"
            }
          },
          "metadata": {},
          "execution_count": 68
        }
      ]
    }
  ]
}