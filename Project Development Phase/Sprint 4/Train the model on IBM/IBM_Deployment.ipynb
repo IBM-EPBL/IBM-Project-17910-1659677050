{
  "cells": [
    {
      "cell_type": "markdown",
      "source": [
        "#Model Building\n",
        "\n",
        "\n",
        "\n",
        "\n",
        "\n",
        "\n",
        "\n",
        "\n"
      ],
      "metadata": {
        "id": "1ktEF6upMqbJ"
      }
    },
    {
      "cell_type": "markdown",
      "metadata": {
        "id": "kPX5aZ14YP9t"
      },
      "source": [
        "#**Data Collection**\n",
        "\n"
      ]
    },
    {
      "cell_type": "code",
      "execution_count": 1,
      "metadata": {
        "id": "vZ2Pxnv_w7IA",
        "colab": {
          "base_uri": "https://localhost:8080/"
        },
        "outputId": "b2d31379-c664-4c5c-84db-e37bc32f43f1"
      },
      "outputs": [
        {
          "output_type": "stream",
          "name": "stdout",
          "text": [
            "Archive:  /content/Dataset.zip\n",
            "  inflating: Dataset/test/1/3.jpg    \n",
            "  inflating: Dataset/test/3/2.jpg    \n",
            "  inflating: Dataset/test/5/1.jpg    \n",
            "  inflating: Dataset/test/2/2.jpg    \n",
            "  inflating: Dataset/test/3/1.jpg    \n",
            "  inflating: Dataset/test/5/2.jpg    \n",
            "  inflating: Dataset/test/5/0.jpg    \n",
            "  inflating: Dataset/test/1/1.jpg    \n",
            "  inflating: Dataset/test/5/4.jpg    \n",
            "  inflating: Dataset/test/0/3.jpg    \n",
            "  inflating: Dataset/test/2/0.jpg    \n",
            "  inflating: Dataset/test/3/3.jpg    \n",
            "  inflating: Dataset/test/0/2.jpg    \n",
            "  inflating: Dataset/test/1/2.jpg    \n",
            "  inflating: Dataset/test/1/4.jpg    \n",
            "  inflating: Dataset/test/4/4.jpg    \n",
            "  inflating: Dataset/test/3/0.jpg    \n",
            "  inflating: Dataset/test/1/0.jpg    \n",
            "  inflating: Dataset/test/3/4.jpg    \n",
            "  inflating: Dataset/test/2/1.jpg    \n",
            "  inflating: Dataset/test/4/2.jpg    \n",
            "  inflating: Dataset/test/5/3.jpg    \n",
            "  inflating: Dataset/test/2/4.jpg    \n",
            "  inflating: Dataset/test/4/3.jpg    \n",
            "  inflating: Dataset/test/0/1.jpg    \n",
            "  inflating: Dataset/test/4/0.jpg    \n",
            "  inflating: Dataset/train/2/91.jpg  \n",
            "  inflating: Dataset/test/0/0.jpg    \n",
            "  inflating: Dataset/train/2/8.jpg   \n",
            "  inflating: Dataset/train/2/95.jpg  \n",
            "  inflating: Dataset/train/2/61.jpg  \n",
            "  inflating: Dataset/train/2/99.jpg  \n",
            "  inflating: Dataset/train/2/83.jpg  \n",
            "  inflating: Dataset/train/2/70.jpg  \n",
            "  inflating: Dataset/test/2/3.jpg    \n",
            "  inflating: Dataset/train/2/82.jpg  \n",
            "  inflating: Dataset/train/2/93.jpg  \n",
            "  inflating: Dataset/train/2/98.jpg  \n",
            "  inflating: Dataset/train/2/88.jpg  \n",
            "  inflating: Dataset/train/2/73.jpg  \n",
            "  inflating: Dataset/test/4/1.jpg    \n",
            "  inflating: Dataset/test/0/4.jpg    \n",
            "  inflating: Dataset/train/2/72.jpg  \n",
            "  inflating: Dataset/train/2/89.jpg  \n",
            "  inflating: Dataset/train/2/65.jpg  \n",
            "  inflating: Dataset/train/2/90.jpg  \n",
            "  inflating: Dataset/train/2/94.jpg  \n",
            "  inflating: Dataset/train/2/71.jpg  \n",
            "  inflating: Dataset/train/2/6.jpg   \n",
            "  inflating: Dataset/train/2/80.jpg  \n",
            "  inflating: Dataset/train/2/49.jpg  \n",
            "  inflating: Dataset/train/2/87.jpg  \n",
            "  inflating: Dataset/train/2/96.jpg  \n",
            "  inflating: Dataset/train/2/86.jpg  \n",
            "  inflating: Dataset/train/2/84.jpg  \n",
            "  inflating: Dataset/train/2/81.jpg  \n",
            "  inflating: Dataset/train/2/62.jpg  \n",
            "  inflating: Dataset/train/2/85.jpg  \n",
            "  inflating: Dataset/train/2/9.jpg   \n",
            "  inflating: Dataset/train/2/92.jpg  \n",
            "  inflating: Dataset/train/2/68.jpg  \n",
            "  inflating: Dataset/train/2/97.jpg  \n",
            "  inflating: Dataset/train/2/51.jpg  \n",
            "  inflating: Dataset/train/2/10.jpg  \n",
            "  inflating: Dataset/train/2/67.jpg  \n",
            "  inflating: Dataset/train/2/75.jpg  \n",
            "  inflating: Dataset/train/2/60.jpg  \n",
            "  inflating: Dataset/train/2/77.jpg  \n",
            "  inflating: Dataset/train/2/47.jpg  \n",
            "  inflating: Dataset/train/2/21.jpg  \n",
            "  inflating: Dataset/train/2/2.jpg   \n",
            "  inflating: Dataset/train/2/17.jpg  \n",
            "  inflating: Dataset/train/2/25.jpg  \n",
            "  inflating: Dataset/train/2/38.jpg  \n",
            "  inflating: Dataset/train/2/74.jpg  \n",
            "  inflating: Dataset/train/2/63.jpg  \n",
            "  inflating: Dataset/train/2/5.jpg   \n",
            "  inflating: Dataset/train/2/1.jpg   \n",
            "  inflating: Dataset/train/2/76.jpg  \n",
            "  inflating: Dataset/train/2/66.jpg  \n",
            "  inflating: Dataset/train/2/3.jpg   \n",
            "  inflating: Dataset/train/2/41.jpg  \n",
            "  inflating: Dataset/train/2/79.jpg  \n",
            "  inflating: Dataset/train/2/27.jpg  \n",
            "  inflating: Dataset/train/2/52.jpg  \n",
            "  inflating: Dataset/train/2/44.jpg  \n",
            "  inflating: Dataset/train/2/69.jpg  \n",
            "  inflating: Dataset/train/2/7.jpg   \n",
            "  inflating: Dataset/train/2/24.jpg  \n",
            "  inflating: Dataset/train/2/14.jpg  \n",
            "  inflating: Dataset/train/2/78.jpg  \n",
            "  inflating: Dataset/train/2/64.jpg  \n",
            "  inflating: Dataset/train/2/54.jpg  \n",
            "  inflating: Dataset/train/2/57.jpg  \n",
            "  inflating: Dataset/train/2/48.jpg  \n",
            "  inflating: Dataset/train/2/39.jpg  \n",
            "  inflating: Dataset/train/2/23.jpg  \n",
            "  inflating: Dataset/train/2/29.jpg  \n",
            "  inflating: Dataset/train/2/42.jpg  \n",
            "  inflating: Dataset/train/2/55.jpg  \n",
            "  inflating: Dataset/train/2/34.jpg  \n",
            "  inflating: Dataset/train/2/31.jpg  \n",
            "  inflating: Dataset/train/4/45.jpg  \n",
            "  inflating: Dataset/train/2/12.jpg  \n",
            "  inflating: Dataset/train/2/59.jpg  \n",
            "  inflating: Dataset/train/2/58.jpg  \n",
            "  inflating: Dataset/train/2/36.jpg  \n",
            "  inflating: Dataset/train/2/37.jpg  \n",
            "  inflating: Dataset/train/4/34.jpg  \n",
            "  inflating: Dataset/train/4/66.jpg  \n",
            "  inflating: Dataset/train/2/16.jpg  \n",
            "  inflating: Dataset/train/2/40.jpg  \n",
            "  inflating: Dataset/train/2/11.jpg  \n",
            "  inflating: Dataset/train/2/46.jpg  \n",
            "  inflating: Dataset/train/2/32.jpg  \n",
            "  inflating: Dataset/train/2/20.jpg  \n",
            "  inflating: Dataset/train/2/4.jpg   \n",
            "  inflating: Dataset/train/2/15.jpg  \n",
            "  inflating: Dataset/train/2/28.jpg  \n",
            "  inflating: Dataset/train/2/33.jpg  \n",
            "  inflating: Dataset/train/2/26.jpg  \n",
            "  inflating: Dataset/train/2/50.jpg  \n",
            "  inflating: Dataset/train/2/43.jpg  \n",
            "  inflating: Dataset/train/4/69.jpg  \n",
            "  inflating: Dataset/train/2/53.jpg  \n",
            "  inflating: Dataset/train/2/19.jpg  \n",
            "  inflating: Dataset/train/2/18.jpg  \n",
            "  inflating: Dataset/train/4/78.jpg  \n",
            "  inflating: Dataset/train/2/13.jpg  \n",
            "  inflating: Dataset/train/2/56.jpg  \n",
            "  inflating: Dataset/train/4/75.jpg  \n",
            "  inflating: Dataset/train/2/35.jpg  \n",
            "  inflating: Dataset/train/4/84.jpg  \n",
            "  inflating: Dataset/train/4/49.jpg  \n",
            "  inflating: Dataset/train/4/33.jpg  \n",
            "  inflating: Dataset/train/4/83.jpg  \n",
            "  inflating: Dataset/train/4/7.jpg   \n",
            "  inflating: Dataset/train/4/88.jpg  \n",
            "  inflating: Dataset/train/4/40.jpg  \n",
            "  inflating: Dataset/train/4/8.jpg   \n",
            "  inflating: Dataset/train/4/94.jpg  \n",
            "  inflating: Dataset/train/4/81.jpg  \n",
            "  inflating: Dataset/train/4/99.jpg  \n",
            "  inflating: Dataset/train/4/42.jpg  \n",
            "  inflating: Dataset/train/4/89.jpg  \n",
            "  inflating: Dataset/train/2/30.jpg  \n",
            "  inflating: Dataset/train/4/36.jpg  \n",
            "  inflating: Dataset/train/4/85.jpg  \n",
            "  inflating: Dataset/train/4/95.jpg  \n",
            "  inflating: Dataset/train/4/9.jpg   \n",
            "  inflating: Dataset/train/4/48.jpg  \n",
            "  inflating: Dataset/train/4/44.jpg  \n",
            "  inflating: Dataset/train/4/41.jpg  \n",
            "  inflating: Dataset/train/4/77.jpg  \n",
            "  inflating: Dataset/train/4/43.jpg  \n",
            "  inflating: Dataset/train/2/45.jpg  \n",
            "  inflating: Dataset/train/4/38.jpg  \n",
            "  inflating: Dataset/train/4/5.jpg   \n",
            "  inflating: Dataset/train/4/97.jpg  \n",
            "  inflating: Dataset/train/4/82.jpg  \n",
            "  inflating: Dataset/train/4/93.jpg  \n",
            "  inflating: Dataset/train/4/54.jpg  \n",
            "  inflating: Dataset/train/4/68.jpg  \n",
            "  inflating: Dataset/train/4/87.jpg  \n",
            "  inflating: Dataset/train/4/35.jpg  \n",
            "  inflating: Dataset/train/4/79.jpg  \n",
            "  inflating: Dataset/train/2/22.jpg  \n",
            "  inflating: Dataset/train/4/47.jpg  \n",
            "  inflating: Dataset/train/4/74.jpg  \n",
            "  inflating: Dataset/train/4/50.jpg  \n",
            "  inflating: Dataset/train/4/72.jpg  \n",
            "  inflating: Dataset/train/4/70.jpg  \n",
            "  inflating: Dataset/train/4/39.jpg  \n",
            "  inflating: Dataset/train/4/52.jpg  \n",
            "  inflating: Dataset/train/4/58.jpg  \n",
            "  inflating: Dataset/train/4/6.jpg   \n",
            "  inflating: Dataset/train/4/64.jpg  \n",
            "  inflating: Dataset/train/5/17.jpg  \n",
            "  inflating: Dataset/train/4/91.jpg  \n",
            "  inflating: Dataset/train/4/90.jpg  \n",
            "  inflating: Dataset/train/4/67.jpg  \n",
            "  inflating: Dataset/train/4/46.jpg  \n",
            "  inflating: Dataset/train/4/53.jpg  \n",
            "  inflating: Dataset/train/4/37.jpg  \n",
            "  inflating: Dataset/train/4/71.jpg  \n",
            "  inflating: Dataset/train/4/86.jpg  \n",
            "  inflating: Dataset/train/4/60.jpg  \n",
            "  inflating: Dataset/train/4/11.jpg  \n",
            "  inflating: Dataset/train/4/51.jpg  \n",
            "  inflating: Dataset/train/4/92.jpg  \n",
            "  inflating: Dataset/train/4/57.jpg  \n",
            "  inflating: Dataset/train/4/59.jpg  \n",
            "  inflating: Dataset/train/4/63.jpg  \n",
            "  inflating: Dataset/train/4/73.jpg  \n",
            "  inflating: Dataset/train/5/91.jpg  \n",
            "  inflating: Dataset/train/4/98.jpg  \n",
            "  inflating: Dataset/train/5/83.jpg  \n",
            "  inflating: Dataset/train/4/12.jpg  \n",
            "  inflating: Dataset/train/4/55.jpg  \n",
            "  inflating: Dataset/train/4/76.jpg  \n",
            "  inflating: Dataset/train/5/42.jpg  \n",
            "  inflating: Dataset/train/5/19.jpg  \n",
            "  inflating: Dataset/train/5/84.jpg  \n",
            "  inflating: Dataset/train/5/50.jpg  \n",
            "  inflating: Dataset/train/4/80.jpg  \n",
            "  inflating: Dataset/train/4/17.jpg  \n",
            "  inflating: Dataset/train/4/32.jpg  \n",
            "  inflating: Dataset/train/4/2.jpg   \n",
            "  inflating: Dataset/train/4/61.jpg  \n",
            "  inflating: Dataset/train/4/56.jpg  \n",
            "  inflating: Dataset/train/4/62.jpg  \n",
            "  inflating: Dataset/train/5/35.jpg  \n",
            "  inflating: Dataset/train/4/3.jpg   \n",
            "  inflating: Dataset/train/5/6.jpg   \n",
            "  inflating: Dataset/train/4/16.jpg  \n",
            "  inflating: Dataset/train/4/14.jpg  \n",
            "  inflating: Dataset/train/5/15.jpg  \n",
            "  inflating: Dataset/train/4/65.jpg  \n",
            "  inflating: Dataset/train/5/23.jpg  \n",
            "  inflating: Dataset/train/5/11.jpg  \n",
            "  inflating: Dataset/train/5/86.jpg  \n",
            "  inflating: Dataset/train/5/99.jpg  \n",
            "  inflating: Dataset/train/5/85.jpg  \n",
            "  inflating: Dataset/train/4/4.jpg   \n",
            "  inflating: Dataset/train/4/19.jpg  \n",
            "  inflating: Dataset/train/4/96.jpg  \n",
            "  inflating: Dataset/train/5/79.jpg  \n",
            "  inflating: Dataset/train/4/25.jpg  \n",
            "  inflating: Dataset/train/4/28.jpg  \n",
            "  inflating: Dataset/train/5/96.jpg  \n",
            "  inflating: Dataset/train/5/37.jpg  \n",
            "  inflating: Dataset/train/3/49.jpg  \n",
            "  inflating: Dataset/train/3/27.jpg  \n",
            "  inflating: Dataset/train/4/15.jpg  \n",
            "  inflating: Dataset/train/3/35.jpg  \n",
            "  inflating: Dataset/train/4/26.jpg  \n",
            "  inflating: Dataset/train/3/17.jpg  \n",
            "  inflating: Dataset/train/5/90.jpg  \n",
            "  inflating: Dataset/train/4/23.jpg  \n",
            "  inflating: Dataset/train/5/97.jpg  \n",
            "  inflating: Dataset/train/4/24.jpg  \n",
            "  inflating: Dataset/train/5/36.jpg  \n",
            "  inflating: Dataset/train/5/95.jpg  \n",
            "  inflating: Dataset/train/4/29.jpg  \n",
            "  inflating: Dataset/train/5/45.jpg  \n",
            "  inflating: Dataset/train/4/18.jpg  \n",
            "  inflating: Dataset/train/4/13.jpg  \n",
            "  inflating: Dataset/train/4/22.jpg  \n",
            "  inflating: Dataset/train/5/93.jpg  \n",
            "  inflating: Dataset/train/5/13.jpg  \n",
            "  inflating: Dataset/train/4/30.jpg  \n",
            "  inflating: Dataset/train/5/18.jpg  \n",
            "  inflating: Dataset/train/4/10.jpg  \n",
            "  inflating: Dataset/train/4/21.jpg  \n",
            "  inflating: Dataset/train/3/86.jpg  \n",
            "  inflating: Dataset/train/3/24.jpg  \n",
            "  inflating: Dataset/train/5/46.jpg  \n",
            "  inflating: Dataset/train/5/22.jpg  \n",
            "  inflating: Dataset/train/4/1.jpg   \n",
            "  inflating: Dataset/train/5/4.jpg   \n",
            "  inflating: Dataset/train/3/19.jpg  \n",
            "  inflating: Dataset/train/3/66.jpg  \n",
            "  inflating: Dataset/train/5/32.jpg  \n",
            "  inflating: Dataset/train/5/98.jpg  \n",
            "  inflating: Dataset/train/5/78.jpg  \n",
            "  inflating: Dataset/train/4/27.jpg  \n",
            "  inflating: Dataset/train/5/41.jpg  \n",
            "  inflating: Dataset/train/5/2.jpg   \n",
            "  inflating: Dataset/train/3/28.jpg  \n",
            "  inflating: Dataset/train/5/59.jpg  \n",
            "  inflating: Dataset/train/5/26.jpg  \n",
            "  inflating: Dataset/train/3/20.jpg  \n",
            "  inflating: Dataset/train/4/20.jpg  \n",
            "  inflating: Dataset/train/3/53.jpg  \n",
            "  inflating: Dataset/train/3/40.jpg  \n",
            "  inflating: Dataset/train/3/81.jpg  \n",
            "  inflating: Dataset/train/5/67.jpg  \n",
            "  inflating: Dataset/train/5/58.jpg  \n",
            "  inflating: Dataset/train/3/12.jpg  \n",
            "  inflating: Dataset/train/4/31.jpg  \n",
            "  inflating: Dataset/train/5/40.jpg  \n",
            "  inflating: Dataset/train/5/44.jpg  \n",
            "  inflating: Dataset/train/3/77.jpg  \n",
            "  inflating: Dataset/train/5/57.jpg  \n",
            "  inflating: Dataset/train/3/33.jpg  \n",
            "  inflating: Dataset/train/5/9.jpg   \n",
            "  inflating: Dataset/train/3/22.jpg  \n",
            "  inflating: Dataset/train/3/89.jpg  \n",
            "  inflating: Dataset/train/3/7.jpg   \n",
            "  inflating: Dataset/train/5/87.jpg  \n",
            "  inflating: Dataset/train/5/7.jpg   \n",
            "  inflating: Dataset/train/5/20.jpg  \n",
            "  inflating: Dataset/train/3/26.jpg  \n",
            "  inflating: Dataset/train/5/52.jpg  \n",
            "  inflating: Dataset/train/5/29.jpg  \n",
            "  inflating: Dataset/train/5/75.jpg  \n",
            "  inflating: Dataset/train/3/34.jpg  \n",
            "  inflating: Dataset/train/5/43.jpg  \n",
            "  inflating: Dataset/train/5/3.jpg   \n",
            "  inflating: Dataset/train/3/85.jpg  \n",
            "  inflating: Dataset/train/3/67.jpg  \n",
            "  inflating: Dataset/train/5/30.jpg  \n",
            "  inflating: Dataset/train/5/53.jpg  \n",
            "  inflating: Dataset/train/5/51.jpg  \n",
            "  inflating: Dataset/train/3/18.jpg  \n",
            "  inflating: Dataset/train/3/48.jpg  \n",
            "  inflating: Dataset/train/3/94.jpg  \n",
            "  inflating: Dataset/train/3/46.jpg  \n",
            "  inflating: Dataset/train/5/34.jpg  \n",
            "  inflating: Dataset/train/3/80.jpg  \n",
            "  inflating: Dataset/train/3/14.jpg  \n",
            "  inflating: Dataset/train/5/64.jpg  \n",
            "  inflating: Dataset/train/3/74.jpg  \n",
            "  inflating: Dataset/train/5/70.jpg  \n",
            "  inflating: Dataset/train/5/80.jpg  \n",
            "  inflating: Dataset/train/3/1.jpg   \n",
            "  inflating: Dataset/train/3/51.jpg  \n",
            "  inflating: Dataset/train/3/57.jpg  \n",
            "  inflating: Dataset/train/5/63.jpg  \n",
            "  inflating: Dataset/train/5/68.jpg  \n",
            "  inflating: Dataset/train/5/14.jpg  \n",
            "  inflating: Dataset/train/3/90.jpg  \n",
            "  inflating: Dataset/train/5/60.jpg  \n",
            "  inflating: Dataset/train/3/75.jpg  \n",
            "  inflating: Dataset/train/3/88.jpg  \n",
            "  inflating: Dataset/train/3/30.jpg  \n",
            "  inflating: Dataset/train/3/4.jpg   \n",
            "  inflating: Dataset/train/5/38.jpg  \n",
            "  inflating: Dataset/train/5/1.jpg   \n",
            "  inflating: Dataset/train/5/61.jpg  \n",
            "  inflating: Dataset/train/5/48.jpg  \n",
            "  inflating: Dataset/train/5/47.jpg  \n",
            "  inflating: Dataset/train/3/70.jpg  \n",
            "  inflating: Dataset/train/5/28.jpg  \n",
            "  inflating: Dataset/train/5/62.jpg  \n",
            "  inflating: Dataset/train/5/94.jpg  \n",
            "  inflating: Dataset/train/3/45.jpg  \n",
            "  inflating: Dataset/train/5/27.jpg  \n",
            "  inflating: Dataset/train/5/12.jpg  \n",
            "  inflating: Dataset/train/5/81.jpg  \n",
            "  inflating: Dataset/train/5/89.jpg  \n",
            "  inflating: Dataset/train/5/71.jpg  \n",
            "  inflating: Dataset/train/5/82.jpg  \n",
            "  inflating: Dataset/train/3/2.jpg   \n",
            "  inflating: Dataset/train/3/91.jpg  \n",
            "  inflating: Dataset/train/3/96.jpg  \n",
            "  inflating: Dataset/train/3/79.jpg  \n",
            "  inflating: Dataset/train/5/56.jpg  \n",
            "  inflating: Dataset/train/5/92.jpg  \n",
            "  inflating: Dataset/train/3/31.jpg  \n",
            "  inflating: Dataset/train/5/8.jpg   \n",
            "  inflating: Dataset/train/5/66.jpg  \n",
            "  inflating: Dataset/train/3/55.jpg  \n",
            "  inflating: Dataset/train/3/41.jpg  \n",
            "  inflating: Dataset/train/5/25.jpg  \n",
            "  inflating: Dataset/train/5/21.jpg  \n",
            "  inflating: Dataset/train/3/32.jpg  \n",
            "  inflating: Dataset/train/3/78.jpg  \n",
            "  inflating: Dataset/train/5/77.jpg  \n",
            "  inflating: Dataset/train/5/76.jpg  \n",
            "  inflating: Dataset/train/3/64.jpg  \n",
            "  inflating: Dataset/train/3/68.jpg  \n",
            "  inflating: Dataset/train/5/88.jpg  \n",
            "  inflating: Dataset/train/3/9.jpg   \n",
            "  inflating: Dataset/train/3/43.jpg  \n",
            "  inflating: Dataset/train/3/84.jpg  \n",
            "  inflating: Dataset/train/3/36.jpg  \n",
            "  inflating: Dataset/train/5/55.jpg  \n",
            "  inflating: Dataset/train/5/69.jpg  \n",
            "  inflating: Dataset/train/3/8.jpg   \n",
            "  inflating: Dataset/train/3/83.jpg  \n",
            "  inflating: Dataset/train/5/74.jpg  \n",
            "  inflating: Dataset/train/3/95.jpg  \n",
            "  inflating: Dataset/train/5/24.jpg  \n",
            "  inflating: Dataset/train/3/93.jpg  \n",
            "  inflating: Dataset/train/3/71.jpg  \n",
            "  inflating: Dataset/train/3/99.jpg  \n",
            "  inflating: Dataset/train/3/3.jpg   \n",
            "  inflating: Dataset/train/5/16.jpg  \n",
            "  inflating: Dataset/train/3/37.jpg  \n",
            "  inflating: Dataset/train/3/59.jpg  \n",
            "  inflating: Dataset/train/5/39.jpg  \n",
            "  inflating: Dataset/train/3/5.jpg   \n",
            "  inflating: Dataset/train/3/50.jpg  \n",
            "  inflating: Dataset/train/5/72.jpg  \n",
            "  inflating: Dataset/train/3/13.jpg  \n",
            "  inflating: Dataset/train/3/42.jpg  \n",
            "  inflating: Dataset/train/3/39.jpg  \n",
            "  inflating: Dataset/train/5/54.jpg  \n",
            "  inflating: Dataset/train/3/65.jpg  \n",
            "  inflating: Dataset/train/3/60.jpg  \n",
            "  inflating: Dataset/train/3/98.jpg  \n",
            "  inflating: Dataset/train/5/33.jpg  \n",
            "  inflating: Dataset/train/5/5.jpg   \n",
            "  inflating: Dataset/train/3/87.jpg  \n",
            "  inflating: Dataset/train/3/97.jpg  \n",
            "  inflating: Dataset/train/3/29.jpg  \n",
            "  inflating: Dataset/train/3/16.jpg  \n",
            "  inflating: Dataset/train/5/73.jpg  \n",
            "  inflating: Dataset/train/3/72.jpg  \n",
            "  inflating: Dataset/train/5/65.jpg  \n",
            "  inflating: Dataset/train/5/49.jpg  \n",
            "  inflating: Dataset/train/3/47.jpg  \n",
            "  inflating: Dataset/train/5/31.jpg  \n",
            "  inflating: Dataset/train/3/25.jpg  \n",
            "  inflating: Dataset/train/3/63.jpg  \n",
            "  inflating: Dataset/train/1/76.jpg  \n",
            "  inflating: Dataset/train/3/52.jpg  \n",
            "  inflating: Dataset/train/3/69.jpg  \n",
            "  inflating: Dataset/train/1/61.jpg  \n",
            "  inflating: Dataset/train/3/82.jpg  \n",
            "  inflating: Dataset/train/3/92.jpg  \n",
            "  inflating: Dataset/train/1/50.jpg  \n",
            "  inflating: Dataset/train/0/2.jpg   \n",
            "  inflating: Dataset/train/3/6.jpg   \n",
            "  inflating: Dataset/train/3/56.jpg  \n",
            "  inflating: Dataset/train/3/73.jpg  \n",
            "  inflating: Dataset/train/1/93.jpg  \n",
            "  inflating: Dataset/train/1/56.jpg  \n",
            "  inflating: Dataset/train/0/36.jpg  \n",
            "  inflating: Dataset/train/1/52.jpg  \n",
            "  inflating: Dataset/train/3/76.jpg  \n",
            "  inflating: Dataset/train/3/11.jpg  \n",
            "  inflating: Dataset/train/3/58.jpg  \n",
            "  inflating: Dataset/train/1/58.jpg  \n",
            "  inflating: Dataset/train/3/10.jpg  \n",
            "  inflating: Dataset/train/3/23.jpg  \n",
            "  inflating: Dataset/train/1/95.jpg  \n",
            "  inflating: Dataset/train/1/72.jpg  \n",
            "  inflating: Dataset/train/1/91.jpg  \n",
            "  inflating: Dataset/train/0/63.jpg  \n",
            "  inflating: Dataset/train/1/86.jpg  \n",
            "  inflating: Dataset/train/3/38.jpg  \n",
            "  inflating: Dataset/train/0/75.jpg  \n",
            "  inflating: Dataset/train/3/44.jpg  \n",
            "  inflating: Dataset/train/1/8.jpg   \n",
            "  inflating: Dataset/train/3/21.jpg  \n",
            "  inflating: Dataset/train/1/53.jpg  \n",
            "  inflating: Dataset/train/5/10.jpg  \n",
            "  inflating: Dataset/train/0/62.jpg  \n",
            "  inflating: Dataset/train/1/67.jpg  \n",
            "  inflating: Dataset/train/1/7.jpg   \n",
            "  inflating: Dataset/train/1/65.jpg  \n",
            "  inflating: Dataset/train/3/54.jpg  \n",
            "  inflating: Dataset/train/3/15.jpg  \n",
            "  inflating: Dataset/train/3/61.jpg  \n",
            "  inflating: Dataset/train/3/62.jpg  \n",
            "  inflating: Dataset/train/1/63.jpg  \n",
            "  inflating: Dataset/train/0/90.jpg  \n",
            "  inflating: Dataset/train/0/39.jpg  \n",
            "  inflating: Dataset/train/1/78.jpg  \n",
            "  inflating: Dataset/train/0/34.jpg  \n",
            "  inflating: Dataset/train/0/23.jpg  \n",
            "  inflating: Dataset/train/1/77.jpg  \n",
            "  inflating: Dataset/train/0/29.jpg  \n",
            "  inflating: Dataset/train/1/69.jpg  \n",
            "  inflating: Dataset/train/0/38.jpg  \n",
            "  inflating: Dataset/train/1/81.jpg  \n",
            "  inflating: Dataset/train/0/32.jpg  \n",
            "  inflating: Dataset/train/1/60.jpg  \n",
            "  inflating: Dataset/train/0/70.jpg  \n",
            "  inflating: Dataset/train/1/79.jpg  \n",
            "  inflating: Dataset/train/0/41.jpg  \n",
            "  inflating: Dataset/train/0/56.jpg  \n",
            "  inflating: Dataset/train/1/6.jpg   \n",
            "  inflating: Dataset/train/0/66.jpg  \n",
            "  inflating: Dataset/train/0/78.jpg  \n",
            "  inflating: Dataset/train/1/98.jpg  \n",
            "  inflating: Dataset/train/0/61.jpg  \n",
            "  inflating: Dataset/train/0/33.jpg  \n",
            "  inflating: Dataset/train/1/55.jpg  \n",
            "  inflating: Dataset/train/0/20.jpg  \n",
            "  inflating: Dataset/train/1/94.jpg  \n",
            "  inflating: Dataset/train/1/89.jpg  \n",
            "  inflating: Dataset/train/1/92.jpg  \n",
            "  inflating: Dataset/train/0/46.jpg  \n",
            "  inflating: Dataset/train/1/71.jpg  \n",
            "  inflating: Dataset/train/1/73.jpg  \n",
            "  inflating: Dataset/train/1/75.jpg  \n",
            "  inflating: Dataset/train/1/59.jpg  \n",
            "  inflating: Dataset/train/0/22.jpg  \n",
            "  inflating: Dataset/train/0/21.jpg  \n",
            "  inflating: Dataset/train/0/31.jpg  \n",
            "  inflating: Dataset/train/1/96.jpg  \n",
            "  inflating: Dataset/train/0/19.jpg  \n",
            "  inflating: Dataset/train/0/44.jpg  \n",
            "  inflating: Dataset/train/1/80.jpg  \n",
            "  inflating: Dataset/train/1/87.jpg  \n",
            "  inflating: Dataset/train/1/64.jpg  \n",
            "  inflating: Dataset/train/0/96.jpg  \n",
            "  inflating: Dataset/train/1/49.jpg  \n",
            "  inflating: Dataset/train/1/54.jpg  \n",
            "  inflating: Dataset/train/0/48.jpg  \n",
            "  inflating: Dataset/train/1/62.jpg  \n",
            "  inflating: Dataset/train/1/5.jpg   \n",
            "  inflating: Dataset/train/1/97.jpg  \n",
            "  inflating: Dataset/train/1/57.jpg  \n",
            "  inflating: Dataset/train/0/35.jpg  \n",
            "  inflating: Dataset/train/1/68.jpg  \n",
            "  inflating: Dataset/train/0/64.jpg  \n",
            "  inflating: Dataset/train/0/42.jpg  \n",
            "  inflating: Dataset/train/1/9.jpg   \n",
            "  inflating: Dataset/train/1/82.jpg  \n",
            "  inflating: Dataset/train/1/85.jpg  \n",
            "  inflating: Dataset/train/0/28.jpg  \n",
            "  inflating: Dataset/train/0/85.jpg  \n",
            "  inflating: Dataset/train/0/49.jpg  \n",
            "  inflating: Dataset/train/1/66.jpg  \n",
            "  inflating: Dataset/train/1/74.jpg  \n",
            "  inflating: Dataset/train/0/99.jpg  \n",
            "  inflating: Dataset/train/1/83.jpg  \n",
            "  inflating: Dataset/train/0/89.jpg  \n",
            "  inflating: Dataset/train/1/51.jpg  \n",
            "  inflating: Dataset/train/0/83.jpg  \n",
            "  inflating: Dataset/train/1/29.jpg  \n",
            "  inflating: Dataset/train/0/80.jpg  \n",
            "  inflating: Dataset/train/1/70.jpg  \n",
            "  inflating: Dataset/train/1/88.jpg  \n",
            "  inflating: Dataset/train/0/84.jpg  \n",
            "  inflating: Dataset/train/1/35.jpg  \n",
            "  inflating: Dataset/train/0/7.jpg   \n",
            "  inflating: Dataset/train/0/82.jpg  \n",
            "  inflating: Dataset/train/0/74.jpg  \n",
            "  inflating: Dataset/train/1/90.jpg  \n",
            "  inflating: Dataset/train/1/84.jpg  \n",
            "  inflating: Dataset/train/0/37.jpg  \n",
            "  inflating: Dataset/train/0/92.jpg  \n",
            "  inflating: Dataset/train/0/98.jpg  \n",
            "  inflating: Dataset/train/1/30.jpg  \n",
            "  inflating: Dataset/train/1/2.jpg   \n",
            "  inflating: Dataset/train/1/20.jpg  \n",
            "  inflating: Dataset/train/1/41.jpg  \n",
            "  inflating: Dataset/train/1/22.jpg  \n",
            "  inflating: Dataset/train/1/99.jpg  \n",
            "  inflating: Dataset/train/0/30.jpg  \n",
            "  inflating: Dataset/train/0/52.jpg  \n",
            "  inflating: Dataset/train/1/37.jpg  \n",
            "  inflating: Dataset/train/1/1.jpg   \n",
            "  inflating: Dataset/train/0/86.jpg  \n",
            "  inflating: Dataset/train/1/13.jpg  \n",
            "  inflating: Dataset/train/0/53.jpg  \n",
            "  inflating: Dataset/train/0/59.jpg  \n",
            "  inflating: Dataset/train/1/47.jpg  \n",
            "  inflating: Dataset/train/0/77.jpg  \n",
            "  inflating: Dataset/train/1/27.jpg  \n",
            "  inflating: Dataset/train/1/43.jpg  \n",
            "  inflating: Dataset/train/1/42.jpg  \n",
            "  inflating: Dataset/train/1/26.jpg  \n",
            "  inflating: Dataset/train/1/12.jpg  \n",
            "  inflating: Dataset/train/1/16.jpg  \n",
            "  inflating: Dataset/train/1/40.jpg  \n",
            "  inflating: Dataset/train/0/68.jpg  \n",
            "  inflating: Dataset/train/0/24.jpg  \n",
            "  inflating: Dataset/train/0/43.jpg  \n",
            "  inflating: Dataset/train/0/54.jpg  \n",
            "  inflating: Dataset/train/1/36.jpg  \n",
            "  inflating: Dataset/train/1/32.jpg  \n",
            "  inflating: Dataset/train/0/57.jpg  \n",
            "  inflating: Dataset/train/0/58.jpg  \n",
            "  inflating: Dataset/train/1/48.jpg  \n",
            "  inflating: Dataset/train/0/95.jpg  \n",
            "  inflating: Dataset/train/1/38.jpg  \n",
            "  inflating: Dataset/train/0/47.jpg  \n",
            "  inflating: Dataset/train/0/9.jpg   \n",
            "  inflating: Dataset/train/1/28.jpg  \n",
            "  inflating: Dataset/train/0/27.jpg  \n",
            "  inflating: Dataset/train/0/91.jpg  \n",
            "  inflating: Dataset/train/0/87.jpg  \n",
            "  inflating: Dataset/train/1/15.jpg  \n",
            "  inflating: Dataset/train/0/65.jpg  \n",
            "  inflating: Dataset/train/0/69.jpg  \n",
            "  inflating: Dataset/train/1/21.jpg  \n",
            "  inflating: Dataset/train/0/79.jpg  \n",
            "  inflating: Dataset/train/0/5.jpg   \n",
            "  inflating: Dataset/train/1/44.jpg  \n",
            "  inflating: Dataset/train/1/45.jpg  \n",
            "  inflating: Dataset/train/0/50.jpg  \n",
            "  inflating: Dataset/train/1/34.jpg  \n",
            "  inflating: Dataset/train/1/46.jpg  \n",
            "  inflating: Dataset/train/0/6.jpg   \n",
            "  inflating: Dataset/train/1/17.jpg  \n",
            "  inflating: Dataset/train/0/81.jpg  \n",
            "  inflating: Dataset/train/0/67.jpg  \n",
            "  inflating: Dataset/train/1/3.jpg   \n",
            "  inflating: Dataset/train/0/26.jpg  \n",
            "  inflating: Dataset/train/1/39.jpg  \n",
            "  inflating: Dataset/train/0/40.jpg  \n",
            "  inflating: Dataset/train/0/73.jpg  \n",
            "  inflating: Dataset/train/0/25.jpg  \n",
            "  inflating: Dataset/train/0/71.jpg  \n",
            "  inflating: Dataset/train/0/55.jpg  \n",
            "  inflating: Dataset/train/0/88.jpg  \n",
            "  inflating: Dataset/train/0/76.jpg  \n",
            "  inflating: Dataset/train/0/4.jpg   \n",
            "  inflating: Dataset/train/1/14.jpg  \n",
            "  inflating: Dataset/train/0/10.jpg  \n",
            "  inflating: Dataset/train/0/18.jpg  \n",
            "  inflating: Dataset/train/0/45.jpg  \n",
            "  inflating: Dataset/train/1/18.jpg  \n",
            "  inflating: Dataset/train/0/17.jpg  \n",
            "  inflating: Dataset/train/1/4.jpg   \n",
            "  inflating: Dataset/train/0/93.jpg  \n",
            "  inflating: Dataset/train/0/8.jpg   \n",
            "  inflating: Dataset/train/1/25.jpg  \n",
            "  inflating: Dataset/train/0/12.jpg  \n",
            "  inflating: Dataset/train/0/94.jpg  \n",
            "  inflating: Dataset/train/1/33.jpg  \n",
            "  inflating: Dataset/train/1/31.jpg  \n",
            "  inflating: Dataset/train/1/10.jpg  \n",
            "  inflating: Dataset/train/0/60.jpg  \n",
            "  inflating: Dataset/train/0/3.jpg   \n",
            "  inflating: Dataset/train/1/19.jpg  \n",
            "  inflating: Dataset/train/1/23.jpg  \n",
            "  inflating: Dataset/train/0/1.jpg   \n",
            "  inflating: Dataset/train/1/24.jpg  \n",
            "  inflating: Dataset/train/0/14.jpg  \n",
            "  inflating: Dataset/train/0/72.jpg  \n",
            "  inflating: Dataset/train/1/11.jpg  \n",
            "  inflating: Dataset/train/0/13.jpg  \n",
            "  inflating: Dataset/train/0/16.jpg  \n",
            "  inflating: Dataset/train/0/15.jpg  \n",
            "  inflating: Dataset/train/0/11.jpg  \n",
            "  inflating: Dataset/train/0/97.jpg  \n",
            "  inflating: Dataset/train/0/51.jpg  \n"
          ]
        }
      ],
      "source": [
        "# Extract zip Folder\n",
        "\n",
        "!unzip '/content/Dataset.zip'"
      ]
    },
    {
      "cell_type": "code",
      "execution_count": 2,
      "metadata": {
        "id": "23gnmUDjPHcn"
      },
      "outputs": [],
      "source": [
        "from keras.preprocessing.image import ImageDataGenerator\n"
      ]
    },
    {
      "cell_type": "markdown",
      "metadata": {
        "id": "9_wVJNqaTF6T"
      },
      "source": [
        "#Define the parameters/arguments for ImageDataGenertor Class"
      ]
    },
    {
      "cell_type": "code",
      "execution_count": 3,
      "metadata": {
        "id": "y-Hwg0qdSrL1"
      },
      "outputs": [],
      "source": [
        "train_datagen=ImageDataGenerator(rescale=1./255,shear_range=0.2,zoom_range=0.2,horizontal_flip=True)\n"
      ]
    },
    {
      "cell_type": "markdown",
      "metadata": {
        "id": "j__3wTwNTWKu"
      },
      "source": [
        "#Applying ImageDataGenerator functionality to trainset and testset"
      ]
    },
    {
      "cell_type": "code",
      "execution_count": 4,
      "metadata": {
        "id": "y1viqu5YTEej"
      },
      "outputs": [],
      "source": [
        "train_datagen=ImageDataGenerator(rescale=1./255,shear_range=0.2,zoom_range=0.2,horizontal_flip=True)\n",
        "test_datagen=ImageDataGenerator(rescale=1./255)"
      ]
    },
    {
      "cell_type": "code",
      "execution_count": 5,
      "metadata": {
        "colab": {
          "base_uri": "https://localhost:8080/"
        },
        "id": "Hla59CojT94s",
        "outputId": "f53035cc-3ac6-453a-def5-d3d427df6aed"
      },
      "outputs": [
        {
          "output_type": "stream",
          "name": "stdout",
          "text": [
            "Found 594 images belonging to 6 classes.\n",
            "Found 30 images belonging to 6 classes.\n"
          ]
        }
      ],
      "source": [
        "x_train=train_datagen.flow_from_directory(r'/content/Dataset/train',target_size=(64,64),batch_size=32,color_mode='grayscale',class_mode='categorical')\n",
        "x_test=train_datagen.flow_from_directory(r'/content/Dataset/test',target_size=(64,64),batch_size=32,color_mode='grayscale',class_mode='categorical')\n"
      ]
    },
    {
      "cell_type": "markdown",
      "metadata": {
        "id": "76dtTiGIZCKf"
      },
      "source": [
        "#**Model Building**"
      ]
    },
    {
      "cell_type": "markdown",
      "metadata": {
        "id": "uxUR_1DSYxkR"
      },
      "source": [
        "\n",
        "#Importing necessary libraries\n",
        "\n",
        "\n",
        "\n",
        "\n"
      ]
    },
    {
      "cell_type": "code",
      "execution_count": 6,
      "metadata": {
        "id": "9KXUu-J0ZHsj"
      },
      "outputs": [],
      "source": [
        "import numpy as np\n",
        "import tensorflow\n",
        "from tensorflow.keras.models import Sequential\n",
        "from keras.models import Model\n",
        "from tensorflow.keras import layers\n",
        "from tensorflow.keras.layers import Dense,Flatten\n",
        "from tensorflow.keras.layers import Conv2D,MaxPooling2D"
      ]
    },
    {
      "cell_type": "markdown",
      "metadata": {
        "id": "HEW-uxdYaBQt"
      },
      "source": [
        "#Initializing The Model"
      ]
    },
    {
      "cell_type": "code",
      "execution_count": 7,
      "metadata": {
        "id": "64EIru-_aF48"
      },
      "outputs": [],
      "source": [
        "model=Sequential()"
      ]
    },
    {
      "cell_type": "markdown",
      "metadata": {
        "id": "Pb-TwLItaM4M"
      },
      "source": [
        "#Adding CNN Layers"
      ]
    },
    {
      "cell_type": "code",
      "execution_count": 8,
      "metadata": {
        "id": "j5yg0WTVaQtu"
      },
      "outputs": [],
      "source": [
        "model.add(Conv2D(32,(3,3),input_shape=(64,64,1),activation='relu'))\n",
        "model.add(MaxPooling2D(pool_size=(2,2)))\n",
        "model.add(Conv2D(32,(3,3),activation='relu'))\n",
        "model.add(MaxPooling2D(pool_size=(2,2)))\n",
        "model.add(Flatten())"
      ]
    },
    {
      "cell_type": "markdown",
      "metadata": {
        "id": "JerNUaB71YCl"
      },
      "source": [
        "#Adding Dense Layer"
      ]
    },
    {
      "cell_type": "code",
      "execution_count": 9,
      "metadata": {
        "id": "oJNRaP421bD_"
      },
      "outputs": [],
      "source": [
        "model.add(Dense(units=128,activation='relu'))\n",
        "model.add(Dense(units=6,activation='softmax'))"
      ]
    },
    {
      "cell_type": "code",
      "execution_count": 10,
      "metadata": {
        "colab": {
          "base_uri": "https://localhost:8080/"
        },
        "id": "uwiO4qwA1qBw",
        "outputId": "ea8f3fda-c6da-4307-ee26-dc0d6be21e9c"
      },
      "outputs": [
        {
          "output_type": "stream",
          "name": "stdout",
          "text": [
            "Model: \"sequential\"\n",
            "_________________________________________________________________\n",
            " Layer (type)                Output Shape              Param #   \n",
            "=================================================================\n",
            " conv2d (Conv2D)             (None, 62, 62, 32)        320       \n",
            "                                                                 \n",
            " max_pooling2d (MaxPooling2D  (None, 31, 31, 32)       0         \n",
            " )                                                               \n",
            "                                                                 \n",
            " conv2d_1 (Conv2D)           (None, 29, 29, 32)        9248      \n",
            "                                                                 \n",
            " max_pooling2d_1 (MaxPooling  (None, 14, 14, 32)       0         \n",
            " 2D)                                                             \n",
            "                                                                 \n",
            " flatten (Flatten)           (None, 6272)              0         \n",
            "                                                                 \n",
            " dense (Dense)               (None, 128)               802944    \n",
            "                                                                 \n",
            " dense_1 (Dense)             (None, 6)                 774       \n",
            "                                                                 \n",
            "=================================================================\n",
            "Total params: 813,286\n",
            "Trainable params: 813,286\n",
            "Non-trainable params: 0\n",
            "_________________________________________________________________\n"
          ]
        }
      ],
      "source": [
        "model.summary()"
      ]
    },
    {
      "cell_type": "markdown",
      "metadata": {
        "id": "fVPRdq-i16Nw"
      },
      "source": [
        "#Configure The Learning Process"
      ]
    },
    {
      "cell_type": "code",
      "execution_count": 11,
      "metadata": {
        "id": "ek3mgv_Y15mO"
      },
      "outputs": [],
      "source": [
        "#Compiling the model\n",
        "model.compile(optimizer='adam',loss='categorical_crossentropy',metrics=['accuracy'])"
      ]
    },
    {
      "cell_type": "markdown",
      "metadata": {
        "id": "K4ps1zNd2YEi"
      },
      "source": [
        "#Train The Model"
      ]
    },
    {
      "cell_type": "code",
      "execution_count": 13,
      "metadata": {
        "colab": {
          "base_uri": "https://localhost:8080/"
        },
        "id": "0H-314Un2aMi",
        "outputId": "19eba17f-2fa7-497f-cc28-afc6f8aa389a"
      },
      "outputs": [
        {
          "output_type": "stream",
          "name": "stdout",
          "text": [
            "Epoch 1/20\n"
          ]
        },
        {
          "output_type": "stream",
          "name": "stderr",
          "text": [
            "/usr/local/lib/python3.7/dist-packages/ipykernel_launcher.py:4: UserWarning: `Model.fit_generator` is deprecated and will be removed in a future version. Please use `Model.fit`, which supports generators.\n",
            "  after removing the cwd from sys.path.\n"
          ]
        },
        {
          "output_type": "stream",
          "name": "stdout",
          "text": [
            "19/19 [==============================] - 3s 155ms/step - loss: 1.2034 - accuracy: 0.5791 - val_loss: 0.8472 - val_accuracy: 0.7000\n",
            "Epoch 2/20\n",
            "19/19 [==============================] - 3s 155ms/step - loss: 0.7949 - accuracy: 0.6801 - val_loss: 0.6401 - val_accuracy: 0.8000\n",
            "Epoch 3/20\n",
            "19/19 [==============================] - 3s 149ms/step - loss: 0.6932 - accuracy: 0.7256 - val_loss: 0.5726 - val_accuracy: 0.8333\n",
            "Epoch 4/20\n",
            "19/19 [==============================] - 3s 143ms/step - loss: 0.5207 - accuracy: 0.8098 - val_loss: 0.4732 - val_accuracy: 0.8667\n",
            "Epoch 5/20\n",
            "19/19 [==============================] - 3s 153ms/step - loss: 0.4048 - accuracy: 0.8519 - val_loss: 0.5441 - val_accuracy: 0.8333\n",
            "Epoch 6/20\n",
            "19/19 [==============================] - 3s 153ms/step - loss: 0.3384 - accuracy: 0.8906 - val_loss: 0.3888 - val_accuracy: 0.8667\n",
            "Epoch 7/20\n",
            "19/19 [==============================] - 3s 149ms/step - loss: 0.3458 - accuracy: 0.8603 - val_loss: 0.4331 - val_accuracy: 0.8667\n",
            "Epoch 8/20\n",
            "19/19 [==============================] - 3s 148ms/step - loss: 0.2319 - accuracy: 0.9209 - val_loss: 0.3240 - val_accuracy: 0.9000\n",
            "Epoch 9/20\n",
            "19/19 [==============================] - 3s 155ms/step - loss: 0.2117 - accuracy: 0.9394 - val_loss: 0.2936 - val_accuracy: 0.9667\n",
            "Epoch 10/20\n",
            "19/19 [==============================] - 3s 153ms/step - loss: 0.1952 - accuracy: 0.9394 - val_loss: 0.3189 - val_accuracy: 0.8667\n",
            "Epoch 11/20\n",
            "19/19 [==============================] - 3s 171ms/step - loss: 0.1773 - accuracy: 0.9444 - val_loss: 0.4189 - val_accuracy: 0.8333\n",
            "Epoch 12/20\n",
            "19/19 [==============================] - 3s 149ms/step - loss: 0.1742 - accuracy: 0.9411 - val_loss: 0.2488 - val_accuracy: 0.9667\n",
            "Epoch 13/20\n",
            "19/19 [==============================] - 3s 147ms/step - loss: 0.1293 - accuracy: 0.9562 - val_loss: 0.1838 - val_accuracy: 0.9667\n",
            "Epoch 14/20\n",
            "19/19 [==============================] - 3s 154ms/step - loss: 0.1111 - accuracy: 0.9663 - val_loss: 0.2442 - val_accuracy: 0.9667\n",
            "Epoch 15/20\n",
            "19/19 [==============================] - 3s 147ms/step - loss: 0.1035 - accuracy: 0.9714 - val_loss: 0.3317 - val_accuracy: 0.9000\n",
            "Epoch 16/20\n",
            "19/19 [==============================] - 3s 148ms/step - loss: 0.1041 - accuracy: 0.9646 - val_loss: 0.2883 - val_accuracy: 0.9333\n",
            "Epoch 17/20\n",
            "19/19 [==============================] - 3s 143ms/step - loss: 0.0654 - accuracy: 0.9848 - val_loss: 0.2015 - val_accuracy: 0.9667\n",
            "Epoch 18/20\n",
            "19/19 [==============================] - 3s 155ms/step - loss: 0.0647 - accuracy: 0.9815 - val_loss: 0.1479 - val_accuracy: 0.9667\n",
            "Epoch 19/20\n",
            "19/19 [==============================] - 4s 178ms/step - loss: 0.0619 - accuracy: 0.9815 - val_loss: 0.4029 - val_accuracy: 0.9333\n",
            "Epoch 20/20\n",
            "19/19 [==============================] - 3s 154ms/step - loss: 0.0672 - accuracy: 0.9798 - val_loss: 0.2833 - val_accuracy: 0.9667\n"
          ]
        },
        {
          "output_type": "execute_result",
          "data": {
            "text/plain": [
              "<keras.callbacks.History at 0x7f992622a3d0>"
            ]
          },
          "metadata": {},
          "execution_count": 13
        }
      ],
      "source": [
        "#Fitting the model\n",
        "model.fit_generator(\n",
        "    generator=x_train,steps_per_epoch=len(x_train),\n",
        "    epochs=20,validation_data=x_test,validation_steps=len(x_test))"
      ]
    },
    {
      "cell_type": "markdown",
      "metadata": {
        "id": "8CphdsL93Xkn"
      },
      "source": [
        "#Save The Model"
      ]
    },
    {
      "cell_type": "code",
      "execution_count": 16,
      "metadata": {
        "id": "toBEihDo3ava"
      },
      "outputs": [],
      "source": [
        "#Saving our model\n",
        "model.save('gesture.h5')\n",
        "model_json=model.to_json()\n",
        "with open(\"model-bw.json\",\"w\") as json_file:\n",
        "  json_file.write(model_json)"
      ]
    },
    {
      "cell_type": "code",
      "execution_count": 14,
      "metadata": {
        "id": "iNsi08GdYhjo"
      },
      "outputs": [],
      "source": [
        "model.save('gesture.h5')"
      ]
    },
    {
      "cell_type": "code",
      "execution_count": 15,
      "metadata": {
        "colab": {
          "base_uri": "https://localhost:8080/"
        },
        "id": "5ITDfuGTYYpP",
        "outputId": "a9614262-c769-44ce-94b3-53bcc499f35a"
      },
      "outputs": [
        {
          "output_type": "stream",
          "name": "stdout",
          "text": [
            "gesture.h5\n"
          ]
        }
      ],
      "source": [
        " !tar -zcvf gesture-classification.tgz gesture.h5"
      ]
    },
    {
      "cell_type": "markdown",
      "metadata": {
        "id": "ikPl7AAB3_7Q"
      },
      "source": [
        "#Test The Model"
      ]
    },
    {
      "cell_type": "code",
      "execution_count": 17,
      "metadata": {
        "id": "7reG-hSOKmCR"
      },
      "outputs": [],
      "source": [
        "import numpy as np\n",
        "from tensorflow.keras.models import load_model\n",
        "from tensorflow.keras.preprocessing import image\n",
        "test_model=load_model('gesture.h5')"
      ]
    },
    {
      "cell_type": "code",
      "execution_count": 18,
      "metadata": {
        "colab": {
          "base_uri": "https://localhost:8080/"
        },
        "id": "SJh4JoE8KwTe",
        "outputId": "75cfbb34-3bdc-43a1-dac0-8a6f2235fcb3"
      },
      "outputs": [
        {
          "output_type": "stream",
          "name": "stdout",
          "text": [
            "1/1 [==============================] - 0s 190ms/step\n"
          ]
        },
        {
          "output_type": "execute_result",
          "data": {
            "text/plain": [
              "array([5, 3, 1, 4, 2, 1, 4, 3, 0, 0, 5, 0, 2, 1, 5, 1, 1, 4, 5, 5, 4, 0,\n",
              "       2, 4, 3, 2, 0, 3, 1, 3])"
            ]
          },
          "metadata": {},
          "execution_count": 18
        }
      ],
      "source": [
        "img=image.load_img('/content/Dataset/test/0/0.jpg',target_size=(64,64))\n",
        "x=image.img_to_array(img)\n",
        "x=np.expand_dims(x,axis=0)\n",
        "predict_x=(model.predict(x_test)>0.5).astype(\"int64\")\n",
        "pred=np.argmax(predict_x,axis=-1)\n",
        "pred"
      ]
    },
    {
      "cell_type": "code",
      "execution_count": 19,
      "metadata": {
        "colab": {
          "base_uri": "https://localhost:8080/"
        },
        "id": "B64y9zlMLqbI",
        "outputId": "8d7a77ec-0ed2-4987-f4bf-65b43489e382"
      },
      "outputs": [
        {
          "output_type": "stream",
          "name": "stdout",
          "text": [
            "1/1 [==============================] - 0s 98ms/step\n"
          ]
        },
        {
          "output_type": "execute_result",
          "data": {
            "text/plain": [
              "array([[1.14077750e-06, 6.51529945e-06, 5.84117547e-02, 9.39423084e-01,\n",
              "        2.15093698e-03, 6.51050414e-06],\n",
              "       [8.83148772e-08, 3.01933358e-03, 9.89483178e-01, 7.49291806e-03,\n",
              "        4.51865662e-06, 4.91587500e-08],\n",
              "       [1.64210316e-08, 9.21614992e-04, 9.98041809e-01, 1.03652873e-03,\n",
              "        2.66796505e-08, 2.60780251e-08],\n",
              "       [5.96133384e-17, 4.24831492e-17, 5.24744039e-13, 1.49957907e-06,\n",
              "        4.70447680e-03, 9.95294034e-01],\n",
              "       [2.47847510e-07, 2.17215486e-07, 1.58745737e-03, 9.63600874e-01,\n",
              "        3.47275622e-02, 8.35159808e-05],\n",
              "       [2.96060462e-03, 9.96243119e-01, 9.25057975e-05, 7.03452446e-04,\n",
              "        3.28091801e-07, 6.18951557e-10],\n",
              "       [1.51958033e-14, 1.44867520e-14, 1.09863385e-09, 2.05297465e-03,\n",
              "        9.94576573e-01, 3.37034301e-03],\n",
              "       [9.99999940e-01, 5.85315174e-09, 1.08309011e-12, 3.34090338e-08,\n",
              "        2.87948954e-08, 5.29710853e-09],\n",
              "       [7.90452556e-13, 2.09081907e-09, 9.69014247e-04, 9.85966086e-01,\n",
              "        1.30563919e-02, 8.51125060e-06],\n",
              "       [2.26173917e-16, 2.29720412e-19, 3.04666104e-17, 2.57322585e-09,\n",
              "        3.50883747e-05, 9.99964893e-01],\n",
              "       [1.11058448e-03, 9.97803211e-01, 1.05774309e-03, 2.84025045e-05,\n",
              "        5.53813440e-09, 3.43926332e-09],\n",
              "       [1.98235071e-07, 4.23508100e-05, 1.13530725e-01, 7.09815800e-01,\n",
              "        1.34392336e-01, 4.22185138e-02],\n",
              "       [1.29343420e-02, 9.50934529e-01, 3.54306027e-02, 7.00509758e-04,\n",
              "        6.28775865e-10, 3.16524827e-11],\n",
              "       [5.53319307e-22, 7.17804202e-22, 8.13424136e-17, 1.22517207e-09,\n",
              "        1.97493914e-03, 9.98024940e-01],\n",
              "       [9.13153872e-06, 4.25723903e-02, 9.54523981e-01, 2.89075379e-03,\n",
              "        7.06489459e-07, 2.99609724e-06],\n",
              "       [6.08827986e-06, 9.98812139e-01, 1.17734785e-03, 4.40122358e-06,\n",
              "        2.00361860e-09, 7.16094935e-12],\n",
              "       [6.63511867e-12, 3.52264364e-11, 1.44708823e-08, 3.14634852e-02,\n",
              "        9.66358244e-01, 2.17826897e-03],\n",
              "       [1.43385907e-14, 7.60983724e-12, 5.04093434e-09, 1.41726425e-02,\n",
              "        9.70982134e-01, 1.48451421e-02],\n",
              "       [1.85272129e-05, 9.98226643e-01, 1.74517196e-03, 9.50482172e-06,\n",
              "        9.32823697e-12, 1.08989127e-14],\n",
              "       [6.56817517e-11, 9.41047006e-07, 9.99843121e-01, 1.55966743e-04,\n",
              "        3.23216942e-09, 4.25966401e-10],\n",
              "       [3.78302153e-17, 2.46903073e-18, 2.76231382e-12, 9.15856217e-05,\n",
              "        9.99347508e-01, 5.60850720e-04],\n",
              "       [9.45810474e-14, 3.62960225e-15, 3.35913346e-11, 1.02325686e-08,\n",
              "        3.85179519e-05, 9.99961436e-01],\n",
              "       [4.80952673e-04, 9.98961210e-01, 5.12054947e-04, 4.57680180e-05,\n",
              "        2.04103778e-09, 1.61015437e-11],\n",
              "       [9.99999940e-01, 7.47366127e-11, 2.81566559e-14, 5.61340419e-10,\n",
              "        8.61811511e-10, 2.99911100e-08],\n",
              "       [1.15412280e-11, 4.14339318e-09, 9.61227342e-04, 9.97043550e-01,\n",
              "        1.97950401e-03, 1.56451551e-05],\n",
              "       [1.00000000e+00, 1.35551417e-10, 1.20156543e-13, 3.50420637e-10,\n",
              "        1.79894571e-10, 3.50358492e-10],\n",
              "       [2.61720281e-11, 2.45787019e-11, 5.92048686e-08, 1.96253508e-01,\n",
              "        8.03112984e-01, 6.33501681e-04],\n",
              "       [1.00000000e+00, 9.96142502e-10, 2.42023133e-12, 1.63008074e-09,\n",
              "        9.17404097e-10, 7.89438559e-09],\n",
              "       [9.99778569e-01, 4.23853562e-05, 5.70259135e-06, 1.70929983e-04,\n",
              "        2.40450436e-06, 2.31946107e-08],\n",
              "       [1.03203293e-18, 9.97268616e-23, 9.01484502e-20, 3.04421332e-12,\n",
              "        2.18244764e-07, 9.99999762e-01]], dtype=float32)"
            ]
          },
          "metadata": {},
          "execution_count": 19
        }
      ],
      "source": [
        "img=image.load_img('/content/Dataset/test/5/1.jpg',target_size=(64,64))\n",
        "x=image.img_to_array(img)\n",
        "x=np.expand_dims(x,axis=0)\n",
        "predict_x=model.predict(x_test)\n",
        "classes_x=np.argmax(predict_x,axis=1)\n",
        "classes_x\n",
        "predict_x"
      ]
    },
    {
      "cell_type": "code",
      "execution_count": null,
      "metadata": {
        "colab": {
          "base_uri": "https://localhost:8080/",
          "height": 269
        },
        "id": "blMt4nu43uiN",
        "outputId": "0ad9cd40-786c-4334-c3d2-d72ea46b6f7c"
      },
      "outputs": [
        {
          "data": {
            "image/png": "[encoded data removed]",
            "text/plain": [
              "<Figure size 432x288 with 1 Axes>"
            ]
          },
          "metadata": {},
          "output_type": "display_data"
        }
      ],
      "source": [
        "import matplotlib.pyplot as plt\n",
        "import matplotlib.image as mpimg\n",
        "img=mpimg.imread('/content/Dataset/test/5/2.jpg')\n",
        "imgplot=plt.imshow(img)\n",
        "plt.show()"
      ]
    },
    {
      "cell_type": "code",
      "execution_count": null,
      "metadata": {
        "colab": {
          "base_uri": "https://localhost:8080/"
        },
        "id": "rW7teJku4J_z",
        "outputId": "6c9a43dc-cbaf-4c5e-a7a4-2b32b631e797"
      },
      "outputs": [
        {
          "data": {
            "text/plain": [
              "(64, 64, 1)"
            ]
          },
          "execution_count": 32,
          "metadata": {},
          "output_type": "execute_result"
        }
      ],
      "source": [
        "imgload=image.load_img('/content/Dataset/test/5/4.jpg',color_mode='grayscale',target_size=(64,64))\n",
        "res=image.img_to_array(imgload)\n",
        "res.shape\n"
      ]
    },
    {
      "cell_type": "code",
      "execution_count": null,
      "metadata": {
        "colab": {
          "base_uri": "https://localhost:8080/"
        },
        "id": "uFWju0VH46ik",
        "outputId": "3eb36717-4a8b-4c70-a365-beb49d70c957"
      },
      "outputs": [
        {
          "data": {
            "text/plain": [
              "numpy.ndarray"
            ]
          },
          "execution_count": 33,
          "metadata": {},
          "output_type": "execute_result"
        }
      ],
      "source": [
        "type(res)"
      ]
    },
    {
      "cell_type": "code",
      "execution_count": null,
      "metadata": {
        "colab": {
          "base_uri": "https://localhost:8080/"
        },
        "id": "jo8JrHo64_dL",
        "outputId": "3bbd398b-e4d2-46ac-bb91-be5913f45a8d"
      },
      "outputs": [
        {
          "data": {
            "text/plain": [
              "(1, 64, 64, 1)"
            ]
          },
          "execution_count": 34,
          "metadata": {},
          "output_type": "execute_result"
        }
      ],
      "source": [
        "res=np.expand_dims(res,axis=0)\n",
        "res.shape"
      ]
    },
    {
      "cell_type": "markdown",
      "metadata": {
        "id": "f221slgW5N52"
      },
      "source": [
        "#Predict the result"
      ]
    },
    {
      "cell_type": "code",
      "execution_count": null,
      "metadata": {
        "colab": {
          "base_uri": "https://localhost:8080/"
        },
        "id": "3_To6REQ5M5s",
        "outputId": "59ff9445-ec95-4781-8307-802b3dac1335"
      },
      "outputs": [
        {
          "name": "stdout",
          "output_type": "stream",
          "text": [
            "1/1 [==============================] - 0s 49ms/step\n"
          ]
        },
        {
          "data": {
            "text/plain": [
              "array([4])"
            ]
          },
          "execution_count": 35,
          "metadata": {},
          "output_type": "execute_result"
        }
      ],
      "source": [
        "pred_res=np.argmax(test_model.predict(res),axis=-1)\n",
        "pred_res"
      ]
    },
    {
      "cell_type": "code",
      "execution_count": null,
      "metadata": {
        "colab": {
          "base_uri": "https://localhost:8080/",
          "height": 35
        },
        "id": "xI45qOZtdZ0Q",
        "outputId": "954b00ae-0ebc-41cf-a0c8-d24f5cb15366"
      },
      "outputs": [
        {
          "data": {
            "application/vnd.google.colaboratory.intrinsic+json": {
              "type": "string"
            },
            "text/plain": [
              "'4'"
            ]
          },
          "execution_count": 36,
          "metadata": {},
          "output_type": "execute_result"
        }
      ],
      "source": [
        "index=['0','1','2','3','4','5']\n",
        "result=str(index[pred_res[0]])\n",
        "result"
      ]
    },
    {
      "cell_type": "markdown",
      "metadata": {
        "id": "vqXBTj0QWxne"
      },
      "source": [
        "#IBM Deployment\n",
        "\n",
        "\n"
      ]
    },
    {
      "cell_type": "code",
      "execution_count": null,
      "metadata": {
        "colab": {
          "base_uri": "https://localhost:8080/",
          "height": 1000
        },
        "id": "VK2ido6-RLbH",
        "outputId": "86420420-091f-41a0-e780-2740e75782b1"
      },
      "outputs": [
        {
          "name": "stdout",
          "output_type": "stream",
          "text": [
            "Looking in indexes: https://pypi.org/simple, https://us-python.pkg.dev/colab-wheels/public/simple/\n",
            "Collecting watson-machine-learning-client\n",
            "  Downloading watson_machine_learning_client-1.0.391-py3-none-any.whl (538 kB)\n",
            "\u001b[K     |████████████████████████████████| 538 kB 32.6 MB/s \n",
            "\u001b[?25hRequirement already satisfied: tqdm in /usr/local/lib/python3.7/dist-packages (from watson-machine-learning-client) (4.64.1)\n",
            "Requirement already satisfied: certifi in /usr/local/lib/python3.7/dist-packages (from watson-machine-learning-client) (2022.9.24)\n",
            "Requirement already satisfied: urllib3 in /usr/local/lib/python3.7/dist-packages (from watson-machine-learning-client) (1.24.3)\n",
            "Collecting ibm-cos-sdk\n",
            "  Downloading ibm-cos-sdk-2.12.0.tar.gz (55 kB)\n",
            "\u001b[K     |████████████████████████████████| 55 kB 5.1 MB/s \n",
            "\u001b[?25hRequirement already satisfied: tabulate in /usr/local/lib/python3.7/dist-packages (from watson-machine-learning-client) (0.8.10)\n",
            "Collecting lomond\n",
            "  Downloading lomond-0.3.3-py2.py3-none-any.whl (35 kB)\n",
            "Collecting boto3\n",
            "  Downloading boto3-1.26.13-py3-none-any.whl (132 kB)\n",
            "\u001b[K     |████████████████████████████████| 132 kB 92.8 MB/s \n",
            "\u001b[?25hRequirement already satisfied: requests in /usr/local/lib/python3.7/dist-packages (from watson-machine-learning-client) (2.23.0)\n",
            "Requirement already satisfied: pandas in /usr/local/lib/python3.7/dist-packages (from watson-machine-learning-client) (1.3.5)\n",
            "Collecting jmespath<2.0.0,>=0.7.1\n",
            "  Downloading jmespath-1.0.1-py3-none-any.whl (20 kB)\n",
            "Collecting s3transfer<0.7.0,>=0.6.0\n",
            "  Downloading s3transfer-0.6.0-py3-none-any.whl (79 kB)\n",
            "\u001b[K     |████████████████████████████████| 79 kB 10.3 MB/s \n",
            "\u001b[?25hCollecting botocore<1.30.0,>=1.29.13\n",
            "  Downloading botocore-1.29.13-py3-none-any.whl (9.9 MB)\n",
            "\u001b[K     |████████████████████████████████| 9.9 MB 58.6 MB/s \n",
            "\u001b[?25hCollecting urllib3\n",
            "  Downloading urllib3-1.26.12-py2.py3-none-any.whl (140 kB)\n",
            "\u001b[K     |████████████████████████████████| 140 kB 75.3 MB/s \n",
            "\u001b[?25hRequirement already satisfied: python-dateutil<3.0.0,>=2.1 in /usr/local/lib/python3.7/dist-packages (from botocore<1.30.0,>=1.29.13->boto3->watson-machine-learning-client) (2.8.2)\n",
            "Requirement already satisfied: six>=1.5 in /usr/local/lib/python3.7/dist-packages (from python-dateutil<3.0.0,>=2.1->botocore<1.30.0,>=1.29.13->boto3->watson-machine-learning-client) (1.15.0)\n",
            "Collecting ibm-cos-sdk-core==2.12.0\n",
            "  Downloading ibm-cos-sdk-core-2.12.0.tar.gz (956 kB)\n",
            "\u001b[K     |████████████████████████████████| 956 kB 98.3 MB/s \n",
            "\u001b[?25hCollecting ibm-cos-sdk-s3transfer==2.12.0\n",
            "  Downloading ibm-cos-sdk-s3transfer-2.12.0.tar.gz (135 kB)\n",
            "\u001b[K     |████████████████████████████████| 135 kB 90.9 MB/s \n",
            "\u001b[?25hCollecting jmespath<2.0.0,>=0.7.1\n",
            "  Downloading jmespath-0.10.0-py2.py3-none-any.whl (24 kB)\n",
            "Collecting requests\n",
            "  Downloading requests-2.28.1-py3-none-any.whl (62 kB)\n",
            "\u001b[K     |████████████████████████████████| 62 kB 1.8 MB/s \n",
            "\u001b[?25hRequirement already satisfied: idna<4,>=2.5 in /usr/local/lib/python3.7/dist-packages (from requests->watson-machine-learning-client) (2.10)\n",
            "Requirement already satisfied: charset-normalizer<3,>=2 in /usr/local/lib/python3.7/dist-packages (from requests->watson-machine-learning-client) (2.1.1)\n",
            "Requirement already satisfied: numpy>=1.17.3 in /usr/local/lib/python3.7/dist-packages (from pandas->watson-machine-learning-client) (1.21.6)\n",
            "Requirement already satisfied: pytz>=2017.3 in /usr/local/lib/python3.7/dist-packages (from pandas->watson-machine-learning-client) (2022.6)\n",
            "Building wheels for collected packages: ibm-cos-sdk, ibm-cos-sdk-core, ibm-cos-sdk-s3transfer\n",
            "  Building wheel for ibm-cos-sdk (setup.py) ... \u001b[?25l\u001b[?25hdone\n",
            "  Created wheel for ibm-cos-sdk: filename=ibm_cos_sdk-2.12.0-py3-none-any.whl size=73931 sha256=021a72d72819423250509f7f1b552db060dba428c9a2650bdeb60d15b0cf04ba\n",
            "  Stored in directory: /root/.cache/pip/wheels/ec/94/29/2b57327cf00664b6614304f7958abd29d77ea0e5bbece2ea57\n",
            "  Building wheel for ibm-cos-sdk-core (setup.py) ... \u001b[?25l\u001b[?25hdone\n",
            "  Created wheel for ibm-cos-sdk-core: filename=ibm_cos_sdk_core-2.12.0-py3-none-any.whl size=562962 sha256=ed06f1ce54a5274578a0e554bea1e5e1e2f1386d38782c6dfb7181c6fc603f94\n",
            "  Stored in directory: /root/.cache/pip/wheels/64/56/fb/5cd6f4f40406c828a5289b95b2752a4d142a9afb359244ed8d\n",
            "  Building wheel for ibm-cos-sdk-s3transfer (setup.py) ... \u001b[?25l\u001b[?25hdone\n",
            "  Created wheel for ibm-cos-sdk-s3transfer: filename=ibm_cos_sdk_s3transfer-2.12.0-py3-none-any.whl size=89778 sha256=572e8480488cfc3ccfaa83780dad3f076e19f53e2689942c013e7c1a241a322c\n",
            "  Stored in directory: /root/.cache/pip/wheels/57/79/6a/ffe3370ed7ebc00604f9f76766e1e0348dcdcad2b2e32df9e1\n",
            "Successfully built ibm-cos-sdk ibm-cos-sdk-core ibm-cos-sdk-s3transfer\n",
            "Installing collected packages: urllib3, requests, jmespath, ibm-cos-sdk-core, botocore, s3transfer, ibm-cos-sdk-s3transfer, lomond, ibm-cos-sdk, boto3, watson-machine-learning-client\n",
            "  Attempting uninstall: urllib3\n",
            "    Found existing installation: urllib3 1.24.3\n",
            "    Uninstalling urllib3-1.24.3:\n",
            "      Successfully uninstalled urllib3-1.24.3\n",
            "  Attempting uninstall: requests\n",
            "    Found existing installation: requests 2.23.0\n",
            "    Uninstalling requests-2.23.0:\n",
            "      Successfully uninstalled requests-2.23.0\n",
            "Successfully installed boto3-1.26.13 botocore-1.29.13 ibm-cos-sdk-2.12.0 ibm-cos-sdk-core-2.12.0 ibm-cos-sdk-s3transfer-2.12.0 jmespath-0.10.0 lomond-0.3.3 requests-2.28.1 s3transfer-0.6.0 urllib3-1.26.12 watson-machine-learning-client-1.0.391\n"
          ]
        },
        {
          "data": {
            "application/vnd.colab-display-data+json": {
              "pip_warning": {
                "packages": [
                  "requests",
                  "urllib3"
                ]
              }
            }
          },
          "metadata": {},
          "output_type": "display_data"
        }
      ],
      "source": [
        "!pip install watson-machine-learning-client"
      ]
    },
    {
      "cell_type": "code",
      "execution_count": null,
      "metadata": {
        "colab": {
          "base_uri": "https://localhost:8080/"
        },
        "id": "tMPSgMntXZkB",
        "outputId": "f13999bb-5840-4e07-8a59-6844c5fd80f4"
      },
      "outputs": [
        {
          "name": "stdout",
          "output_type": "stream",
          "text": [
            "Looking in indexes: https://pypi.org/simple, https://us-python.pkg.dev/colab-wheels/public/simple/\n",
            "Collecting ibm_watson_machine_learning\n",
            "  Downloading ibm_watson_machine_learning-1.0.257-py3-none-any.whl (1.8 MB)\n",
            "\u001b[K     |████████████████████████████████| 1.8 MB 28.0 MB/s \n",
            "\u001b[?25hRequirement already satisfied: requests in /usr/local/lib/python3.7/dist-packages (from ibm_watson_machine_learning) (2.28.1)\n",
            "Collecting ibm-cos-sdk==2.7.*\n",
            "  Downloading ibm-cos-sdk-2.7.0.tar.gz (51 kB)\n",
            "\u001b[K     |████████████████████████████████| 51 kB 730 kB/s \n",
            "\u001b[?25hRequirement already satisfied: tabulate in /usr/local/lib/python3.7/dist-packages (from ibm_watson_machine_learning) (0.8.10)\n",
            "Requirement already satisfied: packaging in /usr/local/lib/python3.7/dist-packages (from ibm_watson_machine_learning) (21.3)\n",
            "Requirement already satisfied: certifi in /usr/local/lib/python3.7/dist-packages (from ibm_watson_machine_learning) (2022.9.24)\n",
            "Requirement already satisfied: lomond in /usr/local/lib/python3.7/dist-packages (from ibm_watson_machine_learning) (0.3.3)\n",
            "Requirement already satisfied: urllib3 in /usr/local/lib/python3.7/dist-packages (from ibm_watson_machine_learning) (1.26.12)\n",
            "Requirement already satisfied: pandas<1.5.0,>=0.24.2 in /usr/local/lib/python3.7/dist-packages (from ibm_watson_machine_learning) (1.3.5)\n",
            "Requirement already satisfied: importlib-metadata in /usr/local/lib/python3.7/dist-packages (from ibm_watson_machine_learning) (4.13.0)\n",
            "Collecting ibm-cos-sdk-core==2.7.0\n",
            "  Downloading ibm-cos-sdk-core-2.7.0.tar.gz (824 kB)\n",
            "\u001b[K     |████████████████████████████████| 824 kB 58.1 MB/s \n",
            "\u001b[?25hCollecting ibm-cos-sdk-s3transfer==2.7.0\n",
            "  Downloading ibm-cos-sdk-s3transfer-2.7.0.tar.gz (133 kB)\n",
            "\u001b[K     |████████████████████████████████| 133 kB 87.5 MB/s \n",
            "\u001b[?25hRequirement already satisfied: jmespath<1.0.0,>=0.7.1 in /usr/local/lib/python3.7/dist-packages (from ibm-cos-sdk==2.7.*->ibm_watson_machine_learning) (0.10.0)\n",
            "Collecting docutils<0.16,>=0.10\n",
            "  Downloading docutils-0.15.2-py3-none-any.whl (547 kB)\n",
            "\u001b[K     |████████████████████████████████| 547 kB 90.9 MB/s \n",
            "\u001b[?25hRequirement already satisfied: python-dateutil<3.0.0,>=2.1 in /usr/local/lib/python3.7/dist-packages (from ibm-cos-sdk-core==2.7.0->ibm-cos-sdk==2.7.*->ibm_watson_machine_learning) (2.8.2)\n",
            "Requirement already satisfied: pytz>=2017.3 in /usr/local/lib/python3.7/dist-packages (from pandas<1.5.0,>=0.24.2->ibm_watson_machine_learning) (2022.6)\n",
            "Requirement already satisfied: numpy>=1.17.3 in /usr/local/lib/python3.7/dist-packages (from pandas<1.5.0,>=0.24.2->ibm_watson_machine_learning) (1.21.6)\n",
            "Requirement already satisfied: six>=1.5 in /usr/local/lib/python3.7/dist-packages (from python-dateutil<3.0.0,>=2.1->ibm-cos-sdk-core==2.7.0->ibm-cos-sdk==2.7.*->ibm_watson_machine_learning) (1.15.0)\n",
            "Requirement already satisfied: idna<4,>=2.5 in /usr/local/lib/python3.7/dist-packages (from requests->ibm_watson_machine_learning) (2.10)\n",
            "Requirement already satisfied: charset-normalizer<3,>=2 in /usr/local/lib/python3.7/dist-packages (from requests->ibm_watson_machine_learning) (2.1.1)\n",
            "Requirement already satisfied: typing-extensions>=3.6.4 in /usr/local/lib/python3.7/dist-packages (from importlib-metadata->ibm_watson_machine_learning) (4.1.1)\n",
            "Requirement already satisfied: zipp>=0.5 in /usr/local/lib/python3.7/dist-packages (from importlib-metadata->ibm_watson_machine_learning) (3.10.0)\n",
            "Requirement already satisfied: pyparsing!=3.0.5,>=2.0.2 in /usr/local/lib/python3.7/dist-packages (from packaging->ibm_watson_machine_learning) (3.0.9)\n",
            "Building wheels for collected packages: ibm-cos-sdk, ibm-cos-sdk-core, ibm-cos-sdk-s3transfer\n",
            "  Building wheel for ibm-cos-sdk (setup.py) ... \u001b[?25l\u001b[?25hdone\n",
            "  Created wheel for ibm-cos-sdk: filename=ibm_cos_sdk-2.7.0-py2.py3-none-any.whl size=72563 sha256=cd2d8a22b4f28d9efcc44473251afa8d1ee1700b6d5fb723a00a9346c30c4709\n",
            "  Stored in directory: /root/.cache/pip/wheels/47/22/bf/e1154ff0f5de93cc477acd0ca69abfbb8b799c5b28a66b44c2\n",
            "  Building wheel for ibm-cos-sdk-core (setup.py) ... \u001b[?25l\u001b[?25hdone\n",
            "  Created wheel for ibm-cos-sdk-core: filename=ibm_cos_sdk_core-2.7.0-py2.py3-none-any.whl size=501013 sha256=0a3368f332e9e39decd67c595a1e0fb468e64f239762af10a7966455c8e87201\n",
            "  Stored in directory: /root/.cache/pip/wheels/6c/a2/e4/c16d02f809a3ea998e17cfd02c13369281f3d232aaf5902c19\n",
            "  Building wheel for ibm-cos-sdk-s3transfer (setup.py) ... \u001b[?25l\u001b[?25hdone\n",
            "  Created wheel for ibm-cos-sdk-s3transfer: filename=ibm_cos_sdk_s3transfer-2.7.0-py2.py3-none-any.whl size=88622 sha256=07b1f1fced7c59f3c5a2ab21cf527e8734bdb9e007da5f8f7c603991cb9c0dd8\n",
            "  Stored in directory: /root/.cache/pip/wheels/5f/b7/14/fbe02bc1ef1af890650c7e51743d1c83890852e598d164b9da\n",
            "Successfully built ibm-cos-sdk ibm-cos-sdk-core ibm-cos-sdk-s3transfer\n",
            "Installing collected packages: docutils, ibm-cos-sdk-core, ibm-cos-sdk-s3transfer, ibm-cos-sdk, ibm-watson-machine-learning\n",
            "  Attempting uninstall: docutils\n",
            "    Found existing installation: docutils 0.17.1\n",
            "    Uninstalling docutils-0.17.1:\n",
            "      Successfully uninstalled docutils-0.17.1\n",
            "  Attempting uninstall: ibm-cos-sdk-core\n",
            "    Found existing installation: ibm-cos-sdk-core 2.12.0\n",
            "    Uninstalling ibm-cos-sdk-core-2.12.0:\n",
            "      Successfully uninstalled ibm-cos-sdk-core-2.12.0\n",
            "  Attempting uninstall: ibm-cos-sdk-s3transfer\n",
            "    Found existing installation: ibm-cos-sdk-s3transfer 2.12.0\n",
            "    Uninstalling ibm-cos-sdk-s3transfer-2.12.0:\n",
            "      Successfully uninstalled ibm-cos-sdk-s3transfer-2.12.0\n",
            "  Attempting uninstall: ibm-cos-sdk\n",
            "    Found existing installation: ibm-cos-sdk 2.12.0\n",
            "    Uninstalling ibm-cos-sdk-2.12.0:\n",
            "      Successfully uninstalled ibm-cos-sdk-2.12.0\n",
            "Successfully installed docutils-0.15.2 ibm-cos-sdk-2.7.0 ibm-cos-sdk-core-2.7.0 ibm-cos-sdk-s3transfer-2.7.0 ibm-watson-machine-learning-1.0.257\n"
          ]
        }
      ],
      "source": [
        "!pip install ibm_watson_machine_learning"
      ]
    },
    {
      "cell_type": "code",
      "execution_count": null,
      "metadata": {
        "colab": {
          "base_uri": "https://localhost:8080/"
        },
        "id": "p02JPWuwXi5T",
        "outputId": "4142b7be-c938-4fb3-ebab-8d6d4f469539"
      },
      "outputs": [
        {
          "name": "stdout",
          "output_type": "stream",
          "text": [
            "Python 3.7 and 3.8 frameworks are deprecated and will be removed in a future release. Use Python 3.9 framework instead.\n"
          ]
        },
        {
          "data": {
            "text/plain": [
              "<ibm_watson_machine_learning.client.APIClient at 0x7f994c2793d0>"
            ]
          },
          "execution_count": 51,
          "metadata": {},
          "output_type": "execute_result"
        }
      ],
      "source": [
        "from ibm_watson_machine_learning import APIClient\n",
        "\n",
        "wml_credentials = {\n",
        "    \"url\":\"https://us-south.ml.cloud.ibm.com\",\n",
        "    \"apikey\":\"Imd4e1sYw2yEUKL52MZ2ZZlJO9ca9QyOSSVqdB48LbvP\"\n",
        "}\n",
        "\n",
        "client = APIClient(wml_credentials)\n",
        "client"
      ]
    },
    {
      "cell_type": "code",
      "execution_count": null,
      "metadata": {
        "colab": {
          "base_uri": "https://localhost:8080/"
        },
        "id": "izxYCL7ud4T6",
        "outputId": "0e841216-85a0-47ad-84c4-183c37a500ba"
      },
      "outputs": [
        {
          "data": {
            "text/plain": [
              "{'resources': [{'entity': {'compute': [{'crn': 'crn:v1:bluemix:public:pm-20:us-south:a/dbd044d5bbd44268a2c19623088d57aa:ec9c8fb0-6f50-4a60-b93b-2bfd33e48044::',\n",
              "      'guid': 'ec9c8fb0-6f50-4a60-b93b-2bfd33e48044',\n",
              "      'name': 'Watson Machine Learning-na',\n",
              "      'type': 'machine_learning'}],\n",
              "    'description': '',\n",
              "    'name': 'Gesture',\n",
              "    'scope': {'bss_account_id': 'dbd044d5bbd44268a2c19623088d57aa'},\n",
              "    'stage': {'production': False},\n",
              "    'status': {'state': 'active'},\n",
              "    'storage': {'properties': {'bucket_name': 'fec19a0b-7fc8-4435-8c72-cf59572a450c',\n",
              "      'bucket_region': 'us-south',\n",
              "      'credentials': {'admin': {'access_key_id': '44a5c5e3b7784c529a9a42569f92064e',\n",
              "        'api_key': 'L9_gVjjYjcDhKcjCUD0NuytTiP_k3hJtGqYCEbNSSeeA',\n",
              "        'secret_access_key': '5b5827305d1857efbfdfc825965298afe7e50a7c23fa6d46',\n",
              "        'service_id': 'ServiceId-338dc439-80ae-47c3-ae97-593db314fa23'},\n",
              "       'editor': {'access_key_id': '5f35ef82653e4ff088a7d739c325863a',\n",
              "        'api_key': 'cyZ3Ki3OFgSj0N28OhNqJu7cTMF-D4I8EpdyAslsK5zc',\n",
              "        'resource_key_crn': 'crn:v1:bluemix:public:cloud-object-storage:global:a/dbd044d5bbd44268a2c19623088d57aa:62c2af1c-731f-43fe-b102-6381631e3b58::',\n",
              "        'secret_access_key': 'f53e411f68e956dfffce8267f8bab3b02266212f6587cb81',\n",
              "        'service_id': 'ServiceId-2da7b713-07f1-454a-a836-04b2cbaff48e'},\n",
              "       'viewer': {'access_key_id': 'da0acd58d5064449b259ddd83d9e42eb',\n",
              "        'api_key': 'wPu4ExRwt3jyMIILzN3gSkZ2CWk13xs3JWQrfWT_Ad8a',\n",
              "        'resource_key_crn': 'crn:v1:bluemix:public:cloud-object-storage:global:a/dbd044d5bbd44268a2c19623088d57aa:62c2af1c-731f-43fe-b102-6381631e3b58::',\n",
              "        'secret_access_key': '81abbc33aa1ecd15249bad17b24da520083dedb961fb4ca2',\n",
              "        'service_id': 'ServiceId-bcdb5d03-a5af-4dde-ae00-d4ef6d79f3c8'}},\n",
              "      'endpoint_url': 'https://s3.us-south.cloud-object-storage.appdomain.cloud',\n",
              "      'guid': '62c2af1c-731f-43fe-b102-6381631e3b58',\n",
              "      'resource_crn': 'crn:v1:bluemix:public:cloud-object-storage:global:a/dbd044d5bbd44268a2c19623088d57aa:62c2af1c-731f-43fe-b102-6381631e3b58::'},\n",
              "     'type': 'bmcos_object_storage'}},\n",
              "   'metadata': {'created_at': '2022-11-20T07:59:59.804Z',\n",
              "    'creator_id': 'IBMid-66300455BA',\n",
              "    'id': '65b9f0bd-7d8b-417a-9775-e7e50a025383',\n",
              "    'updated_at': '2022-11-20T08:00:19.138Z',\n",
              "    'url': '/v2/spaces/65b9f0bd-7d8b-417a-9775-e7e50a025383'}}]}"
            ]
          },
          "execution_count": 54,
          "metadata": {},
          "output_type": "execute_result"
        }
      ],
      "source": [
        "client.spaces.get_details()"
      ]
    },
    {
      "cell_type": "code",
      "execution_count": null,
      "metadata": {
        "colab": {
          "base_uri": "https://localhost:8080/"
        },
        "id": "gYpAyiaXe3N9",
        "outputId": "c1abcca7-afaf-48ce-e3a7-727679be8c6a"
      },
      "outputs": [
        {
          "name": "stdout",
          "output_type": "stream",
          "text": [
            "Note: 'limit' is not provided. Only first 50 records will be displayed if the number of records exceed 50\n",
            "------------------------------------  -------  ------------------------\n",
            "ID                                    NAME     CREATED\n",
            "65b9f0bd-7d8b-417a-9775-e7e50a025383  Gesture  2022-11-20T07:59:59.804Z\n",
            "------------------------------------  -------  ------------------------\n"
          ]
        }
      ],
      "source": [
        "client.spaces.list()"
      ]
    },
    {
      "cell_type": "code",
      "execution_count": null,
      "metadata": {
        "colab": {
          "base_uri": "https://localhost:8080/",
          "height": 35
        },
        "id": "ido9OE2hhWLM",
        "outputId": "20e1655d-5d07-46d2-f64d-799f82c479d4"
      },
      "outputs": [
        {
          "data": {
            "application/vnd.google.colaboratory.intrinsic+json": {
              "type": "string"
            },
            "text/plain": [
              "'65b9f0bd-7d8b-417a-9775-e7e50a025383'"
            ]
          },
          "execution_count": 56,
          "metadata": {},
          "output_type": "execute_result"
        }
      ],
      "source": [
        "space_uid = \"65b9f0bd-7d8b-417a-9775-e7e50a025383\"\n",
        "space_uid"
      ]
    },
    {
      "cell_type": "code",
      "execution_count": null,
      "metadata": {
        "colab": {
          "base_uri": "https://localhost:8080/",
          "height": 35
        },
        "id": "loQD3PElEeKQ",
        "outputId": "1d3b3017-523a-4ee6-cd25-efcbcbb95363"
      },
      "outputs": [
        {
          "data": {
            "application/vnd.google.colaboratory.intrinsic+json": {
              "type": "string"
            },
            "text/plain": [
              "'SUCCESS'"
            ]
          },
          "execution_count": 57,
          "metadata": {},
          "output_type": "execute_result"
        }
      ],
      "source": [
        "client.set.default_space(space_uid)"
      ]
    },
    {
      "cell_type": "code",
      "execution_count": null,
      "metadata": {
        "colab": {
          "base_uri": "https://localhost:8080/"
        },
        "id": "EJxc5IG9EvFm",
        "outputId": "13033da0-453c-4003-83c5-d040d66ece54"
      },
      "outputs": [
        {
          "name": "stdout",
          "output_type": "stream",
          "text": [
            "-----------------------------  ------------------------------------  ----\n",
            "NAME                           ASSET_ID                              TYPE\n",
            "default_py3.6                  0062b8c9-8b7d-44a0-a9b9-46c416adcbd9  base\n",
            "kernel-spark3.2-scala2.12      020d69ce-7ac1-5e68-ac1a-31189867356a  base\n",
            "pytorch-onnx_1.3-py3.7-edt     069ea134-3346-5748-b513-49120e15d288  base\n",
            "scikit-learn_0.20-py3.6        09c5a1d0-9c1e-4473-a344-eb7b665ff687  base\n",
            "spark-mllib_3.0-scala_2.12     09f4cff0-90a7-5899-b9ed-1ef348aebdee  base\n",
            "pytorch-onnx_rt22.1-py3.9      0b848dd4-e681-5599-be41-b5f6fccc6471  base\n",
            "ai-function_0.1-py3.6          0cdb0f1e-5376-4f4d-92dd-da3b69aa9bda  base\n",
            "shiny-r3.6                     0e6e79df-875e-4f24-8ae9-62dcc2148306  base\n",
            "tensorflow_2.4-py3.7-horovod   1092590a-307d-563d-9b62-4eb7d64b3f22  base\n",
            "pytorch_1.1-py3.6              10ac12d6-6b30-4ccd-8392-3e922c096a92  base\n",
            "tensorflow_1.15-py3.6-ddl      111e41b3-de2d-5422-a4d6-bf776828c4b7  base\n",
            "autoai-kb_rt22.2-py3.10        125b6d9a-5b1f-5e8d-972a-b251688ccf40  base\n",
            "runtime-22.1-py3.9             12b83a17-24d8-5082-900f-0ab31fbfd3cb  base\n",
            "scikit-learn_0.22-py3.6        154010fa-5b3b-4ac1-82af-4d5ee5abbc85  base\n",
            "default_r3.6                   1b70aec3-ab34-4b87-8aa0-a4a3c8296a36  base\n",
            "pytorch-onnx_1.3-py3.6         1bc6029a-cc97-56da-b8e0-39c3880dbbe7  base\n",
            "kernel-spark3.3-r3.6           1c9e5454-f216-59dd-a20e-474a5cdf5988  base\n",
            "pytorch-onnx_rt22.1-py3.9-edt  1d362186-7ad5-5b59-8b6c-9d0880bde37f  base\n",
            "tensorflow_2.1-py3.6           1eb25b84-d6ed-5dde-b6a5-3fbdf1665666  base\n",
            "spark-mllib_3.2                20047f72-0a98-58c7-9ff5-a77b012eb8f5  base\n",
            "tensorflow_2.4-py3.8-horovod   217c16f6-178f-56bf-824a-b19f20564c49  base\n",
            "runtime-22.1-py3.9-cuda        26215f05-08c3-5a41-a1b0-da66306ce658  base\n",
            "do_py3.8                       295addb5-9ef9-547e-9bf4-92ae3563e720  base\n",
            "autoai-ts_3.8-py3.8            2aa0c932-798f-5ae9-abd6-15e0c2402fb5  base\n",
            "tensorflow_1.15-py3.6          2b73a275-7cbf-420b-a912-eae7f436e0bc  base\n",
            "kernel-spark3.3-py3.9          2b7961e2-e3b1-5a8c-a491-482c8368839a  base\n",
            "pytorch_1.2-py3.6              2c8ef57d-2687-4b7d-acce-01f94976dac1  base\n",
            "spark-mllib_2.3                2e51f700-bca0-4b0d-88dc-5c6791338875  base\n",
            "pytorch-onnx_1.1-py3.6-edt     32983cea-3f32-4400-8965-dde874a8d67e  base\n",
            "spark-mllib_3.0-py37           36507ebe-8770-55ba-ab2a-eafe787600e9  base\n",
            "spark-mllib_2.4                390d21f8-e58b-4fac-9c55-d7ceda621326  base\n",
            "autoai-ts_rt22.2-py3.10        396b2e83-0953-5b86-9a55-7ce1628a406f  base\n",
            "xgboost_0.82-py3.6             39e31acd-5f30-41dc-ae44-60233c80306e  base\n",
            "pytorch-onnx_1.2-py3.6-edt     40589d0e-7019-4e28-8daa-fb03b6f4fe12  base\n",
            "pytorch-onnx_rt22.2-py3.10     40e73f55-783a-5535-b3fa-0c8b94291431  base\n",
            "default_r36py38                41c247d3-45f8-5a71-b065-8580229facf0  base\n",
            "autoai-ts_rt22.1-py3.9         4269d26e-07ba-5d40-8f66-2d495b0c71f7  base\n",
            "autoai-obm_3.0                 42b92e18-d9ab-567f-988a-4240ba1ed5f7  base\n",
            "pmml-3.0_4.3                   493bcb95-16f1-5bc5-bee8-81b8af80e9c7  base\n",
            "spark-mllib_2.4-r_3.6          49403dff-92e9-4c87-a3d7-a42d0021c095  base\n",
            "xgboost_0.90-py3.6             4ff8d6c2-1343-4c18-85e1-689c965304d3  base\n",
            "pytorch-onnx_1.1-py3.6         50f95b2a-bc16-43bb-bc94-b0bed208c60b  base\n",
            "autoai-ts_3.9-py3.8            52c57136-80fa-572e-8728-a5e7cbb42cde  base\n",
            "spark-mllib_2.4-scala_2.11     55a70f99-7320-4be5-9fb9-9edb5a443af5  base\n",
            "spark-mllib_3.0                5c1b0ca2-4977-5c2e-9439-ffd44ea8ffe9  base\n",
            "autoai-obm_2.0                 5c2e37fa-80b8-5e77-840f-d912469614ee  base\n",
            "spss-modeler_18.1              5c3cad7e-507f-4b2a-a9a3-ab53a21dee8b  base\n",
            "cuda-py3.8                     5d3232bf-c86b-5df4-a2cd-7bb870a1cd4e  base\n",
            "runtime-22.2-py3.10-xc         5e8cddff-db4a-5a6a-b8aa-2d4af9864dab  base\n",
            "autoai-kb_3.1-py3.7            632d4b22-10aa-5180-88f0-f52dfb6444d7  base\n",
            "-----------------------------  ------------------------------------  ----\n",
            "Note: Only first 50 records were displayed. To display more use 'limit' parameter.\n"
          ]
        }
      ],
      "source": [
        "client.software_specifications.list()"
      ]
    },
    {
      "cell_type": "code",
      "execution_count": null,
      "metadata": {
        "colab": {
          "base_uri": "https://localhost:8080/",
          "height": 35
        },
        "id": "ioiaHyzxEwqF",
        "outputId": "2011de89-e55b-4193-9932-0b3a14404ae5"
      },
      "outputs": [
        {
          "data": {
            "application/vnd.google.colaboratory.intrinsic+json": {
              "type": "string"
            },
            "text/plain": [
              "'acd9c798-6974-5d2f-a657-ce06e986df4d'"
            ]
          },
          "execution_count": 59,
          "metadata": {},
          "output_type": "execute_result"
        }
      ],
      "source": [
        "software_space_uid = client.software_specifications.get_uid_by_name('tensorflow_rt22.1-py3.9')\n",
        "software_space_uid"
      ]
    },
    {
      "cell_type": "code",
      "execution_count": null,
      "metadata": {
        "id": "devwLcQGGWVB"
      },
      "outputs": [],
      "source": [
        "model_details = client.repository.store_model(model = 'gesture-classification.tgz', meta_props={\n",
        "    client.repository.ModelMetaNames.NAME:\"Gesture\",\n",
        "    client.repository.ModelMetaNames.TYPE:'tensorflow_2.7',\n",
        "    client.repository.ModelMetaNames.SOFTWARE_SPEC_UID:software_space_uid\n",
        "})"
      ]
    },
    {
      "cell_type": "code",
      "execution_count": null,
      "metadata": {
        "colab": {
          "base_uri": "https://localhost:8080/"
        },
        "id": "X7kKrZjFIKht",
        "outputId": "93e93137-f925-4cd5-f55a-3235b30e6456"
      },
      "outputs": [
        {
          "data": {
            "text/plain": [
              "{'entity': {'hybrid_pipeline_software_specs': [],\n",
              "  'software_spec': {'id': 'acd9c798-6974-5d2f-a657-ce06e986df4d',\n",
              "   'name': 'tensorflow_rt22.1-py3.9'},\n",
              "  'type': 'tensorflow_2.7'},\n",
              " 'metadata': {'created_at': '2022-11-20T08:21:19.931Z',\n",
              "  'id': '85d6a971-3ed5-4817-8e5f-6bdd8a2c8e13',\n",
              "  'modified_at': '2022-11-20T08:21:22.705Z',\n",
              "  'name': 'Gesture',\n",
              "  'owner': 'IBMid-66300455BA',\n",
              "  'resource_key': 'b7b7b757-a55b-4ec2-88b3-18ee0f6987ab',\n",
              "  'space_id': '65b9f0bd-7d8b-417a-9775-e7e50a025383'},\n",
              " 'system': {'warnings': []}}"
            ]
          },
          "execution_count": 66,
          "metadata": {},
          "output_type": "execute_result"
        }
      ],
      "source": [
        "model_details"
      ]
    },
    {
      "cell_type": "code",
      "execution_count": null,
      "metadata": {
        "colab": {
          "base_uri": "https://localhost:8080/",
          "height": 35
        },
        "id": "cHSjGKEOIT3w",
        "outputId": "6fa661fd-4e72-4794-bb7b-80eb6aa91acf"
      },
      "outputs": [
        {
          "data": {
            "application/vnd.google.colaboratory.intrinsic+json": {
              "type": "string"
            },
            "text/plain": [
              "'85d6a971-3ed5-4817-8e5f-6bdd8a2c8e13'"
            ]
          },
          "execution_count": 67,
          "metadata": {},
          "output_type": "execute_result"
        }
      ],
      "source": [
        "model_id = client.repository.get_model_id(model_details)\n",
        "model_id"
      ]
    },
    {
      "cell_type": "code",
      "execution_count": null,
      "metadata": {
        "colab": {
          "base_uri": "https://localhost:8080/",
          "height": 53
        },
        "id": "MnYunGBtIhLj",
        "outputId": "f0eedf82-7f8e-4de5-faa1-b645b672a0e0"
      },
      "outputs": [
        {
          "name": "stdout",
          "output_type": "stream",
          "text": [
            "Successfully saved model content to file: 'Gesture.tar.gb'\n"
          ]
        },
        {
          "data": {
            "application/vnd.google.colaboratory.intrinsic+json": {
              "type": "string"
            },
            "text/plain": [
              "'/content/Gesture.tar.gb'"
            ]
          },
          "execution_count": 68,
          "metadata": {},
          "output_type": "execute_result"
        }
      ],
      "source": [
        "client.repository.download(model_id, 'Gesture.tar.gb')"
      ]
    }
  ],
  "metadata": {
    "colab": {
      "provenance": []
    },
    "kernelspec": {
      "display_name": "Python 3",
      "name": "python3"
    },
    "language_info": {
      "name": "python"
    }
  },
  "nbformat": 4,
  "nbformat_minor": 0
}