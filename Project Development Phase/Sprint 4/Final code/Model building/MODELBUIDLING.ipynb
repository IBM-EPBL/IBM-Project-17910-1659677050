{
  "nbformat": 4,
  "nbformat_minor": 0,
  "metadata": {
    "colab": {
      "provenance": []
    },
    "kernelspec": {
      "name": "python3",
      "display_name": "Python 3"
    },
    "language_info": {
      "name": "python"
    }
  },
  "cells": [
    {
      "cell_type": "markdown",
      "source": [
        "#**Data Collection**\n",
        "\n"
      ],
      "metadata": {
        "id": "kPX5aZ14YP9t"
      }
    },
    {
      "cell_type": "code",
      "source": [
        "!unzip '/content/Dataset.zip'"
      ],
      "metadata": {
        "colab": {
          "base_uri": "https://localhost:8080/"
        },
        "id": "vZ2Pxnv_w7IA",
        "outputId": "b5df66ed-0a5e-4e85-cd02-b30b10f6f50f"
      },
      "execution_count": 13,
      "outputs": [
        {
          "output_type": "stream",
          "name": "stdout",
          "text": [
            "Archive:  /content/Dataset.zip\n",
            "  inflating: Dataset/test/1/3.jpg    \n",
            "  inflating: Dataset/test/3/2.jpg    \n",
            "  inflating: Dataset/test/5/1.jpg    \n",
            "  inflating: Dataset/test/2/2.jpg    \n",
            "  inflating: Dataset/test/3/1.jpg    \n",
            "  inflating: Dataset/test/5/2.jpg    \n",
            "  inflating: Dataset/test/5/0.jpg    \n",
            "  inflating: Dataset/test/1/1.jpg    \n",
            "  inflating: Dataset/test/5/4.jpg    \n",
            "  inflating: Dataset/test/0/3.jpg    \n",
            "  inflating: Dataset/test/2/0.jpg    \n",
            "  inflating: Dataset/test/3/3.jpg    \n",
            "  inflating: Dataset/test/0/2.jpg    \n",
            "  inflating: Dataset/test/1/2.jpg    \n",
            "  inflating: Dataset/test/1/4.jpg    \n",
            "  inflating: Dataset/test/4/4.jpg    \n",
            "  inflating: Dataset/test/3/0.jpg    \n",
            "  inflating: Dataset/test/1/0.jpg    \n",
            "  inflating: Dataset/test/3/4.jpg    \n",
            "  inflating: Dataset/test/2/1.jpg    \n",
            "  inflating: Dataset/test/4/2.jpg    \n",
            "  inflating: Dataset/test/5/3.jpg    \n",
            "  inflating: Dataset/test/2/4.jpg    \n",
            "  inflating: Dataset/test/4/3.jpg    \n",
            "  inflating: Dataset/test/0/1.jpg    \n",
            "  inflating: Dataset/test/4/0.jpg    \n",
            "  inflating: Dataset/train/2/91.jpg  \n",
            "  inflating: Dataset/test/0/0.jpg    \n",
            "  inflating: Dataset/train/2/8.jpg   \n",
            "  inflating: Dataset/train/2/95.jpg  \n",
            "  inflating: Dataset/train/2/61.jpg  \n",
            "  inflating: Dataset/train/2/99.jpg  \n",
            "  inflating: Dataset/train/2/83.jpg  \n",
            "  inflating: Dataset/train/2/70.jpg  \n",
            "  inflating: Dataset/test/2/3.jpg    \n",
            "  inflating: Dataset/train/2/82.jpg  \n",
            "  inflating: Dataset/train/2/93.jpg  \n",
            "  inflating: Dataset/train/2/98.jpg  \n",
            "  inflating: Dataset/train/2/88.jpg  \n",
            "  inflating: Dataset/train/2/73.jpg  \n",
            "  inflating: Dataset/test/4/1.jpg    \n",
            "  inflating: Dataset/test/0/4.jpg    \n",
            "  inflating: Dataset/train/2/72.jpg  \n",
            "  inflating: Dataset/train/2/89.jpg  \n",
            "  inflating: Dataset/train/2/65.jpg  \n",
            "  inflating: Dataset/train/2/90.jpg  \n",
            "  inflating: Dataset/train/2/94.jpg  \n",
            "  inflating: Dataset/train/2/71.jpg  \n",
            "  inflating: Dataset/train/2/6.jpg   \n",
            "  inflating: Dataset/train/2/80.jpg  \n",
            "  inflating: Dataset/train/2/49.jpg  \n",
            "  inflating: Dataset/train/2/87.jpg  \n",
            "  inflating: Dataset/train/2/96.jpg  \n",
            "  inflating: Dataset/train/2/86.jpg  \n",
            "  inflating: Dataset/train/2/84.jpg  \n",
            "  inflating: Dataset/train/2/81.jpg  \n",
            "  inflating: Dataset/train/2/62.jpg  \n",
            "  inflating: Dataset/train/2/85.jpg  \n",
            "  inflating: Dataset/train/2/9.jpg   \n",
            "  inflating: Dataset/train/2/92.jpg  \n",
            "  inflating: Dataset/train/2/68.jpg  \n",
            "  inflating: Dataset/train/2/97.jpg  \n",
            "  inflating: Dataset/train/2/51.jpg  \n",
            "  inflating: Dataset/train/2/10.jpg  \n",
            "  inflating: Dataset/train/2/67.jpg  \n",
            "  inflating: Dataset/train/2/75.jpg  \n",
            "  inflating: Dataset/train/2/60.jpg  \n",
            "  inflating: Dataset/train/2/77.jpg  \n",
            "  inflating: Dataset/train/2/47.jpg  \n",
            "  inflating: Dataset/train/2/21.jpg  \n",
            "  inflating: Dataset/train/2/2.jpg   \n",
            "  inflating: Dataset/train/2/17.jpg  \n",
            "  inflating: Dataset/train/2/25.jpg  \n",
            "  inflating: Dataset/train/2/38.jpg  \n",
            "  inflating: Dataset/train/2/74.jpg  \n",
            "  inflating: Dataset/train/2/63.jpg  \n",
            "  inflating: Dataset/train/2/5.jpg   \n",
            "  inflating: Dataset/train/2/1.jpg   \n",
            "  inflating: Dataset/train/2/76.jpg  \n",
            "  inflating: Dataset/train/2/66.jpg  \n",
            "  inflating: Dataset/train/2/3.jpg   \n",
            "  inflating: Dataset/train/2/41.jpg  \n",
            "  inflating: Dataset/train/2/79.jpg  \n",
            "  inflating: Dataset/train/2/27.jpg  \n",
            "  inflating: Dataset/train/2/52.jpg  \n",
            "  inflating: Dataset/train/2/44.jpg  \n",
            "  inflating: Dataset/train/2/69.jpg  \n",
            "  inflating: Dataset/train/2/7.jpg   \n",
            "  inflating: Dataset/train/2/24.jpg  \n",
            "  inflating: Dataset/train/2/14.jpg  \n",
            "  inflating: Dataset/train/2/78.jpg  \n",
            "  inflating: Dataset/train/2/64.jpg  \n",
            "  inflating: Dataset/train/2/54.jpg  \n",
            "  inflating: Dataset/train/2/57.jpg  \n",
            "  inflating: Dataset/train/2/48.jpg  \n",
            "  inflating: Dataset/train/2/39.jpg  \n",
            "  inflating: Dataset/train/2/23.jpg  \n",
            "  inflating: Dataset/train/2/29.jpg  \n",
            "  inflating: Dataset/train/2/42.jpg  \n",
            "  inflating: Dataset/train/2/55.jpg  \n",
            "  inflating: Dataset/train/2/34.jpg  \n",
            "  inflating: Dataset/train/2/31.jpg  \n",
            "  inflating: Dataset/train/4/45.jpg  \n",
            "  inflating: Dataset/train/2/12.jpg  \n",
            "  inflating: Dataset/train/2/59.jpg  \n",
            "  inflating: Dataset/train/2/58.jpg  \n",
            "  inflating: Dataset/train/2/36.jpg  \n",
            "  inflating: Dataset/train/2/37.jpg  \n",
            "  inflating: Dataset/train/4/34.jpg  \n",
            "  inflating: Dataset/train/4/66.jpg  \n",
            "  inflating: Dataset/train/2/16.jpg  \n",
            "  inflating: Dataset/train/2/40.jpg  \n",
            "  inflating: Dataset/train/2/11.jpg  \n",
            "  inflating: Dataset/train/2/46.jpg  \n",
            "  inflating: Dataset/train/2/32.jpg  \n",
            "  inflating: Dataset/train/2/20.jpg  \n",
            "  inflating: Dataset/train/2/4.jpg   \n",
            "  inflating: Dataset/train/2/15.jpg  \n",
            "  inflating: Dataset/train/2/28.jpg  \n",
            "  inflating: Dataset/train/2/33.jpg  \n",
            "  inflating: Dataset/train/2/26.jpg  \n",
            "  inflating: Dataset/train/2/50.jpg  \n",
            "  inflating: Dataset/train/2/43.jpg  \n",
            "  inflating: Dataset/train/4/69.jpg  \n",
            "  inflating: Dataset/train/2/53.jpg  \n",
            "  inflating: Dataset/train/2/19.jpg  \n",
            "  inflating: Dataset/train/2/18.jpg  \n",
            "  inflating: Dataset/train/4/78.jpg  \n",
            "  inflating: Dataset/train/2/13.jpg  \n",
            "  inflating: Dataset/train/2/56.jpg  \n",
            "  inflating: Dataset/train/4/75.jpg  \n",
            "  inflating: Dataset/train/2/35.jpg  \n",
            "  inflating: Dataset/train/4/84.jpg  \n",
            "  inflating: Dataset/train/4/49.jpg  \n",
            "  inflating: Dataset/train/4/33.jpg  \n",
            "  inflating: Dataset/train/4/83.jpg  \n",
            "  inflating: Dataset/train/4/7.jpg   \n",
            "  inflating: Dataset/train/4/88.jpg  \n",
            "  inflating: Dataset/train/4/40.jpg  \n",
            "  inflating: Dataset/train/4/8.jpg   \n",
            "  inflating: Dataset/train/4/94.jpg  \n",
            "  inflating: Dataset/train/4/81.jpg  \n",
            "  inflating: Dataset/train/4/99.jpg  \n",
            "  inflating: Dataset/train/4/42.jpg  \n",
            "  inflating: Dataset/train/4/89.jpg  \n",
            "  inflating: Dataset/train/2/30.jpg  \n",
            "  inflating: Dataset/train/4/36.jpg  \n",
            "  inflating: Dataset/train/4/85.jpg  \n",
            "  inflating: Dataset/train/4/95.jpg  \n",
            "  inflating: Dataset/train/4/9.jpg   \n",
            "  inflating: Dataset/train/4/48.jpg  \n",
            "  inflating: Dataset/train/4/44.jpg  \n",
            "  inflating: Dataset/train/4/41.jpg  \n",
            "  inflating: Dataset/train/4/77.jpg  \n",
            "  inflating: Dataset/train/4/43.jpg  \n",
            "  inflating: Dataset/train/2/45.jpg  \n",
            "  inflating: Dataset/train/4/38.jpg  \n",
            "  inflating: Dataset/train/4/5.jpg   \n",
            "  inflating: Dataset/train/4/97.jpg  \n",
            "  inflating: Dataset/train/4/82.jpg  \n",
            "  inflating: Dataset/train/4/93.jpg  \n",
            "  inflating: Dataset/train/4/54.jpg  \n",
            "  inflating: Dataset/train/4/68.jpg  \n",
            "  inflating: Dataset/train/4/87.jpg  \n",
            "  inflating: Dataset/train/4/35.jpg  \n",
            "  inflating: Dataset/train/4/79.jpg  \n",
            "  inflating: Dataset/train/2/22.jpg  \n",
            "  inflating: Dataset/train/4/47.jpg  \n",
            "  inflating: Dataset/train/4/74.jpg  \n",
            "  inflating: Dataset/train/4/50.jpg  \n",
            "  inflating: Dataset/train/4/72.jpg  \n",
            "  inflating: Dataset/train/4/70.jpg  \n",
            "  inflating: Dataset/train/4/39.jpg  \n",
            "  inflating: Dataset/train/4/52.jpg  \n",
            "  inflating: Dataset/train/4/58.jpg  \n",
            "  inflating: Dataset/train/4/6.jpg   \n",
            "  inflating: Dataset/train/4/64.jpg  \n",
            "  inflating: Dataset/train/5/17.jpg  \n",
            "  inflating: Dataset/train/4/91.jpg  \n",
            "  inflating: Dataset/train/4/90.jpg  \n",
            "  inflating: Dataset/train/4/67.jpg  \n",
            "  inflating: Dataset/train/4/46.jpg  \n",
            "  inflating: Dataset/train/4/53.jpg  \n",
            "  inflating: Dataset/train/4/37.jpg  \n",
            "  inflating: Dataset/train/4/71.jpg  \n",
            "  inflating: Dataset/train/4/86.jpg  \n",
            "  inflating: Dataset/train/4/60.jpg  \n",
            "  inflating: Dataset/train/4/11.jpg  \n",
            "  inflating: Dataset/train/4/51.jpg  \n",
            "  inflating: Dataset/train/4/92.jpg  \n",
            "  inflating: Dataset/train/4/57.jpg  \n",
            "  inflating: Dataset/train/4/59.jpg  \n",
            "  inflating: Dataset/train/4/63.jpg  \n",
            "  inflating: Dataset/train/4/73.jpg  \n",
            "  inflating: Dataset/train/5/91.jpg  \n",
            "  inflating: Dataset/train/4/98.jpg  \n",
            "  inflating: Dataset/train/5/83.jpg  \n",
            "  inflating: Dataset/train/4/12.jpg  \n",
            "  inflating: Dataset/train/4/55.jpg  \n",
            "  inflating: Dataset/train/4/76.jpg  \n",
            "  inflating: Dataset/train/5/42.jpg  \n",
            "  inflating: Dataset/train/5/19.jpg  \n",
            "  inflating: Dataset/train/5/84.jpg  \n",
            "  inflating: Dataset/train/5/50.jpg  \n",
            "  inflating: Dataset/train/4/80.jpg  \n",
            "  inflating: Dataset/train/4/17.jpg  \n",
            "  inflating: Dataset/train/4/32.jpg  \n",
            "  inflating: Dataset/train/4/2.jpg   \n",
            "  inflating: Dataset/train/4/61.jpg  \n",
            "  inflating: Dataset/train/4/56.jpg  \n",
            "  inflating: Dataset/train/4/62.jpg  \n",
            "  inflating: Dataset/train/5/35.jpg  \n",
            "  inflating: Dataset/train/4/3.jpg   \n",
            "  inflating: Dataset/train/5/6.jpg   \n",
            "  inflating: Dataset/train/4/16.jpg  \n",
            "  inflating: Dataset/train/4/14.jpg  \n",
            "  inflating: Dataset/train/5/15.jpg  \n",
            "  inflating: Dataset/train/4/65.jpg  \n",
            "  inflating: Dataset/train/5/23.jpg  \n",
            "  inflating: Dataset/train/5/11.jpg  \n",
            "  inflating: Dataset/train/5/86.jpg  \n",
            "  inflating: Dataset/train/5/99.jpg  \n",
            "  inflating: Dataset/train/5/85.jpg  \n",
            "  inflating: Dataset/train/4/4.jpg   \n",
            "  inflating: Dataset/train/4/19.jpg  \n",
            "  inflating: Dataset/train/4/96.jpg  \n",
            "  inflating: Dataset/train/5/79.jpg  \n",
            "  inflating: Dataset/train/4/25.jpg  \n",
            "  inflating: Dataset/train/4/28.jpg  \n",
            "  inflating: Dataset/train/5/96.jpg  \n",
            "  inflating: Dataset/train/5/37.jpg  \n",
            "  inflating: Dataset/train/3/49.jpg  \n",
            "  inflating: Dataset/train/3/27.jpg  \n",
            "  inflating: Dataset/train/4/15.jpg  \n",
            "  inflating: Dataset/train/3/35.jpg  \n",
            "  inflating: Dataset/train/4/26.jpg  \n",
            "  inflating: Dataset/train/3/17.jpg  \n",
            "  inflating: Dataset/train/5/90.jpg  \n",
            "  inflating: Dataset/train/4/23.jpg  \n",
            "  inflating: Dataset/train/5/97.jpg  \n",
            "  inflating: Dataset/train/4/24.jpg  \n",
            "  inflating: Dataset/train/5/36.jpg  \n",
            "  inflating: Dataset/train/5/95.jpg  \n",
            "  inflating: Dataset/train/4/29.jpg  \n",
            "  inflating: Dataset/train/5/45.jpg  \n",
            "  inflating: Dataset/train/4/18.jpg  \n",
            "  inflating: Dataset/train/4/13.jpg  \n",
            "  inflating: Dataset/train/4/22.jpg  \n",
            "  inflating: Dataset/train/5/93.jpg  \n",
            "  inflating: Dataset/train/5/13.jpg  \n",
            "  inflating: Dataset/train/4/30.jpg  \n",
            "  inflating: Dataset/train/5/18.jpg  \n",
            "  inflating: Dataset/train/4/10.jpg  \n",
            "  inflating: Dataset/train/4/21.jpg  \n",
            "  inflating: Dataset/train/3/86.jpg  \n",
            "  inflating: Dataset/train/3/24.jpg  \n",
            "  inflating: Dataset/train/5/46.jpg  \n",
            "  inflating: Dataset/train/5/22.jpg  \n",
            "  inflating: Dataset/train/4/1.jpg   \n",
            "  inflating: Dataset/train/5/4.jpg   \n",
            "  inflating: Dataset/train/3/19.jpg  \n",
            "  inflating: Dataset/train/3/66.jpg  \n",
            "  inflating: Dataset/train/5/32.jpg  \n",
            "  inflating: Dataset/train/5/98.jpg  \n",
            "  inflating: Dataset/train/5/78.jpg  \n",
            "  inflating: Dataset/train/4/27.jpg  \n",
            "  inflating: Dataset/train/5/41.jpg  \n",
            "  inflating: Dataset/train/5/2.jpg   \n",
            "  inflating: Dataset/train/3/28.jpg  \n",
            "  inflating: Dataset/train/5/59.jpg  \n",
            "  inflating: Dataset/train/5/26.jpg  \n",
            "  inflating: Dataset/train/3/20.jpg  \n",
            "  inflating: Dataset/train/4/20.jpg  \n",
            "  inflating: Dataset/train/3/53.jpg  \n",
            "  inflating: Dataset/train/3/40.jpg  \n",
            "  inflating: Dataset/train/3/81.jpg  \n",
            "  inflating: Dataset/train/5/67.jpg  \n",
            "  inflating: Dataset/train/5/58.jpg  \n",
            "  inflating: Dataset/train/3/12.jpg  \n",
            "  inflating: Dataset/train/4/31.jpg  \n",
            "  inflating: Dataset/train/5/40.jpg  \n",
            "  inflating: Dataset/train/5/44.jpg  \n",
            "  inflating: Dataset/train/3/77.jpg  \n",
            "  inflating: Dataset/train/5/57.jpg  \n",
            "  inflating: Dataset/train/3/33.jpg  \n",
            "  inflating: Dataset/train/5/9.jpg   \n",
            "  inflating: Dataset/train/3/22.jpg  \n",
            "  inflating: Dataset/train/3/89.jpg  \n",
            "  inflating: Dataset/train/3/7.jpg   \n",
            "  inflating: Dataset/train/5/87.jpg  \n",
            "  inflating: Dataset/train/5/7.jpg   \n",
            "  inflating: Dataset/train/5/20.jpg  \n",
            "  inflating: Dataset/train/3/26.jpg  \n",
            "  inflating: Dataset/train/5/52.jpg  \n",
            "  inflating: Dataset/train/5/29.jpg  \n",
            "  inflating: Dataset/train/5/75.jpg  \n",
            "  inflating: Dataset/train/3/34.jpg  \n",
            "  inflating: Dataset/train/5/43.jpg  \n",
            "  inflating: Dataset/train/5/3.jpg   \n",
            "  inflating: Dataset/train/3/85.jpg  \n",
            "  inflating: Dataset/train/3/67.jpg  \n",
            "  inflating: Dataset/train/5/30.jpg  \n",
            "  inflating: Dataset/train/5/53.jpg  \n",
            "  inflating: Dataset/train/5/51.jpg  \n",
            "  inflating: Dataset/train/3/18.jpg  \n",
            "  inflating: Dataset/train/3/48.jpg  \n",
            "  inflating: Dataset/train/3/94.jpg  \n",
            "  inflating: Dataset/train/3/46.jpg  \n",
            "  inflating: Dataset/train/5/34.jpg  \n",
            "  inflating: Dataset/train/3/80.jpg  \n",
            "  inflating: Dataset/train/3/14.jpg  \n",
            "  inflating: Dataset/train/5/64.jpg  \n",
            "  inflating: Dataset/train/3/74.jpg  \n",
            "  inflating: Dataset/train/5/70.jpg  \n",
            "  inflating: Dataset/train/5/80.jpg  \n",
            "  inflating: Dataset/train/3/1.jpg   \n",
            "  inflating: Dataset/train/3/51.jpg  \n",
            "  inflating: Dataset/train/3/57.jpg  \n",
            "  inflating: Dataset/train/5/63.jpg  \n",
            "  inflating: Dataset/train/5/68.jpg  \n",
            "  inflating: Dataset/train/5/14.jpg  \n",
            "  inflating: Dataset/train/3/90.jpg  \n",
            "  inflating: Dataset/train/5/60.jpg  \n",
            "  inflating: Dataset/train/3/75.jpg  \n",
            "  inflating: Dataset/train/3/88.jpg  \n",
            "  inflating: Dataset/train/3/30.jpg  \n",
            "  inflating: Dataset/train/3/4.jpg   \n",
            "  inflating: Dataset/train/5/38.jpg  \n",
            "  inflating: Dataset/train/5/1.jpg   \n",
            "  inflating: Dataset/train/5/61.jpg  \n",
            "  inflating: Dataset/train/5/48.jpg  \n",
            "  inflating: Dataset/train/5/47.jpg  \n",
            "  inflating: Dataset/train/3/70.jpg  \n",
            "  inflating: Dataset/train/5/28.jpg  \n",
            "  inflating: Dataset/train/5/62.jpg  \n",
            "  inflating: Dataset/train/5/94.jpg  \n",
            "  inflating: Dataset/train/3/45.jpg  \n",
            "  inflating: Dataset/train/5/27.jpg  \n",
            "  inflating: Dataset/train/5/12.jpg  \n",
            "  inflating: Dataset/train/5/81.jpg  \n",
            "  inflating: Dataset/train/5/89.jpg  \n",
            "  inflating: Dataset/train/5/71.jpg  \n",
            "  inflating: Dataset/train/5/82.jpg  \n",
            "  inflating: Dataset/train/3/2.jpg   \n",
            "  inflating: Dataset/train/3/91.jpg  \n",
            "  inflating: Dataset/train/3/96.jpg  \n",
            "  inflating: Dataset/train/3/79.jpg  \n",
            "  inflating: Dataset/train/5/56.jpg  \n",
            "  inflating: Dataset/train/5/92.jpg  \n",
            "  inflating: Dataset/train/3/31.jpg  \n",
            "  inflating: Dataset/train/5/8.jpg   \n",
            "  inflating: Dataset/train/5/66.jpg  \n",
            "  inflating: Dataset/train/3/55.jpg  \n",
            "  inflating: Dataset/train/3/41.jpg  \n",
            "  inflating: Dataset/train/5/25.jpg  \n",
            "  inflating: Dataset/train/5/21.jpg  \n",
            "  inflating: Dataset/train/3/32.jpg  \n",
            "  inflating: Dataset/train/3/78.jpg  \n",
            "  inflating: Dataset/train/5/77.jpg  \n",
            "  inflating: Dataset/train/5/76.jpg  \n",
            "  inflating: Dataset/train/3/64.jpg  \n",
            "  inflating: Dataset/train/3/68.jpg  \n",
            "  inflating: Dataset/train/5/88.jpg  \n",
            "  inflating: Dataset/train/3/9.jpg   \n",
            "  inflating: Dataset/train/3/43.jpg  \n",
            "  inflating: Dataset/train/3/84.jpg  \n",
            "  inflating: Dataset/train/3/36.jpg  \n",
            "  inflating: Dataset/train/5/55.jpg  \n",
            "  inflating: Dataset/train/5/69.jpg  \n",
            "  inflating: Dataset/train/3/8.jpg   \n",
            "  inflating: Dataset/train/3/83.jpg  \n",
            "  inflating: Dataset/train/5/74.jpg  \n",
            "  inflating: Dataset/train/3/95.jpg  \n",
            "  inflating: Dataset/train/5/24.jpg  \n",
            "  inflating: Dataset/train/3/93.jpg  \n",
            "  inflating: Dataset/train/3/71.jpg  \n",
            "  inflating: Dataset/train/3/99.jpg  \n",
            "  inflating: Dataset/train/3/3.jpg   \n",
            "  inflating: Dataset/train/5/16.jpg  \n",
            "  inflating: Dataset/train/3/37.jpg  \n",
            "  inflating: Dataset/train/3/59.jpg  \n",
            "  inflating: Dataset/train/5/39.jpg  \n",
            "  inflating: Dataset/train/3/5.jpg   \n",
            "  inflating: Dataset/train/3/50.jpg  \n",
            "  inflating: Dataset/train/5/72.jpg  \n",
            "  inflating: Dataset/train/3/13.jpg  \n",
            "  inflating: Dataset/train/3/42.jpg  \n",
            "  inflating: Dataset/train/3/39.jpg  \n",
            "  inflating: Dataset/train/5/54.jpg  \n",
            "  inflating: Dataset/train/3/65.jpg  \n",
            "  inflating: Dataset/train/3/60.jpg  \n",
            "  inflating: Dataset/train/3/98.jpg  \n",
            "  inflating: Dataset/train/5/33.jpg  \n",
            "  inflating: Dataset/train/5/5.jpg   \n",
            "  inflating: Dataset/train/3/87.jpg  \n",
            "  inflating: Dataset/train/3/97.jpg  \n",
            "  inflating: Dataset/train/3/29.jpg  \n",
            "  inflating: Dataset/train/3/16.jpg  \n",
            "  inflating: Dataset/train/5/73.jpg  \n",
            "  inflating: Dataset/train/3/72.jpg  \n",
            "  inflating: Dataset/train/5/65.jpg  \n",
            "  inflating: Dataset/train/5/49.jpg  \n",
            "  inflating: Dataset/train/3/47.jpg  \n",
            "  inflating: Dataset/train/5/31.jpg  \n",
            "  inflating: Dataset/train/3/25.jpg  \n",
            "  inflating: Dataset/train/3/63.jpg  \n",
            "  inflating: Dataset/train/1/76.jpg  \n",
            "  inflating: Dataset/train/3/52.jpg  \n",
            "  inflating: Dataset/train/3/69.jpg  \n",
            "  inflating: Dataset/train/1/61.jpg  \n",
            "  inflating: Dataset/train/3/82.jpg  \n",
            "  inflating: Dataset/train/3/92.jpg  \n",
            "  inflating: Dataset/train/1/50.jpg  \n",
            "  inflating: Dataset/train/0/2.jpg   \n",
            "  inflating: Dataset/train/3/6.jpg   \n",
            "  inflating: Dataset/train/3/56.jpg  \n",
            "  inflating: Dataset/train/3/73.jpg  \n",
            "  inflating: Dataset/train/1/93.jpg  \n",
            "  inflating: Dataset/train/1/56.jpg  \n",
            "  inflating: Dataset/train/0/36.jpg  \n",
            "  inflating: Dataset/train/1/52.jpg  \n",
            "  inflating: Dataset/train/3/76.jpg  \n",
            "  inflating: Dataset/train/3/11.jpg  \n",
            "  inflating: Dataset/train/3/58.jpg  \n",
            "  inflating: Dataset/train/1/58.jpg  \n",
            "  inflating: Dataset/train/3/10.jpg  \n",
            "  inflating: Dataset/train/3/23.jpg  \n",
            "  inflating: Dataset/train/1/95.jpg  \n",
            "  inflating: Dataset/train/1/72.jpg  \n",
            "  inflating: Dataset/train/1/91.jpg  \n",
            "  inflating: Dataset/train/0/63.jpg  \n",
            "  inflating: Dataset/train/1/86.jpg  \n",
            "  inflating: Dataset/train/3/38.jpg  \n",
            "  inflating: Dataset/train/0/75.jpg  \n",
            "  inflating: Dataset/train/3/44.jpg  \n",
            "  inflating: Dataset/train/1/8.jpg   \n",
            "  inflating: Dataset/train/3/21.jpg  \n",
            "  inflating: Dataset/train/1/53.jpg  \n",
            "  inflating: Dataset/train/5/10.jpg  \n",
            "  inflating: Dataset/train/0/62.jpg  \n",
            "  inflating: Dataset/train/1/67.jpg  \n",
            "  inflating: Dataset/train/1/7.jpg   \n",
            "  inflating: Dataset/train/1/65.jpg  \n",
            "  inflating: Dataset/train/3/54.jpg  \n",
            "  inflating: Dataset/train/3/15.jpg  \n",
            "  inflating: Dataset/train/3/61.jpg  \n",
            "  inflating: Dataset/train/3/62.jpg  \n",
            "  inflating: Dataset/train/1/63.jpg  \n",
            "  inflating: Dataset/train/0/90.jpg  \n",
            "  inflating: Dataset/train/0/39.jpg  \n",
            "  inflating: Dataset/train/1/78.jpg  \n",
            "  inflating: Dataset/train/0/34.jpg  \n",
            "  inflating: Dataset/train/0/23.jpg  \n",
            "  inflating: Dataset/train/1/77.jpg  \n",
            "  inflating: Dataset/train/0/29.jpg  \n",
            "  inflating: Dataset/train/1/69.jpg  \n",
            "  inflating: Dataset/train/0/38.jpg  \n",
            "  inflating: Dataset/train/1/81.jpg  \n",
            "  inflating: Dataset/train/0/32.jpg  \n",
            "  inflating: Dataset/train/1/60.jpg  \n",
            "  inflating: Dataset/train/0/70.jpg  \n",
            "  inflating: Dataset/train/1/79.jpg  \n",
            "  inflating: Dataset/train/0/41.jpg  \n",
            "  inflating: Dataset/train/0/56.jpg  \n",
            "  inflating: Dataset/train/1/6.jpg   \n",
            "  inflating: Dataset/train/0/66.jpg  \n",
            "  inflating: Dataset/train/0/78.jpg  \n",
            "  inflating: Dataset/train/1/98.jpg  \n",
            "  inflating: Dataset/train/0/61.jpg  \n",
            "  inflating: Dataset/train/0/33.jpg  \n",
            "  inflating: Dataset/train/1/55.jpg  \n",
            "  inflating: Dataset/train/0/20.jpg  \n",
            "  inflating: Dataset/train/1/94.jpg  \n",
            "  inflating: Dataset/train/1/89.jpg  \n",
            "  inflating: Dataset/train/1/92.jpg  \n",
            "  inflating: Dataset/train/0/46.jpg  \n",
            "  inflating: Dataset/train/1/71.jpg  \n",
            "  inflating: Dataset/train/1/73.jpg  \n",
            "  inflating: Dataset/train/1/75.jpg  \n",
            "  inflating: Dataset/train/1/59.jpg  \n",
            "  inflating: Dataset/train/0/22.jpg  \n",
            "  inflating: Dataset/train/0/21.jpg  \n",
            "  inflating: Dataset/train/0/31.jpg  \n",
            "  inflating: Dataset/train/1/96.jpg  \n",
            "  inflating: Dataset/train/0/19.jpg  \n",
            "  inflating: Dataset/train/0/44.jpg  \n",
            "  inflating: Dataset/train/1/80.jpg  \n",
            "  inflating: Dataset/train/1/87.jpg  \n",
            "  inflating: Dataset/train/1/64.jpg  \n",
            "  inflating: Dataset/train/0/96.jpg  \n",
            "  inflating: Dataset/train/1/49.jpg  \n",
            "  inflating: Dataset/train/1/54.jpg  \n",
            "  inflating: Dataset/train/0/48.jpg  \n",
            "  inflating: Dataset/train/1/62.jpg  \n",
            "  inflating: Dataset/train/1/5.jpg   \n",
            "  inflating: Dataset/train/1/97.jpg  \n",
            "  inflating: Dataset/train/1/57.jpg  \n",
            "  inflating: Dataset/train/0/35.jpg  \n",
            "  inflating: Dataset/train/1/68.jpg  \n",
            "  inflating: Dataset/train/0/64.jpg  \n",
            "  inflating: Dataset/train/0/42.jpg  \n",
            "  inflating: Dataset/train/1/9.jpg   \n",
            "  inflating: Dataset/train/1/82.jpg  \n",
            "  inflating: Dataset/train/1/85.jpg  \n",
            "  inflating: Dataset/train/0/28.jpg  \n",
            "  inflating: Dataset/train/0/85.jpg  \n",
            "  inflating: Dataset/train/0/49.jpg  \n",
            "  inflating: Dataset/train/1/66.jpg  \n",
            "  inflating: Dataset/train/1/74.jpg  \n",
            "  inflating: Dataset/train/0/99.jpg  \n",
            "  inflating: Dataset/train/1/83.jpg  \n",
            "  inflating: Dataset/train/0/89.jpg  \n",
            "  inflating: Dataset/train/1/51.jpg  \n",
            "  inflating: Dataset/train/0/83.jpg  \n",
            "  inflating: Dataset/train/1/29.jpg  \n",
            "  inflating: Dataset/train/0/80.jpg  \n",
            "  inflating: Dataset/train/1/70.jpg  \n",
            "  inflating: Dataset/train/1/88.jpg  \n",
            "  inflating: Dataset/train/0/84.jpg  \n",
            "  inflating: Dataset/train/1/35.jpg  \n",
            "  inflating: Dataset/train/0/7.jpg   \n",
            "  inflating: Dataset/train/0/82.jpg  \n",
            "  inflating: Dataset/train/0/74.jpg  \n",
            "  inflating: Dataset/train/1/90.jpg  \n",
            "  inflating: Dataset/train/1/84.jpg  \n",
            "  inflating: Dataset/train/0/37.jpg  \n",
            "  inflating: Dataset/train/0/92.jpg  \n",
            "  inflating: Dataset/train/0/98.jpg  \n",
            "  inflating: Dataset/train/1/30.jpg  \n",
            "  inflating: Dataset/train/1/2.jpg   \n",
            "  inflating: Dataset/train/1/20.jpg  \n",
            "  inflating: Dataset/train/1/41.jpg  \n",
            "  inflating: Dataset/train/1/22.jpg  \n",
            "  inflating: Dataset/train/1/99.jpg  \n",
            "  inflating: Dataset/train/0/30.jpg  \n",
            "  inflating: Dataset/train/0/52.jpg  \n",
            "  inflating: Dataset/train/1/37.jpg  \n",
            "  inflating: Dataset/train/1/1.jpg   \n",
            "  inflating: Dataset/train/0/86.jpg  \n",
            "  inflating: Dataset/train/1/13.jpg  \n",
            "  inflating: Dataset/train/0/53.jpg  \n",
            "  inflating: Dataset/train/0/59.jpg  \n",
            "  inflating: Dataset/train/1/47.jpg  \n",
            "  inflating: Dataset/train/0/77.jpg  \n",
            "  inflating: Dataset/train/1/27.jpg  \n",
            "  inflating: Dataset/train/1/43.jpg  \n",
            "  inflating: Dataset/train/1/42.jpg  \n",
            "  inflating: Dataset/train/1/26.jpg  \n",
            "  inflating: Dataset/train/1/12.jpg  \n",
            "  inflating: Dataset/train/1/16.jpg  \n",
            "  inflating: Dataset/train/1/40.jpg  \n",
            "  inflating: Dataset/train/0/68.jpg  \n",
            "  inflating: Dataset/train/0/24.jpg  \n",
            "  inflating: Dataset/train/0/43.jpg  \n",
            "  inflating: Dataset/train/0/54.jpg  \n",
            "  inflating: Dataset/train/1/36.jpg  \n",
            "  inflating: Dataset/train/1/32.jpg  \n",
            "  inflating: Dataset/train/0/57.jpg  \n",
            "  inflating: Dataset/train/0/58.jpg  \n",
            "  inflating: Dataset/train/1/48.jpg  \n",
            "  inflating: Dataset/train/0/95.jpg  \n",
            "  inflating: Dataset/train/1/38.jpg  \n",
            "  inflating: Dataset/train/0/47.jpg  \n",
            "  inflating: Dataset/train/0/9.jpg   \n",
            "  inflating: Dataset/train/1/28.jpg  \n",
            "  inflating: Dataset/train/0/27.jpg  \n",
            "  inflating: Dataset/train/0/91.jpg  \n",
            "  inflating: Dataset/train/0/87.jpg  \n",
            "  inflating: Dataset/train/1/15.jpg  \n",
            "  inflating: Dataset/train/0/65.jpg  \n",
            "  inflating: Dataset/train/0/69.jpg  \n",
            "  inflating: Dataset/train/1/21.jpg  \n",
            "  inflating: Dataset/train/0/79.jpg  \n",
            "  inflating: Dataset/train/0/5.jpg   \n",
            "  inflating: Dataset/train/1/44.jpg  \n",
            "  inflating: Dataset/train/1/45.jpg  \n",
            "  inflating: Dataset/train/0/50.jpg  \n",
            "  inflating: Dataset/train/1/34.jpg  \n",
            "  inflating: Dataset/train/1/46.jpg  \n",
            "  inflating: Dataset/train/0/6.jpg   \n",
            "  inflating: Dataset/train/1/17.jpg  \n",
            "  inflating: Dataset/train/0/81.jpg  \n",
            "  inflating: Dataset/train/0/67.jpg  \n",
            "  inflating: Dataset/train/1/3.jpg   \n",
            "  inflating: Dataset/train/0/26.jpg  \n",
            "  inflating: Dataset/train/1/39.jpg  \n",
            "  inflating: Dataset/train/0/40.jpg  \n",
            "  inflating: Dataset/train/0/73.jpg  \n",
            "  inflating: Dataset/train/0/25.jpg  \n",
            "  inflating: Dataset/train/0/71.jpg  \n",
            "  inflating: Dataset/train/0/55.jpg  \n",
            "  inflating: Dataset/train/0/88.jpg  \n",
            "  inflating: Dataset/train/0/76.jpg  \n",
            "  inflating: Dataset/train/0/4.jpg   \n",
            "  inflating: Dataset/train/1/14.jpg  \n",
            "  inflating: Dataset/train/0/10.jpg  \n",
            "  inflating: Dataset/train/0/18.jpg  \n",
            "  inflating: Dataset/train/0/45.jpg  \n",
            "  inflating: Dataset/train/1/18.jpg  \n",
            "  inflating: Dataset/train/0/17.jpg  \n",
            "  inflating: Dataset/train/1/4.jpg   \n",
            "  inflating: Dataset/train/0/93.jpg  \n",
            "  inflating: Dataset/train/0/8.jpg   \n",
            "  inflating: Dataset/train/1/25.jpg  \n",
            "  inflating: Dataset/train/0/12.jpg  \n",
            "  inflating: Dataset/train/0/94.jpg  \n",
            "  inflating: Dataset/train/1/33.jpg  \n",
            "  inflating: Dataset/train/1/31.jpg  \n",
            "  inflating: Dataset/train/1/10.jpg  \n",
            "  inflating: Dataset/train/0/60.jpg  \n",
            "  inflating: Dataset/train/0/3.jpg   \n",
            "  inflating: Dataset/train/1/19.jpg  \n",
            "  inflating: Dataset/train/1/23.jpg  \n",
            "  inflating: Dataset/train/0/1.jpg   \n",
            "  inflating: Dataset/train/1/24.jpg  \n",
            "  inflating: Dataset/train/0/14.jpg  \n",
            "  inflating: Dataset/train/0/72.jpg  \n",
            "  inflating: Dataset/train/1/11.jpg  \n",
            "  inflating: Dataset/train/0/13.jpg  \n",
            "  inflating: Dataset/train/0/16.jpg  \n",
            "  inflating: Dataset/train/0/15.jpg  \n",
            "  inflating: Dataset/train/0/11.jpg  \n",
            "  inflating: Dataset/train/0/97.jpg  \n",
            "  inflating: Dataset/train/0/51.jpg  \n"
          ]
        }
      ]
    },
    {
      "cell_type": "code",
      "execution_count": 14,
      "metadata": {
        "id": "23gnmUDjPHcn"
      },
      "outputs": [],
      "source": [
        "from keras.preprocessing.image import ImageDataGenerator\n"
      ]
    },
    {
      "cell_type": "markdown",
      "source": [
        "#Define the parameters/arguments for ImageDataGenertor Class"
      ],
      "metadata": {
        "id": "9_wVJNqaTF6T"
      }
    },
    {
      "cell_type": "code",
      "source": [
        "train_datagen=ImageDataGenerator(rescale=1./255,shear_range=0.2,zoom_range=0.2,horizontal_flip=True)\n"
      ],
      "metadata": {
        "id": "y-Hwg0qdSrL1"
      },
      "execution_count": 15,
      "outputs": []
    },
    {
      "cell_type": "markdown",
      "source": [
        "#Applying ImageDataGenerator functionality to trainset and testset"
      ],
      "metadata": {
        "id": "j__3wTwNTWKu"
      }
    },
    {
      "cell_type": "code",
      "source": [
        "train_datagen=ImageDataGenerator(rescale=1./255,shear_range=0.2,zoom_range=0.2,horizontal_flip=True)\n",
        "test_datagen=ImageDataGenerator(rescale=1./255)"
      ],
      "metadata": {
        "id": "y1viqu5YTEej"
      },
      "execution_count": 16,
      "outputs": []
    },
    {
      "cell_type": "code",
      "source": [
        "x_train=train_datagen.flow_from_directory(r'/content/Dataset/train',target_size=(64,64),batch_size=32,color_mode='grayscale',class_mode='categorical')\n",
        "x_test=train_datagen.flow_from_directory(r'/content/Dataset/test',target_size=(64,64),batch_size=32,color_mode='grayscale',class_mode='categorical')\n"
      ],
      "metadata": {
        "colab": {
          "base_uri": "https://localhost:8080/"
        },
        "id": "Hla59CojT94s",
        "outputId": "af69807d-5698-4867-a309-96a2915fdd74"
      },
      "execution_count": 17,
      "outputs": [
        {
          "output_type": "stream",
          "name": "stdout",
          "text": [
            "Found 594 images belonging to 6 classes.\n",
            "Found 30 images belonging to 6 classes.\n"
          ]
        }
      ]
    },
    {
      "cell_type": "markdown",
      "source": [
        "#**Model Building**"
      ],
      "metadata": {
        "id": "76dtTiGIZCKf"
      }
    },
    {
      "cell_type": "markdown",
      "source": [
        "\n",
        "#Importing necessary libraries\n",
        "\n",
        "\n",
        "\n",
        "\n"
      ],
      "metadata": {
        "id": "uxUR_1DSYxkR"
      }
    },
    {
      "cell_type": "code",
      "source": [
        "import numpy as np\n",
        "import tensorflow\n",
        "from tensorflow.keras.models import Sequential\n",
        "from keras.models import Model\n",
        "from tensorflow.keras import layers\n",
        "from tensorflow.keras.layers import Dense,Flatten\n",
        "from tensorflow.keras.layers import Conv2D,MaxPooling2D"
      ],
      "metadata": {
        "id": "9KXUu-J0ZHsj"
      },
      "execution_count": 18,
      "outputs": []
    },
    {
      "cell_type": "markdown",
      "source": [
        "#Initializing The Model"
      ],
      "metadata": {
        "id": "HEW-uxdYaBQt"
      }
    },
    {
      "cell_type": "code",
      "source": [
        "model=Sequential()"
      ],
      "metadata": {
        "id": "64EIru-_aF48"
      },
      "execution_count": 19,
      "outputs": []
    },
    {
      "cell_type": "markdown",
      "source": [
        "#Adding CNN Layers"
      ],
      "metadata": {
        "id": "Pb-TwLItaM4M"
      }
    },
    {
      "cell_type": "code",
      "source": [
        "model.add(Conv2D(32,(3,3),input_shape=(64,64,1),activation='relu'))\n",
        "model.add(MaxPooling2D(pool_size=(2,2)))\n",
        "model.add(Conv2D(32,(3,3),activation='relu'))\n",
        "model.add(MaxPooling2D(pool_size=(2,2)))\n",
        "model.add(Flatten())"
      ],
      "metadata": {
        "id": "j5yg0WTVaQtu"
      },
      "execution_count": 20,
      "outputs": []
    },
    {
      "cell_type": "markdown",
      "source": [
        "#Adding Dense Layer"
      ],
      "metadata": {
        "id": "JerNUaB71YCl"
      }
    },
    {
      "cell_type": "code",
      "source": [
        "model.add(Dense(units=128,activation='relu'))\n",
        "model.add(Dense(units=6,activation='softmax'))"
      ],
      "metadata": {
        "id": "oJNRaP421bD_"
      },
      "execution_count": 21,
      "outputs": []
    },
    {
      "cell_type": "code",
      "source": [
        "model.summary()"
      ],
      "metadata": {
        "colab": {
          "base_uri": "https://localhost:8080/"
        },
        "id": "uwiO4qwA1qBw",
        "outputId": "b3b869ad-4117-46cd-c092-0031cf2a4e0d"
      },
      "execution_count": 22,
      "outputs": [
        {
          "output_type": "stream",
          "name": "stdout",
          "text": [
            "Model: \"sequential\"\n",
            "_________________________________________________________________\n",
            " Layer (type)                Output Shape              Param #   \n",
            "=================================================================\n",
            " conv2d (Conv2D)             (None, 62, 62, 32)        320       \n",
            "                                                                 \n",
            " max_pooling2d (MaxPooling2D  (None, 31, 31, 32)       0         \n",
            " )                                                               \n",
            "                                                                 \n",
            " conv2d_1 (Conv2D)           (None, 29, 29, 32)        9248      \n",
            "                                                                 \n",
            " max_pooling2d_1 (MaxPooling  (None, 14, 14, 32)       0         \n",
            " 2D)                                                             \n",
            "                                                                 \n",
            " flatten (Flatten)           (None, 6272)              0         \n",
            "                                                                 \n",
            " dense (Dense)               (None, 128)               802944    \n",
            "                                                                 \n",
            " dense_1 (Dense)             (None, 6)                 774       \n",
            "                                                                 \n",
            "=================================================================\n",
            "Total params: 813,286\n",
            "Trainable params: 813,286\n",
            "Non-trainable params: 0\n",
            "_________________________________________________________________\n"
          ]
        }
      ]
    },
    {
      "cell_type": "markdown",
      "source": [
        "#Configure The Learning Process"
      ],
      "metadata": {
        "id": "fVPRdq-i16Nw"
      }
    },
    {
      "cell_type": "code",
      "source": [
        "#Compiling the model\n",
        "model.compile(optimizer='adam',loss='categorical_crossentropy',metrics=['accuracy'])"
      ],
      "metadata": {
        "id": "ek3mgv_Y15mO"
      },
      "execution_count": 23,
      "outputs": []
    },
    {
      "cell_type": "markdown",
      "source": [
        "#Train The Model"
      ],
      "metadata": {
        "id": "K4ps1zNd2YEi"
      }
    },
    {
      "cell_type": "code",
      "source": [
        "#Fitting the model\n",
        "model.fit_generator(\n",
        "    generator=x_train,steps_per_epoch=len(x_train),\n",
        "    epochs=20,validation_data=x_test,validation_steps=len(x_test))"
      ],
      "metadata": {
        "colab": {
          "base_uri": "https://localhost:8080/"
        },
        "id": "0H-314Un2aMi",
        "outputId": "1c1c8972-de8b-4847-cf5b-24d549f8df36"
      },
      "execution_count": 31,
      "outputs": [
        {
          "output_type": "stream",
          "name": "stdout",
          "text": [
            "Epoch 1/20\n"
          ]
        },
        {
          "output_type": "stream",
          "name": "stderr",
          "text": [
            "/usr/local/lib/python3.7/dist-packages/ipykernel_launcher.py:4: UserWarning: `Model.fit_generator` is deprecated and will be removed in a future version. Please use `Model.fit`, which supports generators.\n",
            "  after removing the cwd from sys.path.\n"
          ]
        },
        {
          "output_type": "stream",
          "name": "stdout",
          "text": [
            "19/19 [==============================] - 3s 156ms/step - loss: 0.0883 - accuracy: 0.9596 - val_loss: 0.3286 - val_accuracy: 0.9333\n",
            "Epoch 2/20\n",
            "19/19 [==============================] - 3s 144ms/step - loss: 0.1322 - accuracy: 0.9512 - val_loss: 0.1710 - val_accuracy: 0.9333\n",
            "Epoch 3/20\n",
            "19/19 [==============================] - 3s 144ms/step - loss: 0.1502 - accuracy: 0.9579 - val_loss: 0.2703 - val_accuracy: 0.9333\n",
            "Epoch 4/20\n",
            "19/19 [==============================] - 3s 147ms/step - loss: 0.0786 - accuracy: 0.9781 - val_loss: 0.2235 - val_accuracy: 0.9333\n",
            "Epoch 5/20\n",
            "19/19 [==============================] - 5s 254ms/step - loss: 0.0595 - accuracy: 0.9832 - val_loss: 0.1873 - val_accuracy: 0.9667\n",
            "Epoch 6/20\n",
            "19/19 [==============================] - 5s 264ms/step - loss: 0.0710 - accuracy: 0.9747 - val_loss: 0.2577 - val_accuracy: 0.9333\n",
            "Epoch 7/20\n",
            "19/19 [==============================] - 3s 145ms/step - loss: 0.0494 - accuracy: 0.9815 - val_loss: 0.3026 - val_accuracy: 0.9333\n",
            "Epoch 8/20\n",
            "19/19 [==============================] - 3s 146ms/step - loss: 0.0335 - accuracy: 0.9882 - val_loss: 0.1815 - val_accuracy: 0.9667\n",
            "Epoch 9/20\n",
            "19/19 [==============================] - 3s 146ms/step - loss: 0.0390 - accuracy: 0.9865 - val_loss: 0.2256 - val_accuracy: 0.9333\n",
            "Epoch 10/20\n",
            "19/19 [==============================] - 3s 144ms/step - loss: 0.0305 - accuracy: 0.9899 - val_loss: 0.1717 - val_accuracy: 0.9333\n",
            "Epoch 11/20\n",
            "19/19 [==============================] - 3s 145ms/step - loss: 0.0380 - accuracy: 0.9882 - val_loss: 0.3013 - val_accuracy: 0.9333\n",
            "Epoch 12/20\n",
            "19/19 [==============================] - 3s 144ms/step - loss: 0.0203 - accuracy: 0.9983 - val_loss: 0.2290 - val_accuracy: 0.9333\n",
            "Epoch 13/20\n",
            "19/19 [==============================] - 3s 144ms/step - loss: 0.0284 - accuracy: 0.9916 - val_loss: 0.2708 - val_accuracy: 0.9333\n",
            "Epoch 14/20\n",
            "19/19 [==============================] - 3s 144ms/step - loss: 0.0195 - accuracy: 0.9966 - val_loss: 0.2356 - val_accuracy: 0.9667\n",
            "Epoch 15/20\n",
            "19/19 [==============================] - 3s 144ms/step - loss: 0.0247 - accuracy: 0.9949 - val_loss: 0.2590 - val_accuracy: 0.9667\n",
            "Epoch 16/20\n",
            "19/19 [==============================] - 3s 143ms/step - loss: 0.0337 - accuracy: 0.9882 - val_loss: 0.2046 - val_accuracy: 0.9667\n",
            "Epoch 17/20\n",
            "19/19 [==============================] - 3s 143ms/step - loss: 0.0134 - accuracy: 0.9966 - val_loss: 0.1648 - val_accuracy: 0.9667\n",
            "Epoch 18/20\n",
            "19/19 [==============================] - 3s 144ms/step - loss: 0.0205 - accuracy: 0.9983 - val_loss: 0.4223 - val_accuracy: 0.9000\n",
            "Epoch 19/20\n",
            "19/19 [==============================] - 3s 184ms/step - loss: 0.0184 - accuracy: 0.9949 - val_loss: 0.2076 - val_accuracy: 0.9667\n",
            "Epoch 20/20\n",
            "19/19 [==============================] - 4s 212ms/step - loss: 0.0191 - accuracy: 0.9933 - val_loss: 0.2471 - val_accuracy: 0.9333\n"
          ]
        },
        {
          "output_type": "execute_result",
          "data": {
            "text/plain": [
              "<keras.callbacks.History at 0x7ff285603cd0>"
            ]
          },
          "metadata": {},
          "execution_count": 31
        }
      ]
    },
    {
      "cell_type": "markdown",
      "source": [
        "#Save The Model"
      ],
      "metadata": {
        "id": "8CphdsL93Xkn"
      }
    },
    {
      "cell_type": "code",
      "source": [
        "#Saving our model\n",
        "model.save('gesture.h5')\n",
        "model_json=model.to_json()\n",
        "with open(\"model-bw.json\",\"w\") as json_file:\n",
        "  json_file.write(model_json)"
      ],
      "metadata": {
        "id": "toBEihDo3ava"
      },
      "execution_count": 32,
      "outputs": []
    },
    {
      "cell_type": "markdown",
      "source": [
        "#Test The Model"
      ],
      "metadata": {
        "id": "ikPl7AAB3_7Q"
      }
    },
    {
      "cell_type": "code",
      "source": [
        "import numpy as np\n",
        "from tensorflow.keras.models import load_model\n",
        "from tensorflow.keras.preprocessing import image\n",
        "test_model=load_model('gesture.h5')"
      ],
      "metadata": {
        "id": "7reG-hSOKmCR"
      },
      "execution_count": 33,
      "outputs": []
    },
    {
      "cell_type": "code",
      "source": [
        "img=image.load_img('/content/Dataset/test/3/3.jpg',target_size=(64,64))\n",
        "x=image.img_to_array(img)\n",
        "x=np.expand_dims(x,axis=0)\n",
        "predict_x=(model.predict(x_test)>0.5).astype(\"int64\")\n",
        "pred=np.argmax(predict_x,axis=-1)\n",
        "pred"
      ],
      "metadata": {
        "colab": {
          "base_uri": "https://localhost:8080/"
        },
        "id": "SJh4JoE8KwTe",
        "outputId": "9c6fc799-fcbe-43fe-fd9c-1dff77269bca"
      },
      "execution_count": 37,
      "outputs": [
        {
          "output_type": "stream",
          "name": "stdout",
          "text": [
            "1/1 [==============================] - 0s 92ms/step\n"
          ]
        },
        {
          "output_type": "execute_result",
          "data": {
            "text/plain": [
              "array([3, 5, 1, 0, 4, 1, 0, 1, 3, 3, 2, 5, 0, 1, 1, 0, 2, 5, 4, 3, 2, 3,\n",
              "       3, 4, 0, 5, 1, 4, 5, 2])"
            ]
          },
          "metadata": {},
          "execution_count": 37
        }
      ]
    },
    {
      "cell_type": "code",
      "source": [
        "img=image.load_img('/content/Dataset/test/4/2.jpg',target_size=(64,64))\n",
        "x=image.img_to_array(img)\n",
        "x=np.expand_dims(x,axis=0)\n",
        "predict_x=model.predict(x_test)\n",
        "classes_x=np.argmax(predict_x,axis=1)\n",
        "classes_x\n",
        "predict_x"
      ],
      "metadata": {
        "id": "B64y9zlMLqbI",
        "colab": {
          "base_uri": "https://localhost:8080/"
        },
        "outputId": "b2302d53-637d-4007-c949-6a3518965b46"
      },
      "execution_count": 38,
      "outputs": [
        {
          "output_type": "stream",
          "name": "stdout",
          "text": [
            "1/1 [==============================] - 0s 100ms/step\n"
          ]
        },
        {
          "output_type": "execute_result",
          "data": {
            "text/plain": [
              "array([[6.30566326e-04, 9.98306751e-01, 1.06113288e-03, 1.43960017e-06,\n",
              "        3.75283051e-12, 4.04442495e-12],\n",
              "       [4.52351196e-05, 9.99655366e-01, 2.93559046e-04, 5.80538881e-06,\n",
              "        1.90221224e-11, 2.83837336e-14],\n",
              "       [7.46023469e-12, 1.14258634e-18, 4.30053887e-13, 1.29719386e-02,\n",
              "        9.87022460e-01, 5.65516621e-06],\n",
              "       [2.03079461e-23, 6.46422305e-31, 2.42607540e-25, 2.51031004e-15,\n",
              "        3.66114143e-08, 9.99999940e-01],\n",
              "       [9.34402058e-31, 1.01784102e-32, 1.32221506e-22, 1.40412652e-13,\n",
              "        1.62101330e-07, 9.99999821e-01],\n",
              "       [1.48083997e-12, 2.71114823e-05, 9.99816179e-01, 1.56897033e-04,\n",
              "        4.76667143e-12, 3.57463364e-10],\n",
              "       [3.49121166e-07, 9.98946369e-01, 1.05310662e-03, 1.97743333e-07,\n",
              "        6.98312339e-13, 1.21902811e-15],\n",
              "       [3.26295302e-16, 4.32767430e-17, 3.34128315e-11, 1.17914476e-01,\n",
              "        8.81827831e-01, 2.57662265e-04],\n",
              "       [5.96396641e-23, 4.30954743e-33, 3.82422695e-26, 1.25717414e-15,\n",
              "        2.67656519e-09, 9.99999940e-01],\n",
              "       [3.23528238e-20, 3.47311006e-20, 1.72024298e-12, 2.50456668e-03,\n",
              "        9.97314930e-01, 1.80651536e-04],\n",
              "       [1.86906460e-14, 1.66298017e-10, 1.38712674e-03, 6.01110160e-01,\n",
              "        5.35641760e-02, 3.43938529e-01],\n",
              "       [1.86470454e-04, 9.99659181e-01, 1.53215791e-04, 1.02404476e-06,\n",
              "        3.03172120e-13, 2.17759095e-16],\n",
              "       [2.47691899e-22, 6.65244757e-20, 7.72354403e-12, 2.77836272e-03,\n",
              "        9.96662319e-01, 5.59214677e-04],\n",
              "       [2.38405086e-12, 4.28089115e-05, 9.99853373e-01, 1.03860475e-04,\n",
              "        8.81724194e-10, 1.14511547e-12],\n",
              "       [2.79416308e-05, 9.99674559e-01, 2.97437829e-04, 7.97144111e-08,\n",
              "        1.91432877e-15, 4.27824265e-17],\n",
              "       [1.70683453e-20, 9.60136067e-20, 3.88428981e-13, 9.58923039e-08,\n",
              "        1.90916171e-06, 9.99997914e-01],\n",
              "       [7.63376721e-14, 1.65207936e-08, 9.99915779e-01, 8.42110603e-05,\n",
              "        1.36790820e-13, 3.34996584e-14],\n",
              "       [2.98769017e-12, 2.06908095e-04, 9.96336460e-01, 3.45588243e-03,\n",
              "        5.41632573e-07, 7.56362795e-08],\n",
              "       [9.99999940e-01, 5.37444568e-12, 1.06377296e-13, 5.60893332e-09,\n",
              "        2.87171481e-10, 2.60294941e-09],\n",
              "       [8.11821618e-15, 1.17156380e-13, 1.38425326e-04, 9.99765396e-01,\n",
              "        9.61444675e-05, 2.43717754e-11],\n",
              "       [1.40416724e-22, 2.06451168e-28, 1.70781018e-20, 3.15682203e-11,\n",
              "        6.57731016e-06, 9.99993384e-01],\n",
              "       [9.99999940e-01, 1.59966953e-11, 1.06955100e-09, 2.49466794e-08,\n",
              "        7.84523280e-11, 1.36960498e-10],\n",
              "       [2.96032797e-14, 7.24726355e-12, 1.80161279e-03, 9.98034656e-01,\n",
              "        1.63699908e-04, 1.08300480e-08],\n",
              "       [9.62378506e-13, 7.13881536e-13, 4.95594759e-05, 9.99653101e-01,\n",
              "        2.97351187e-04, 6.73622824e-10],\n",
              "       [9.99999046e-01, 3.50614771e-18, 7.45677726e-16, 2.80085057e-08,\n",
              "        9.99780582e-07, 4.08118345e-10],\n",
              "       [1.00000000e+00, 5.04412673e-16, 3.17433108e-17, 1.34056145e-12,\n",
              "        1.71738700e-11, 5.62944205e-11],\n",
              "       [5.35778003e-04, 9.97095585e-01, 2.35793390e-03, 1.06888438e-05,\n",
              "        3.12939948e-14, 5.44211927e-18],\n",
              "       [3.64295276e-15, 1.94928058e-12, 1.97988260e-03, 9.97779787e-01,\n",
              "        2.40151741e-04, 2.37999075e-07],\n",
              "       [1.00000000e+00, 6.99633537e-12, 1.51150522e-13, 6.03274319e-10,\n",
              "        5.18191956e-12, 3.51397947e-13],\n",
              "       [2.45445415e-17, 7.93275450e-24, 1.54325490e-14, 1.22883031e-03,\n",
              "        9.98755336e-01, 1.58898292e-05]], dtype=float32)"
            ]
          },
          "metadata": {},
          "execution_count": 38
        }
      ]
    },
    {
      "cell_type": "code",
      "source": [
        "import matplotlib.pyplot as plt\n",
        "import matplotlib.image as mpimg\n",
        "img=mpimg.imread('/content/Dataset/test/4/0.jpg')\n",
        "imgplot=plt.imshow(img)\n",
        "plt.show()"
      ],
      "metadata": {
        "colab": {
          "base_uri": "https://localhost:8080/",
          "height": 269
        },
        "id": "blMt4nu43uiN",
        "outputId": "340dfa53-67c9-4889-e865-e8ccae85cbff"
      },
      "execution_count": 39,
      "outputs": [
        {
          "output_type": "display_data",
          "data": {
            "text/plain": [
              "<Figure size 432x288 with 1 Axes>"
            ],
            "image/png": "[encoded data removed]"
          },
          "metadata": {
            "needs_background": "light"
          }
        }
      ]
    },
    {
      "cell_type": "code",
      "source": [
        "imgload=image.load_img('/content/Dataset/test/1/4.jpg',color_mode='grayscale',target_size=(64,64))\n",
        "res=image.img_to_array(imgload)\n",
        "res.shape\n"
      ],
      "metadata": {
        "colab": {
          "base_uri": "https://localhost:8080/"
        },
        "id": "rW7teJku4J_z",
        "outputId": "bf10e9e4-f22f-4d28-dec4-34070aac413a"
      },
      "execution_count": 40,
      "outputs": [
        {
          "output_type": "execute_result",
          "data": {
            "text/plain": [
              "(64, 64, 1)"
            ]
          },
          "metadata": {},
          "execution_count": 40
        }
      ]
    },
    {
      "cell_type": "code",
      "source": [
        "type(res)"
      ],
      "metadata": {
        "colab": {
          "base_uri": "https://localhost:8080/"
        },
        "id": "uFWju0VH46ik",
        "outputId": "fc39e71c-44e1-43d5-afdf-1674a6d2a1ad"
      },
      "execution_count": 41,
      "outputs": [
        {
          "output_type": "execute_result",
          "data": {
            "text/plain": [
              "numpy.ndarray"
            ]
          },
          "metadata": {},
          "execution_count": 41
        }
      ]
    },
    {
      "cell_type": "code",
      "source": [
        "res=np.expand_dims(res,axis=0)\n",
        "res.shape"
      ],
      "metadata": {
        "colab": {
          "base_uri": "https://localhost:8080/"
        },
        "id": "jo8JrHo64_dL",
        "outputId": "03c52c35-9352-41d1-9da4-22441bac7273"
      },
      "execution_count": 42,
      "outputs": [
        {
          "output_type": "execute_result",
          "data": {
            "text/plain": [
              "(1, 64, 64, 1)"
            ]
          },
          "metadata": {},
          "execution_count": 42
        }
      ]
    },
    {
      "cell_type": "markdown",
      "source": [
        "#Predict the result"
      ],
      "metadata": {
        "id": "f221slgW5N52"
      }
    },
    {
      "cell_type": "code",
      "source": [
        "pred_res=np.argmax(test_model.predict(res),axis=-1)\n",
        "pred_res"
      ],
      "metadata": {
        "id": "3_To6REQ5M5s",
        "colab": {
          "base_uri": "https://localhost:8080/"
        },
        "outputId": "f8ea8c89-fcbd-4093-8aeb-bd9089460f43"
      },
      "execution_count": 43,
      "outputs": [
        {
          "output_type": "stream",
          "name": "stdout",
          "text": [
            "1/1 [==============================] - 0s 72ms/step\n"
          ]
        },
        {
          "output_type": "execute_result",
          "data": {
            "text/plain": [
              "array([1])"
            ]
          },
          "metadata": {},
          "execution_count": 43
        }
      ]
    },
    {
      "cell_type": "code",
      "source": [
        "index=['0','1','2','3','4','5']\n",
        "result=str(index[pred_res[0]])\n",
        "result"
      ],
      "metadata": {
        "id": "xI45qOZtdZ0Q",
        "colab": {
          "base_uri": "https://localhost:8080/",
          "height": 35
        },
        "outputId": "c8b429c6-7877-46b3-9d4b-ade96f4b8e83"
      },
      "execution_count": 44,
      "outputs": [
        {
          "output_type": "execute_result",
          "data": {
            "text/plain": [
              "'1'"
            ],
            "application/vnd.google.colaboratory.intrinsic+json": {
              "type": "string"
            }
          },
          "metadata": {},
          "execution_count": 44
        }
      ]
    },
    {
      "cell_type": "code",
      "source": [],
      "metadata": {
        "id": "VK2ido6-RLbH"
      },
      "execution_count": null,
      "outputs": []
    }
  ]
}