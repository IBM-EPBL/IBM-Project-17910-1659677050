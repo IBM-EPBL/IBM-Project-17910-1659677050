{
  "nbformat": 4,
  "nbformat_minor": 0,
  "metadata": {
    "colab": {
      "provenance": []
    },
    "kernelspec": {
      "name": "python3",
      "display_name": "Python 3"
    },
    "language_info": {
      "name": "python"
    }
  },
  "cells": [
    {
      "cell_type": "code",
      "execution_count": 1,
      "metadata": {
        "id": "23gnmUDjPHcn"
      },
      "outputs": [],
      "source": [
        "from keras.preprocessing.image import ImageDataGenerator\n"
      ]
    },
    {
      "cell_type": "markdown",
      "source": [
        "#Define the parameters/arguments for ImageDataGenertor Class"
      ],
      "metadata": {
        "id": "9_wVJNqaTF6T"
      }
    },
    {
      "cell_type": "code",
      "source": [
        "train_datagen=ImageDataGenerator(rescale=1./255,shear_range=0.2,zoom_range=0.2,horizontal_flip=True)\n"
      ],
      "metadata": {
        "id": "y-Hwg0qdSrL1"
      },
      "execution_count": 3,
      "outputs": []
    },
    {
      "cell_type": "markdown",
      "source": [
        "#Applying ImageDataGenerator functionality to trainset and testset"
      ],
      "metadata": {
        "id": "j__3wTwNTWKu"
      }
    },
    {
      "cell_type": "code",
      "source": [
        "train_datagen=ImageDataGenerator(rescale=1./255,shear_range=0.2,zoom_range=0.2,horizontal_flip=True)\n",
        "test_datagen=ImageDataGenerator(rescale=1./255)"
      ],
      "metadata": {
        "id": "y1viqu5YTEej"
      },
      "execution_count": 4,
      "outputs": []
    },
    {
      "cell_type": "code",
      "source": [
        "x_train=train_datagen.flow_from_directory(r'/content/drive/MyDrive/Dataset/test',target_size=(64,64),batch_size=32,color_mode='grayscale',class_mode='categorical')\n",
        "x_test=train_datagen.flow_from_directory(r'/content/drive/MyDrive/Dataset/train',target_size=(64,64),batch_size=32,color_mode='grayscale',class_mode='categorical')\n"
      ],
      "metadata": {
        "colab": {
          "base_uri": "https://localhost:8080/"
        },
        "id": "Hla59CojT94s",
        "outputId": "0a4d1641-8420-47fe-c2f5-03fec2d330e0"
      },
      "execution_count": 9,
      "outputs": [
        {
          "output_type": "stream",
          "name": "stdout",
          "text": [
            "Found 30 images belonging to 6 classes.\n",
            "Found 594 images belonging to 6 classes.\n"
          ]
        }
      ]
    }
  ]
}